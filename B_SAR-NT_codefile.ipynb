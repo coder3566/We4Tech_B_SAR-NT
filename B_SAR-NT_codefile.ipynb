{
  "nbformat": 4,
  "nbformat_minor": 0,
  "metadata": {
    "colab": {
      "name": "LoanPrediction_We4tech_12(Final_version).ipynb",
      "provenance": [],
      "collapsed_sections": []
    },
    "kernelspec": {
      "name": "python3",
      "display_name": "Python 3"
    },
    "language_info": {
      "name": "python"
    }
  },
  "cells": [
    {
      "cell_type": "markdown",
      "source": [
        "**Loan Prediction**"
      ],
      "metadata": {
        "id": "z06SupzNBKlh"
      }
    },
    {
      "cell_type": "code",
      "execution_count": 13,
      "metadata": {
        "id": "yNPfJp0dQIs2"
      },
      "outputs": [],
      "source": [
        "import pandas as pd\n",
        "import numpy as np\n",
        "import seaborn as sns\n",
        "import matplotlib.pyplot as plt\n",
        "%matplotlib inline\n",
        "import warnings\n",
        "\n"
      ]
    },
    {
      "cell_type": "markdown",
      "source": [
        "**Reading data**"
      ],
      "metadata": {
        "id": "oSbh44A68rqe"
      }
    },
    {
      "cell_type": "code",
      "source": [
        "train = pd.read_csv('/content/train_ctrUa4K.csv')\n",
        "train.head()"
      ],
      "metadata": {
        "colab": {
          "base_uri": "https://localhost:8080/",
          "height": 288
        },
        "id": "T9lPUdCaQbPX",
        "outputId": "f719ad25-522b-4fca-a9d3-adcccc24ad9f"
      },
      "execution_count": 14,
      "outputs": [
        {
          "output_type": "execute_result",
          "data": {
            "text/html": [
              "\n",
              "  <div id=\"df-7992c112-1e72-4716-ba0c-8b4cd2a6db6a\">\n",
              "    <div class=\"colab-df-container\">\n",
              "      <div>\n",
              "<style scoped>\n",
              "    .dataframe tbody tr th:only-of-type {\n",
              "        vertical-align: middle;\n",
              "    }\n",
              "\n",
              "    .dataframe tbody tr th {\n",
              "        vertical-align: top;\n",
              "    }\n",
              "\n",
              "    .dataframe thead th {\n",
              "        text-align: right;\n",
              "    }\n",
              "</style>\n",
              "<table border=\"1\" class=\"dataframe\">\n",
              "  <thead>\n",
              "    <tr style=\"text-align: right;\">\n",
              "      <th></th>\n",
              "      <th>Loan_ID</th>\n",
              "      <th>Gender</th>\n",
              "      <th>Married</th>\n",
              "      <th>Dependents</th>\n",
              "      <th>Education</th>\n",
              "      <th>Self_Employed</th>\n",
              "      <th>ApplicantIncome</th>\n",
              "      <th>CoapplicantIncome</th>\n",
              "      <th>LoanAmount</th>\n",
              "      <th>Loan_Amount_Term</th>\n",
              "      <th>Credit_History</th>\n",
              "      <th>Property_Area</th>\n",
              "      <th>Loan_Status</th>\n",
              "    </tr>\n",
              "  </thead>\n",
              "  <tbody>\n",
              "    <tr>\n",
              "      <th>0</th>\n",
              "      <td>LP001002</td>\n",
              "      <td>Male</td>\n",
              "      <td>No</td>\n",
              "      <td>0</td>\n",
              "      <td>Graduate</td>\n",
              "      <td>No</td>\n",
              "      <td>5849</td>\n",
              "      <td>0.0</td>\n",
              "      <td>NaN</td>\n",
              "      <td>360.0</td>\n",
              "      <td>1.0</td>\n",
              "      <td>Urban</td>\n",
              "      <td>Y</td>\n",
              "    </tr>\n",
              "    <tr>\n",
              "      <th>1</th>\n",
              "      <td>LP001003</td>\n",
              "      <td>Male</td>\n",
              "      <td>Yes</td>\n",
              "      <td>1</td>\n",
              "      <td>Graduate</td>\n",
              "      <td>No</td>\n",
              "      <td>4583</td>\n",
              "      <td>1508.0</td>\n",
              "      <td>128.0</td>\n",
              "      <td>360.0</td>\n",
              "      <td>1.0</td>\n",
              "      <td>Rural</td>\n",
              "      <td>N</td>\n",
              "    </tr>\n",
              "    <tr>\n",
              "      <th>2</th>\n",
              "      <td>LP001005</td>\n",
              "      <td>Male</td>\n",
              "      <td>Yes</td>\n",
              "      <td>0</td>\n",
              "      <td>Graduate</td>\n",
              "      <td>Yes</td>\n",
              "      <td>3000</td>\n",
              "      <td>0.0</td>\n",
              "      <td>66.0</td>\n",
              "      <td>360.0</td>\n",
              "      <td>1.0</td>\n",
              "      <td>Urban</td>\n",
              "      <td>Y</td>\n",
              "    </tr>\n",
              "    <tr>\n",
              "      <th>3</th>\n",
              "      <td>LP001006</td>\n",
              "      <td>Male</td>\n",
              "      <td>Yes</td>\n",
              "      <td>0</td>\n",
              "      <td>Not Graduate</td>\n",
              "      <td>No</td>\n",
              "      <td>2583</td>\n",
              "      <td>2358.0</td>\n",
              "      <td>120.0</td>\n",
              "      <td>360.0</td>\n",
              "      <td>1.0</td>\n",
              "      <td>Urban</td>\n",
              "      <td>Y</td>\n",
              "    </tr>\n",
              "    <tr>\n",
              "      <th>4</th>\n",
              "      <td>LP001008</td>\n",
              "      <td>Male</td>\n",
              "      <td>No</td>\n",
              "      <td>0</td>\n",
              "      <td>Graduate</td>\n",
              "      <td>No</td>\n",
              "      <td>6000</td>\n",
              "      <td>0.0</td>\n",
              "      <td>141.0</td>\n",
              "      <td>360.0</td>\n",
              "      <td>1.0</td>\n",
              "      <td>Urban</td>\n",
              "      <td>Y</td>\n",
              "    </tr>\n",
              "  </tbody>\n",
              "</table>\n",
              "</div>\n",
              "      <button class=\"colab-df-convert\" onclick=\"convertToInteractive('df-7992c112-1e72-4716-ba0c-8b4cd2a6db6a')\"\n",
              "              title=\"Convert this dataframe to an interactive table.\"\n",
              "              style=\"display:none;\">\n",
              "        \n",
              "  <svg xmlns=\"http://www.w3.org/2000/svg\" height=\"24px\"viewBox=\"0 0 24 24\"\n",
              "       width=\"24px\">\n",
              "    <path d=\"M0 0h24v24H0V0z\" fill=\"none\"/>\n",
              "    <path d=\"M18.56 5.44l.94 2.06.94-2.06 2.06-.94-2.06-.94-.94-2.06-.94 2.06-2.06.94zm-11 1L8.5 8.5l.94-2.06 2.06-.94-2.06-.94L8.5 2.5l-.94 2.06-2.06.94zm10 10l.94 2.06.94-2.06 2.06-.94-2.06-.94-.94-2.06-.94 2.06-2.06.94z\"/><path d=\"M17.41 7.96l-1.37-1.37c-.4-.4-.92-.59-1.43-.59-.52 0-1.04.2-1.43.59L10.3 9.45l-7.72 7.72c-.78.78-.78 2.05 0 2.83L4 21.41c.39.39.9.59 1.41.59.51 0 1.02-.2 1.41-.59l7.78-7.78 2.81-2.81c.8-.78.8-2.07 0-2.86zM5.41 20L4 18.59l7.72-7.72 1.47 1.35L5.41 20z\"/>\n",
              "  </svg>\n",
              "      </button>\n",
              "      \n",
              "  <style>\n",
              "    .colab-df-container {\n",
              "      display:flex;\n",
              "      flex-wrap:wrap;\n",
              "      gap: 12px;\n",
              "    }\n",
              "\n",
              "    .colab-df-convert {\n",
              "      background-color: #E8F0FE;\n",
              "      border: none;\n",
              "      border-radius: 50%;\n",
              "      cursor: pointer;\n",
              "      display: none;\n",
              "      fill: #1967D2;\n",
              "      height: 32px;\n",
              "      padding: 0 0 0 0;\n",
              "      width: 32px;\n",
              "    }\n",
              "\n",
              "    .colab-df-convert:hover {\n",
              "      background-color: #E2EBFA;\n",
              "      box-shadow: 0px 1px 2px rgba(60, 64, 67, 0.3), 0px 1px 3px 1px rgba(60, 64, 67, 0.15);\n",
              "      fill: #174EA6;\n",
              "    }\n",
              "\n",
              "    [theme=dark] .colab-df-convert {\n",
              "      background-color: #3B4455;\n",
              "      fill: #D2E3FC;\n",
              "    }\n",
              "\n",
              "    [theme=dark] .colab-df-convert:hover {\n",
              "      background-color: #434B5C;\n",
              "      box-shadow: 0px 1px 3px 1px rgba(0, 0, 0, 0.15);\n",
              "      filter: drop-shadow(0px 1px 2px rgba(0, 0, 0, 0.3));\n",
              "      fill: #FFFFFF;\n",
              "    }\n",
              "  </style>\n",
              "\n",
              "      <script>\n",
              "        const buttonEl =\n",
              "          document.querySelector('#df-7992c112-1e72-4716-ba0c-8b4cd2a6db6a button.colab-df-convert');\n",
              "        buttonEl.style.display =\n",
              "          google.colab.kernel.accessAllowed ? 'block' : 'none';\n",
              "\n",
              "        async function convertToInteractive(key) {\n",
              "          const element = document.querySelector('#df-7992c112-1e72-4716-ba0c-8b4cd2a6db6a');\n",
              "          const dataTable =\n",
              "            await google.colab.kernel.invokeFunction('convertToInteractive',\n",
              "                                                     [key], {});\n",
              "          if (!dataTable) return;\n",
              "\n",
              "          const docLinkHtml = 'Like what you see? Visit the ' +\n",
              "            '<a target=\"_blank\" href=https://colab.research.google.com/notebooks/data_table.ipynb>data table notebook</a>'\n",
              "            + ' to learn more about interactive tables.';\n",
              "          element.innerHTML = '';\n",
              "          dataTable['output_type'] = 'display_data';\n",
              "          await google.colab.output.renderOutput(dataTable, element);\n",
              "          const docLink = document.createElement('div');\n",
              "          docLink.innerHTML = docLinkHtml;\n",
              "          element.appendChild(docLink);\n",
              "        }\n",
              "      </script>\n",
              "    </div>\n",
              "  </div>\n",
              "  "
            ],
            "text/plain": [
              "    Loan_ID Gender Married  ... Credit_History Property_Area Loan_Status\n",
              "0  LP001002   Male      No  ...            1.0         Urban           Y\n",
              "1  LP001003   Male     Yes  ...            1.0         Rural           N\n",
              "2  LP001005   Male     Yes  ...            1.0         Urban           Y\n",
              "3  LP001006   Male     Yes  ...            1.0         Urban           Y\n",
              "4  LP001008   Male      No  ...            1.0         Urban           Y\n",
              "\n",
              "[5 rows x 13 columns]"
            ]
          },
          "metadata": {},
          "execution_count": 14
        }
      ]
    },
    {
      "cell_type": "code",
      "source": [
        "test = pd.read_csv('/content/test_lAUu6dG.csv')\n",
        "test.head()"
      ],
      "metadata": {
        "colab": {
          "base_uri": "https://localhost:8080/",
          "height": 250
        },
        "id": "GuYtbw7eRHLE",
        "outputId": "fdcac322-9f71-479f-fdd0-ccdd33872107"
      },
      "execution_count": 15,
      "outputs": [
        {
          "output_type": "execute_result",
          "data": {
            "text/html": [
              "\n",
              "  <div id=\"df-7a3648fe-6449-4f8f-9b86-09d5ad677668\">\n",
              "    <div class=\"colab-df-container\">\n",
              "      <div>\n",
              "<style scoped>\n",
              "    .dataframe tbody tr th:only-of-type {\n",
              "        vertical-align: middle;\n",
              "    }\n",
              "\n",
              "    .dataframe tbody tr th {\n",
              "        vertical-align: top;\n",
              "    }\n",
              "\n",
              "    .dataframe thead th {\n",
              "        text-align: right;\n",
              "    }\n",
              "</style>\n",
              "<table border=\"1\" class=\"dataframe\">\n",
              "  <thead>\n",
              "    <tr style=\"text-align: right;\">\n",
              "      <th></th>\n",
              "      <th>Loan_ID</th>\n",
              "      <th>Gender</th>\n",
              "      <th>Married</th>\n",
              "      <th>Dependents</th>\n",
              "      <th>Education</th>\n",
              "      <th>Self_Employed</th>\n",
              "      <th>ApplicantIncome</th>\n",
              "      <th>CoapplicantIncome</th>\n",
              "      <th>LoanAmount</th>\n",
              "      <th>Loan_Amount_Term</th>\n",
              "      <th>Credit_History</th>\n",
              "      <th>Property_Area</th>\n",
              "    </tr>\n",
              "  </thead>\n",
              "  <tbody>\n",
              "    <tr>\n",
              "      <th>0</th>\n",
              "      <td>LP001015</td>\n",
              "      <td>Male</td>\n",
              "      <td>Yes</td>\n",
              "      <td>0</td>\n",
              "      <td>Graduate</td>\n",
              "      <td>No</td>\n",
              "      <td>5720</td>\n",
              "      <td>0</td>\n",
              "      <td>110.0</td>\n",
              "      <td>360.0</td>\n",
              "      <td>1.0</td>\n",
              "      <td>Urban</td>\n",
              "    </tr>\n",
              "    <tr>\n",
              "      <th>1</th>\n",
              "      <td>LP001022</td>\n",
              "      <td>Male</td>\n",
              "      <td>Yes</td>\n",
              "      <td>1</td>\n",
              "      <td>Graduate</td>\n",
              "      <td>No</td>\n",
              "      <td>3076</td>\n",
              "      <td>1500</td>\n",
              "      <td>126.0</td>\n",
              "      <td>360.0</td>\n",
              "      <td>1.0</td>\n",
              "      <td>Urban</td>\n",
              "    </tr>\n",
              "    <tr>\n",
              "      <th>2</th>\n",
              "      <td>LP001031</td>\n",
              "      <td>Male</td>\n",
              "      <td>Yes</td>\n",
              "      <td>2</td>\n",
              "      <td>Graduate</td>\n",
              "      <td>No</td>\n",
              "      <td>5000</td>\n",
              "      <td>1800</td>\n",
              "      <td>208.0</td>\n",
              "      <td>360.0</td>\n",
              "      <td>1.0</td>\n",
              "      <td>Urban</td>\n",
              "    </tr>\n",
              "    <tr>\n",
              "      <th>3</th>\n",
              "      <td>LP001035</td>\n",
              "      <td>Male</td>\n",
              "      <td>Yes</td>\n",
              "      <td>2</td>\n",
              "      <td>Graduate</td>\n",
              "      <td>No</td>\n",
              "      <td>2340</td>\n",
              "      <td>2546</td>\n",
              "      <td>100.0</td>\n",
              "      <td>360.0</td>\n",
              "      <td>NaN</td>\n",
              "      <td>Urban</td>\n",
              "    </tr>\n",
              "    <tr>\n",
              "      <th>4</th>\n",
              "      <td>LP001051</td>\n",
              "      <td>Male</td>\n",
              "      <td>No</td>\n",
              "      <td>0</td>\n",
              "      <td>Not Graduate</td>\n",
              "      <td>No</td>\n",
              "      <td>3276</td>\n",
              "      <td>0</td>\n",
              "      <td>78.0</td>\n",
              "      <td>360.0</td>\n",
              "      <td>1.0</td>\n",
              "      <td>Urban</td>\n",
              "    </tr>\n",
              "  </tbody>\n",
              "</table>\n",
              "</div>\n",
              "      <button class=\"colab-df-convert\" onclick=\"convertToInteractive('df-7a3648fe-6449-4f8f-9b86-09d5ad677668')\"\n",
              "              title=\"Convert this dataframe to an interactive table.\"\n",
              "              style=\"display:none;\">\n",
              "        \n",
              "  <svg xmlns=\"http://www.w3.org/2000/svg\" height=\"24px\"viewBox=\"0 0 24 24\"\n",
              "       width=\"24px\">\n",
              "    <path d=\"M0 0h24v24H0V0z\" fill=\"none\"/>\n",
              "    <path d=\"M18.56 5.44l.94 2.06.94-2.06 2.06-.94-2.06-.94-.94-2.06-.94 2.06-2.06.94zm-11 1L8.5 8.5l.94-2.06 2.06-.94-2.06-.94L8.5 2.5l-.94 2.06-2.06.94zm10 10l.94 2.06.94-2.06 2.06-.94-2.06-.94-.94-2.06-.94 2.06-2.06.94z\"/><path d=\"M17.41 7.96l-1.37-1.37c-.4-.4-.92-.59-1.43-.59-.52 0-1.04.2-1.43.59L10.3 9.45l-7.72 7.72c-.78.78-.78 2.05 0 2.83L4 21.41c.39.39.9.59 1.41.59.51 0 1.02-.2 1.41-.59l7.78-7.78 2.81-2.81c.8-.78.8-2.07 0-2.86zM5.41 20L4 18.59l7.72-7.72 1.47 1.35L5.41 20z\"/>\n",
              "  </svg>\n",
              "      </button>\n",
              "      \n",
              "  <style>\n",
              "    .colab-df-container {\n",
              "      display:flex;\n",
              "      flex-wrap:wrap;\n",
              "      gap: 12px;\n",
              "    }\n",
              "\n",
              "    .colab-df-convert {\n",
              "      background-color: #E8F0FE;\n",
              "      border: none;\n",
              "      border-radius: 50%;\n",
              "      cursor: pointer;\n",
              "      display: none;\n",
              "      fill: #1967D2;\n",
              "      height: 32px;\n",
              "      padding: 0 0 0 0;\n",
              "      width: 32px;\n",
              "    }\n",
              "\n",
              "    .colab-df-convert:hover {\n",
              "      background-color: #E2EBFA;\n",
              "      box-shadow: 0px 1px 2px rgba(60, 64, 67, 0.3), 0px 1px 3px 1px rgba(60, 64, 67, 0.15);\n",
              "      fill: #174EA6;\n",
              "    }\n",
              "\n",
              "    [theme=dark] .colab-df-convert {\n",
              "      background-color: #3B4455;\n",
              "      fill: #D2E3FC;\n",
              "    }\n",
              "\n",
              "    [theme=dark] .colab-df-convert:hover {\n",
              "      background-color: #434B5C;\n",
              "      box-shadow: 0px 1px 3px 1px rgba(0, 0, 0, 0.15);\n",
              "      filter: drop-shadow(0px 1px 2px rgba(0, 0, 0, 0.3));\n",
              "      fill: #FFFFFF;\n",
              "    }\n",
              "  </style>\n",
              "\n",
              "      <script>\n",
              "        const buttonEl =\n",
              "          document.querySelector('#df-7a3648fe-6449-4f8f-9b86-09d5ad677668 button.colab-df-convert');\n",
              "        buttonEl.style.display =\n",
              "          google.colab.kernel.accessAllowed ? 'block' : 'none';\n",
              "\n",
              "        async function convertToInteractive(key) {\n",
              "          const element = document.querySelector('#df-7a3648fe-6449-4f8f-9b86-09d5ad677668');\n",
              "          const dataTable =\n",
              "            await google.colab.kernel.invokeFunction('convertToInteractive',\n",
              "                                                     [key], {});\n",
              "          if (!dataTable) return;\n",
              "\n",
              "          const docLinkHtml = 'Like what you see? Visit the ' +\n",
              "            '<a target=\"_blank\" href=https://colab.research.google.com/notebooks/data_table.ipynb>data table notebook</a>'\n",
              "            + ' to learn more about interactive tables.';\n",
              "          element.innerHTML = '';\n",
              "          dataTable['output_type'] = 'display_data';\n",
              "          await google.colab.output.renderOutput(dataTable, element);\n",
              "          const docLink = document.createElement('div');\n",
              "          docLink.innerHTML = docLinkHtml;\n",
              "          element.appendChild(docLink);\n",
              "        }\n",
              "      </script>\n",
              "    </div>\n",
              "  </div>\n",
              "  "
            ],
            "text/plain": [
              "    Loan_ID Gender Married  ... Loan_Amount_Term Credit_History Property_Area\n",
              "0  LP001015   Male     Yes  ...            360.0            1.0         Urban\n",
              "1  LP001022   Male     Yes  ...            360.0            1.0         Urban\n",
              "2  LP001031   Male     Yes  ...            360.0            1.0         Urban\n",
              "3  LP001035   Male     Yes  ...            360.0            NaN         Urban\n",
              "4  LP001051   Male      No  ...            360.0            1.0         Urban\n",
              "\n",
              "[5 rows x 12 columns]"
            ]
          },
          "metadata": {},
          "execution_count": 15
        }
      ]
    },
    {
      "cell_type": "markdown",
      "source": [
        "**Creating backup dataframes**"
      ],
      "metadata": {
        "id": "ZPp8V0clh1ZS"
      }
    },
    {
      "cell_type": "code",
      "source": [
        "train_original=train.copy()\n",
        "test_original=test.copy()"
      ],
      "metadata": {
        "id": "vzd7wXt1RWdJ"
      },
      "execution_count": 16,
      "outputs": []
    },
    {
      "cell_type": "markdown",
      "source": [
        "**Understanding the Data**"
      ],
      "metadata": {
        "id": "myUpK0vm9MnH"
      }
    },
    {
      "cell_type": "code",
      "source": [
        "train.columns"
      ],
      "metadata": {
        "colab": {
          "base_uri": "https://localhost:8080/"
        },
        "id": "FCBreuxFRbfu",
        "outputId": "2db6d1a6-2903-4750-8cb2-a51133e6b9b1"
      },
      "execution_count": 17,
      "outputs": [
        {
          "output_type": "execute_result",
          "data": {
            "text/plain": [
              "Index(['Loan_ID', 'Gender', 'Married', 'Dependents', 'Education',\n",
              "       'Self_Employed', 'ApplicantIncome', 'CoapplicantIncome', 'LoanAmount',\n",
              "       'Loan_Amount_Term', 'Credit_History', 'Property_Area', 'Loan_Status'],\n",
              "      dtype='object')"
            ]
          },
          "metadata": {},
          "execution_count": 17
        }
      ]
    },
    {
      "cell_type": "markdown",
      "source": [
        "12 independent variables and 1 target variable, i.e. Loan_Status in the training dataset."
      ],
      "metadata": {
        "id": "iX5Qpnu_DFsV"
      }
    },
    {
      "cell_type": "code",
      "source": [
        "test.columns"
      ],
      "metadata": {
        "colab": {
          "base_uri": "https://localhost:8080/"
        },
        "id": "Shj47moORjBn",
        "outputId": "cbd54953-13c4-4dba-b5e3-952d497cfccd"
      },
      "execution_count": 18,
      "outputs": [
        {
          "output_type": "execute_result",
          "data": {
            "text/plain": [
              "Index(['Loan_ID', 'Gender', 'Married', 'Dependents', 'Education',\n",
              "       'Self_Employed', 'ApplicantIncome', 'CoapplicantIncome', 'LoanAmount',\n",
              "       'Loan_Amount_Term', 'Credit_History', 'Property_Area'],\n",
              "      dtype='object')"
            ]
          },
          "metadata": {},
          "execution_count": 18
        }
      ]
    },
    {
      "cell_type": "code",
      "source": [
        "train.dtypes"
      ],
      "metadata": {
        "colab": {
          "base_uri": "https://localhost:8080/"
        },
        "id": "IiSDFWACRnke",
        "outputId": "d4967bee-0ad6-4d90-de88-dbed0d08d1c0"
      },
      "execution_count": 19,
      "outputs": [
        {
          "output_type": "execute_result",
          "data": {
            "text/plain": [
              "Loan_ID               object\n",
              "Gender                object\n",
              "Married               object\n",
              "Dependents            object\n",
              "Education             object\n",
              "Self_Employed         object\n",
              "ApplicantIncome        int64\n",
              "CoapplicantIncome    float64\n",
              "LoanAmount           float64\n",
              "Loan_Amount_Term     float64\n",
              "Credit_History       float64\n",
              "Property_Area         object\n",
              "Loan_Status           object\n",
              "dtype: object"
            ]
          },
          "metadata": {},
          "execution_count": 19
        }
      ]
    },
    {
      "cell_type": "markdown",
      "source": [
        "There are three data types in dataset: object , int64, float64"
      ],
      "metadata": {
        "id": "miVAZFaJD9Io"
      }
    },
    {
      "cell_type": "code",
      "source": [
        "train.shape"
      ],
      "metadata": {
        "colab": {
          "base_uri": "https://localhost:8080/"
        },
        "id": "398Dz2xzRqaI",
        "outputId": "9547455b-c868-4b1a-e670-5f118a61dc2d"
      },
      "execution_count": 20,
      "outputs": [
        {
          "output_type": "execute_result",
          "data": {
            "text/plain": [
              "(614, 13)"
            ]
          },
          "metadata": {},
          "execution_count": 20
        }
      ]
    },
    {
      "cell_type": "code",
      "source": [
        "test.shape"
      ],
      "metadata": {
        "colab": {
          "base_uri": "https://localhost:8080/"
        },
        "id": "0WU7Rb5cRto_",
        "outputId": "43055f42-f380-4161-f3e9-c815774f2efb"
      },
      "execution_count": 21,
      "outputs": [
        {
          "output_type": "execute_result",
          "data": {
            "text/plain": [
              "(367, 12)"
            ]
          },
          "metadata": {},
          "execution_count": 21
        }
      ]
    },
    {
      "cell_type": "code",
      "source": [
        "train['Loan_Status'].value_counts()"
      ],
      "metadata": {
        "colab": {
          "base_uri": "https://localhost:8080/"
        },
        "id": "zL_4n1mDRwoz",
        "outputId": "99139fdc-dd0f-4aa6-c666-cc04d03c73a4"
      },
      "execution_count": 22,
      "outputs": [
        {
          "output_type": "execute_result",
          "data": {
            "text/plain": [
              "Y    422\n",
              "N    192\n",
              "Name: Loan_Status, dtype: int64"
            ]
          },
          "metadata": {},
          "execution_count": 22
        }
      ]
    },
    {
      "cell_type": "markdown",
      "source": [
        "**Visualizing distribution of loan status**"
      ],
      "metadata": {
        "id": "1PgAiYcUiRDB"
      }
    },
    {
      "cell_type": "code",
      "source": [
        "train['Loan_Status'].value_counts(normalize=True)"
      ],
      "metadata": {
        "colab": {
          "base_uri": "https://localhost:8080/"
        },
        "id": "2dq3HvdGR5fH",
        "outputId": "b12509a8-85bd-417d-c255-fee5374f482e"
      },
      "execution_count": 23,
      "outputs": [
        {
          "output_type": "execute_result",
          "data": {
            "text/plain": [
              "Y    0.687296\n",
              "N    0.312704\n",
              "Name: Loan_Status, dtype: float64"
            ]
          },
          "metadata": {},
          "execution_count": 23
        }
      ]
    },
    {
      "cell_type": "code",
      "source": [
        "train['Loan_Status'].value_counts().plot.bar()"
      ],
      "metadata": {
        "colab": {
          "base_uri": "https://localhost:8080/",
          "height": 281
        },
        "id": "Zd4BgOhFSALc",
        "outputId": "75ecd003-ec24-4c8d-b871-59b6093f6c38"
      },
      "execution_count": 24,
      "outputs": [
        {
          "output_type": "execute_result",
          "data": {
            "text/plain": [
              "<matplotlib.axes._subplots.AxesSubplot at 0x7ff7da93a2d0>"
            ]
          },
          "metadata": {},
          "execution_count": 24
        },
        {
          "output_type": "display_data",
          "data": {
            "image/png": "[encoded data removed]",
            "text/plain": [
              "<Figure size 432x288 with 1 Axes>"
            ]
          },
          "metadata": {
            "needs_background": "light"
          }
        }
      ]
    },
    {
      "cell_type": "markdown",
      "source": [
        "**Visualization**"
      ],
      "metadata": {
        "id": "p6iZCwoPFZ6-"
      }
    },
    {
      "cell_type": "markdown",
      "source": [
        "**Independent Variable (Categorical)**"
      ],
      "metadata": {
        "id": "BENDyoEjFWEY"
      }
    },
    {
      "cell_type": "code",
      "source": [
        "train['Gender'].value_counts(normalize=True).plot.bar(figsize=(10,6), title='Gender')\n",
        "plt.show()\n",
        "train['Married'].value_counts(normalize=True).plot.bar(title='Married')\n",
        "plt.show()\n",
        "train['Self_Employed'].value_counts(normalize=True).plot.bar(title='Self_Employed')\n",
        "plt.show()\n",
        "train['Credit_History'].value_counts(normalize=True).plot.bar(title='Credit_History')\n",
        "plt.show()"
      ],
      "metadata": {
        "colab": {
          "base_uri": "https://localhost:8080/",
          "height": 1000
        },
        "id": "P4up7YkaSOsU",
        "outputId": "efd7c188-1d9e-4284-8ed6-4dfa4e8b6483"
      },
      "execution_count": 25,
      "outputs": [
        {
          "output_type": "display_data",
          "data": {
            "image/png": "[encoded data removed]",
            "text/plain": [
              "<Figure size 720x432 with 1 Axes>"
            ]
          },
          "metadata": {
            "needs_background": "light"
          }
        },
        {
          "output_type": "display_data",
          "data": {
            "image/png": "[encoded data removed]",
            "text/plain": [
              "<Figure size 432x288 with 1 Axes>"
            ]
          },
          "metadata": {
            "needs_background": "light"
          }
        },
        {
          "output_type": "display_data",
          "data": {
            "image/png": "[encoded data removed]",
            "text/plain": [
              "<Figure size 432x288 with 1 Axes>"
            ]
          },
          "metadata": {
            "needs_background": "light"
          }
        },
        {
          "output_type": "display_data",
          "data": {
            "image/png": "[encoded data removed]",
            "text/plain": [
              "<Figure size 432x288 with 1 Axes>"
            ]
          },
          "metadata": {
            "needs_background": "light"
          }
        }
      ]
    },
    {
      "cell_type": "markdown",
      "source": [
        "Inferences from the above bar plots :\n",
        "*   80% of applicants in the dataset are male.\n",
        "*   Around 65% of the applicants in the dataset are married.\n",
        "*   Around 15% of applicants in the dataset are self-employed.\n",
        "*   Around 85% of applicants have repaid their debts.\n",
        "\n",
        "\n",
        "\n",
        "\n",
        "\n"
      ],
      "metadata": {
        "id": "QhvYFK6rStdx"
      }
    },
    {
      "cell_type": "markdown",
      "source": [
        "**Independent Variable (Ordinal)**"
      ],
      "metadata": {
        "id": "sprpb8EjFgQv"
      }
    },
    {
      "cell_type": "code",
      "source": [
        "train['Dependents'].value_counts(normalize=True).plot.bar(figsize=(18,6), title='Dependents')\n",
        "plt.show()\n",
        "train['Education'].value_counts(normalize=True).plot.bar(title='Education')\n",
        "plt.show()\n",
        "train['Property_Area'].value_counts(normalize=True).plot.bar(title='Property_Area')\n",
        "plt.show()"
      ],
      "metadata": {
        "colab": {
          "base_uri": "https://localhost:8080/",
          "height": 1000
        },
        "id": "-Zv3C60aSv9L",
        "outputId": "b0d46a71-cbc2-4d06-ef79-4f98a1e12a01"
      },
      "execution_count": 26,
      "outputs": [
        {
          "output_type": "display_data",
          "data": {
            "image/png": "[encoded data removed]",
            "text/plain": [
              "<Figure size 1296x432 with 1 Axes>"
            ]
          },
          "metadata": {
            "needs_background": "light"
          }
        },
        {
          "output_type": "display_data",
          "data": {
            "image/png": "[encoded data removed]",
            "text/plain": [
              "<Figure size 432x288 with 1 Axes>"
            ]
          },
          "metadata": {
            "needs_background": "light"
          }
        },
        {
          "output_type": "display_data",
          "data": {
            "image/png": "[encoded data removed]",
            "text/plain": [
              "<Figure size 432x288 with 1 Axes>"
            ]
          },
          "metadata": {
            "needs_background": "light"
          }
        }
      ]
    },
    {
      "cell_type": "markdown",
      "source": [
        "Inferences from the above bar plots :\n",
        "\n",
        "\n",
        "*   Most of the applicants don't have any dependents.\n",
        "*   Around 80% of the applicants are Graduate.\n",
        "*   Most of the applicants are from the Semiurban area.\n",
        "\n"
      ],
      "metadata": {
        "id": "V60KgLdkHzVu"
      }
    },
    {
      "cell_type": "markdown",
      "source": [
        "**Independent Variable (Numerical)**"
      ],
      "metadata": {
        "id": "7Zhjof3qICR9"
      }
    },
    {
      "cell_type": "code",
      "source": [
        "sns.distplot(train['ApplicantIncome'])\n",
        "plt.show()\n",
        "train['ApplicantIncome'].plot.box(figsize=(16,5))\n",
        "plt.show()"
      ],
      "metadata": {
        "colab": {
          "base_uri": "https://localhost:8080/",
          "height": 639
        },
        "id": "FSdpVZJzSovL",
        "outputId": "cf8b2867-ac87-4850-8474-b73235253092"
      },
      "execution_count": 27,
      "outputs": [
        {
          "output_type": "stream",
          "name": "stderr",
          "text": [
            "/usr/local/lib/python3.7/dist-packages/seaborn/distributions.py:2619: FutureWarning: `distplot` is a deprecated function and will be removed in a future version. Please adapt your code to use either `displot` (a figure-level function with similar flexibility) or `histplot` (an axes-level function for histograms).\n",
            "  warnings.warn(msg, FutureWarning)\n"
          ]
        },
        {
          "output_type": "display_data",
          "data": {
            "image/png": "[encoded data removed]",
            "text/plain": [
              "<Figure size 432x288 with 1 Axes>"
            ]
          },
          "metadata": {
            "needs_background": "light"
          }
        },
        {
          "output_type": "display_data",
          "data": {
            "image/png": "[encoded data removed]",
            "text/plain": [
              "<Figure size 1152x360 with 1 Axes>"
            ]
          },
          "metadata": {
            "needs_background": "light"
          }
        }
      ]
    },
    {
      "cell_type": "markdown",
      "source": [
        "\n",
        "\n",
        "*   The distribution of applicant income are towards the left which means it is not normally distributed.(Right skewed)\n",
        "*   The boxplot confirms the presence of a lot of outliers/extreme values.\n",
        "*   This can be attributed to the income disparity in the society.\n",
        "\n",
        "\n",
        "\n"
      ],
      "metadata": {
        "id": "pMhzrVexIPDt"
      }
    },
    {
      "cell_type": "code",
      "source": [
        "train.boxplot(column='ApplicantIncome', by = 'Education') \n",
        "plt.suptitle(\"\")"
      ],
      "metadata": {
        "colab": {
          "base_uri": "https://localhost:8080/",
          "height": 368
        },
        "id": "hcyB10JwThsW",
        "outputId": "1834b4c6-df6f-434f-96f1-086473cacc4f"
      },
      "execution_count": 28,
      "outputs": [
        {
          "output_type": "stream",
          "name": "stderr",
          "text": [
            "/usr/local/lib/python3.7/dist-packages/numpy/core/_asarray.py:83: VisibleDeprecationWarning: Creating an ndarray from ragged nested sequences (which is a list-or-tuple of lists-or-tuples-or ndarrays with different lengths or shapes) is deprecated. If you meant to do this, you must specify 'dtype=object' when creating the ndarray\n",
            "  return array(a, dtype, copy=False, order=order)\n"
          ]
        },
        {
          "output_type": "execute_result",
          "data": {
            "text/plain": [
              "Text(0.5, 0.98, '')"
            ]
          },
          "metadata": {},
          "execution_count": 28
        },
        {
          "output_type": "display_data",
          "data": {
            "image/png": "[encoded data removed]",
            "text/plain": [
              "<Figure size 432x288 with 1 Axes>"
            ]
          },
          "metadata": {
            "needs_background": "light"
          }
        }
      ]
    },
    {
      "cell_type": "markdown",
      "source": [
        "There are a higher number of graduates with very high incomes, which are appearing to be outliers."
      ],
      "metadata": {
        "id": "68UhffyRIzRt"
      }
    },
    {
      "cell_type": "code",
      "source": [
        "sns.distplot(train['CoapplicantIncome'])\n",
        "plt.show()\n",
        "train['CoapplicantIncome'].plot.box(figsize=(16,5))\n",
        "plt.show()"
      ],
      "metadata": {
        "colab": {
          "base_uri": "https://localhost:8080/",
          "height": 639
        },
        "id": "6oAcWYBbTuCt",
        "outputId": "bf41accd-b40d-46d7-974b-55a3e180931e"
      },
      "execution_count": 29,
      "outputs": [
        {
          "output_type": "stream",
          "name": "stderr",
          "text": [
            "/usr/local/lib/python3.7/dist-packages/seaborn/distributions.py:2619: FutureWarning: `distplot` is a deprecated function and will be removed in a future version. Please adapt your code to use either `displot` (a figure-level function with similar flexibility) or `histplot` (an axes-level function for histograms).\n",
            "  warnings.warn(msg, FutureWarning)\n"
          ]
        },
        {
          "output_type": "display_data",
          "data": {
            "image/png": "[encoded data removed]",
            "text/plain": [
              "<Figure size 432x288 with 1 Axes>"
            ]
          },
          "metadata": {
            "needs_background": "light"
          }
        },
        {
          "output_type": "display_data",
          "data": {
            "image/png": "[encoded data removed]",
            "text/plain": [
              "<Figure size 1152x360 with 1 Axes>"
            ]
          },
          "metadata": {
            "needs_background": "light"
          }
        }
      ]
    },
    {
      "cell_type": "markdown",
      "source": [
        "The majority of co-applicants income ranges from 0 to 5000. We also see a lot of outliers in the applicant's income and it is not normally distributed."
      ],
      "metadata": {
        "id": "gCfwnr0hI9JO"
      }
    },
    {
      "cell_type": "code",
      "source": [
        "train.notna()\n",
        "sns.distplot(train['LoanAmount'])\n",
        "plt.show()\n",
        "train['LoanAmount'].plot.box(figsize=(16,5))\n",
        "plt.show()"
      ],
      "metadata": {
        "colab": {
          "base_uri": "https://localhost:8080/",
          "height": 639
        },
        "id": "xQyLeNxrT6LG",
        "outputId": "eb78e097-9767-4d71-945c-c1839952fcd5"
      },
      "execution_count": 30,
      "outputs": [
        {
          "output_type": "stream",
          "name": "stderr",
          "text": [
            "/usr/local/lib/python3.7/dist-packages/seaborn/distributions.py:2619: FutureWarning: `distplot` is a deprecated function and will be removed in a future version. Please adapt your code to use either `displot` (a figure-level function with similar flexibility) or `histplot` (an axes-level function for histograms).\n",
            "  warnings.warn(msg, FutureWarning)\n"
          ]
        },
        {
          "output_type": "display_data",
          "data": {
            "image/png": "[encoded data removed]",
            "text/plain": [
              "<Figure size 432x288 with 1 Axes>"
            ]
          },
          "metadata": {
            "needs_background": "light"
          }
        },
        {
          "output_type": "display_data",
          "data": {
            "image/png": "[encoded data removed]",
            "text/plain": [
              "<Figure size 1152x360 with 1 Axes>"
            ]
          },
          "metadata": {
            "needs_background": "light"
          }
        }
      ]
    },
    {
      "cell_type": "markdown",
      "source": [
        "A lot of outliers in this variable and the distribution is fairly normal."
      ],
      "metadata": {
        "id": "3coynMwvJPNl"
      }
    },
    {
      "cell_type": "markdown",
      "source": [
        "**Bivariate Analysis**"
      ],
      "metadata": {
        "id": "UpeY2AweJU-F"
      }
    },
    {
      "cell_type": "code",
      "source": [
        "Gender=pd.crosstab(train['Gender'],train['Loan_Status'])\n",
        "Gender.div(Gender.sum(1).astype(float), axis=0).plot(kind=\"bar\",stacked=True,figsize=(4,4))\n",
        "plt.show()"
      ],
      "metadata": {
        "colab": {
          "base_uri": "https://localhost:8080/",
          "height": 305
        },
        "id": "-SyVYHviUYAe",
        "outputId": "d6845713-3d36-493a-fee0-a3e50cc6d62b"
      },
      "execution_count": 31,
      "outputs": [
        {
          "output_type": "display_data",
          "data": {
            "image/png": "[encoded data removed]",
            "text/plain": [
              "<Figure size 288x288 with 1 Axes>"
            ]
          },
          "metadata": {
            "needs_background": "light"
          }
        }
      ]
    },
    {
      "cell_type": "code",
      "source": [
        "Married=pd.crosstab(train['Married'],train['Loan_Status'])\n",
        "Dependents=pd.crosstab(train['Dependents'],train['Loan_Status'])\n",
        "Education=pd.crosstab(train['Education'],train['Loan_Status'])\n",
        "Self_Employed=pd.crosstab(train['Self_Employed'],train['Loan_Status'])\n",
        "Married.div(Married.sum(1).astype(float), axis=0).plot(kind=\"bar\",stacked=True,figsize=(4,4))\n",
        "plt.show()\n",
        "Dependents.div(Dependents.sum(1).astype(float), axis=0).plot(kind=\"bar\",stacked=True,figsize=(4,4))\n",
        "plt.show()\n",
        "Education.div(Education.sum(1).astype(float), axis=0).plot(kind=\"bar\",stacked=True,figsize=(4,4))\n",
        "plt.show()\n",
        "Self_Employed.div(Self_Employed.sum(1).astype(float), axis=0).plot(kind=\"bar\",stacked=True,figsize=(4,4))\n",
        "plt.show()"
      ],
      "metadata": {
        "colab": {
          "base_uri": "https://localhost:8080/",
          "height": 1000
        },
        "id": "Z0jWwXN4UgAK",
        "outputId": "4b2de159-8aae-402c-a479-4d8febd08206"
      },
      "execution_count": 32,
      "outputs": [
        {
          "output_type": "display_data",
          "data": {
            "image/png": "[encoded data removed]",
            "text/plain": [
              "<Figure size 288x288 with 1 Axes>"
            ]
          },
          "metadata": {
            "needs_background": "light"
          }
        },
        {
          "output_type": "display_data",
          "data": {
            "image/png": "[encoded data removed]",
            "text/plain": [
              "<Figure size 288x288 with 1 Axes>"
            ]
          },
          "metadata": {
            "needs_background": "light"
          }
        },
        {
          "output_type": "display_data",
          "data": {
            "image/png": "[encoded data removed]",
            "text/plain": [
              "<Figure size 288x288 with 1 Axes>"
            ]
          },
          "metadata": {
            "needs_background": "light"
          }
        },
        {
          "output_type": "display_data",
          "data": {
            "image/png": "[encoded data removed]",
            "text/plain": [
              "<Figure size 288x288 with 1 Axes>"
            ]
          },
          "metadata": {
            "needs_background": "light"
          }
        }
      ]
    },
    {
      "cell_type": "code",
      "source": [
        "Credit_History=pd.crosstab(train['Credit_History'],train['Loan_Status'])\n",
        "Property_Area=pd.crosstab(train['Property_Area'],train['Loan_Status'])\n",
        "Credit_History.div(Credit_History.sum(1).astype(float), axis=0).plot(kind=\"bar\",stacked=True,figsize=(4,4))\n",
        "plt.show()\n",
        "Property_Area.div(Property_Area.sum(1).astype(float), axis=0).plot(kind=\"bar\",stacked=True)\n",
        "plt.show()\n"
      ],
      "metadata": {
        "colab": {
          "base_uri": "https://localhost:8080/",
          "height": 593
        },
        "id": "FyI-Ww5DVRjI",
        "outputId": "45bbce39-39d3-403f-c093-53c58d47dff8"
      },
      "execution_count": 33,
      "outputs": [
        {
          "output_type": "display_data",
          "data": {
            "image/png": "[encoded data removed]",
            "text/plain": [
              "<Figure size 288x288 with 1 Axes>"
            ]
          },
          "metadata": {
            "needs_background": "light"
          }
        },
        {
          "output_type": "display_data",
          "data": {
            "image/png": "[encoded data removed]",
            "text/plain": [
              "<Figure size 432x288 with 1 Axes>"
            ]
          },
          "metadata": {
            "needs_background": "light"
          }
        }
      ]
    },
    {
      "cell_type": "code",
      "source": [
        "train.groupby('Loan_Status')['ApplicantIncome'].mean().plot.bar()"
      ],
      "metadata": {
        "colab": {
          "base_uri": "https://localhost:8080/",
          "height": 296
        },
        "id": "_bffjuPoVnWL",
        "outputId": "8b0fab0f-3b20-42b8-e43d-e2e137b5da8a"
      },
      "execution_count": 34,
      "outputs": [
        {
          "output_type": "execute_result",
          "data": {
            "text/plain": [
              "<matplotlib.axes._subplots.AxesSubplot at 0x7ff7da382550>"
            ]
          },
          "metadata": {},
          "execution_count": 34
        },
        {
          "output_type": "display_data",
          "data": {
            "image/png": "[encoded data removed]",
            "text/plain": [
              "<Figure size 432x288 with 1 Axes>"
            ]
          },
          "metadata": {
            "needs_background": "light"
          }
        }
      ]
    },
    {
      "cell_type": "code",
      "source": [
        "bins=[0,2500,4000,6000,81000]\n",
        "group=['Low','Average','High','Very high']\n",
        "train['Income_bin']=pd.cut(train['ApplicantIncome'],bins,labels=group)\n",
        "Income_bin=pd.crosstab(train['Income_bin'],train['Loan_Status'])\n",
        "Income_bin.div(Income_bin.sum(1).astype(float), axis=0).plot(kind=\"bar\",stacked=True)\n",
        "plt.xlabel('ApplicantIncome')\n",
        "P=plt.ylabel('Percentage')"
      ],
      "metadata": {
        "colab": {
          "base_uri": "https://localhost:8080/",
          "height": 317
        },
        "id": "FhU9XXZXV3Dt",
        "outputId": "bbc094a7-5a8a-4441-da06-2c61535eb648"
      },
      "execution_count": 35,
      "outputs": [
        {
          "output_type": "display_data",
          "data": {
            "image/png": "[encoded data removed]",
            "text/plain": [
              "<Figure size 432x288 with 1 Axes>"
            ]
          },
          "metadata": {
            "needs_background": "light"
          }
        }
      ]
    },
    {
      "cell_type": "code",
      "source": [
        "bins=[0,100,200,700]\n",
        "group=['Low','Average','High']\n",
        "train['LoanAmount_bin']=pd.cut(train['LoanAmount'],bins,labels=group)\n",
        "LoanAmount_bin=pd.crosstab(train['LoanAmount_bin'],train['Loan_Status'])\n",
        "LoanAmount_bin.div(LoanAmount_bin.sum(1).astype(float), axis=0).plot(kind='bar',stacked=True)\n",
        "plt.xlabel('LoanAmount')\n",
        "P=plt.ylabel('Percentage')"
      ],
      "metadata": {
        "colab": {
          "base_uri": "https://localhost:8080/",
          "height": 310
        },
        "id": "oH8GveVOW1xF",
        "outputId": "01594035-209d-4e20-8cd2-8d27246e6a23"
      },
      "execution_count": 36,
      "outputs": [
        {
          "output_type": "display_data",
          "data": {
            "image/png": "[encoded data removed]",
            "text/plain": [
              "<Figure size 432x288 with 1 Axes>"
            ]
          },
          "metadata": {
            "needs_background": "light"
          }
        }
      ]
    },
    {
      "cell_type": "code",
      "source": [
        "train=train.drop(['Income_bin', 'LoanAmount_bin'], axis=1)\n",
        "train['Dependents'].replace('3+', 3,inplace=True)\n",
        "test['Dependents'].replace('3+', 3,inplace=True)\n",
        "train['Loan_Status'].replace('N', 0,inplace=True)\n",
        "train['Loan_Status'].replace('Y', 1,inplace=True)"
      ],
      "metadata": {
        "id": "_M_Xz79BXkZX"
      },
      "execution_count": 37,
      "outputs": []
    },
    {
      "cell_type": "markdown",
      "source": [
        "**Correlation matrix**"
      ],
      "metadata": {
        "id": "L4yIIWTjjAe3"
      }
    },
    {
      "cell_type": "code",
      "source": [
        "matrix = train.corr()\n",
        "f, ax = plt.subplots(figsize=(9,6))\n",
        "sns.heatmap(matrix,vmax=.8,square=True,cmap=\"BuPu\", annot = True)"
      ],
      "metadata": {
        "colab": {
          "base_uri": "https://localhost:8080/",
          "height": 484
        },
        "id": "QRpYSR_1Yh0n",
        "outputId": "0b152989-726b-48df-e351-ae60eaae9650"
      },
      "execution_count": 38,
      "outputs": [
        {
          "output_type": "execute_result",
          "data": {
            "text/plain": [
              "<matplotlib.axes._subplots.AxesSubplot at 0x7ff7da06cbd0>"
            ]
          },
          "metadata": {},
          "execution_count": 38
        },
        {
          "output_type": "display_data",
          "data": {
            "image/png": "[encoded data removed]",
            "text/plain": [
              "<Figure size 648x432 with 2 Axes>"
            ]
          },
          "metadata": {
            "needs_background": "light"
          }
        }
      ]
    },
    {
      "cell_type": "markdown",
      "source": [
        "**Checking for missing values**"
      ],
      "metadata": {
        "id": "QzzoF8H-Jgdl"
      }
    },
    {
      "cell_type": "code",
      "source": [
        "train.isnull().sum()"
      ],
      "metadata": {
        "colab": {
          "base_uri": "https://localhost:8080/"
        },
        "id": "6FhEFpf9aVYE",
        "outputId": "9d17cec4-5375-4d63-e4f8-ca042ae35010"
      },
      "execution_count": 39,
      "outputs": [
        {
          "output_type": "execute_result",
          "data": {
            "text/plain": [
              "Loan_ID               0\n",
              "Gender               13\n",
              "Married               3\n",
              "Dependents           15\n",
              "Education             0\n",
              "Self_Employed        32\n",
              "ApplicantIncome       0\n",
              "CoapplicantIncome     0\n",
              "LoanAmount           22\n",
              "Loan_Amount_Term     14\n",
              "Credit_History       50\n",
              "Property_Area         0\n",
              "Loan_Status           0\n",
              "dtype: int64"
            ]
          },
          "metadata": {},
          "execution_count": 39
        }
      ]
    },
    {
      "cell_type": "markdown",
      "source": [
        "**Treating the missing value**\n",
        "\n",
        "*   For numerical variables: imputation using mean or median\n",
        "*   For categorical variables: imputation using mode"
      ],
      "metadata": {
        "id": "Rwb6WsgxJrNt"
      }
    },
    {
      "cell_type": "code",
      "source": [
        "train['Gender'].fillna(train['Gender'].mode()[0], inplace=True)\n",
        "train['Married'].fillna(train['Married'].mode()[0], inplace=True)\n",
        "train['Dependents'].fillna(train['Dependents'].mode()[0], inplace=True)\n",
        "train['Self_Employed'].fillna(train['Self_Employed'].mode()[0], inplace=True)\n",
        "train['Credit_History'].fillna(train['Credit_History'].mode()[0], inplace=True)"
      ],
      "metadata": {
        "id": "Do8FEe7YaXS6"
      },
      "execution_count": 40,
      "outputs": []
    },
    {
      "cell_type": "code",
      "source": [
        "train['Loan_Amount_Term'].value_counts()"
      ],
      "metadata": {
        "colab": {
          "base_uri": "https://localhost:8080/"
        },
        "id": "UcVHd6R3awnV",
        "outputId": "fb65eaa4-f8b0-4fdd-b6d7-53f9394b8be6"
      },
      "execution_count": 41,
      "outputs": [
        {
          "output_type": "execute_result",
          "data": {
            "text/plain": [
              "360.0    512\n",
              "180.0     44\n",
              "480.0     15\n",
              "300.0     13\n",
              "84.0       4\n",
              "240.0      4\n",
              "120.0      3\n",
              "36.0       2\n",
              "60.0       2\n",
              "12.0       1\n",
              "Name: Loan_Amount_Term, dtype: int64"
            ]
          },
          "metadata": {},
          "execution_count": 41
        }
      ]
    },
    {
      "cell_type": "markdown",
      "source": [
        "The value 360 in the 'Loan Amount Term' column appears the most frequently. So we will replace the missing values in this column using the mode of this variable."
      ],
      "metadata": {
        "id": "OmWYB55DKjJC"
      }
    },
    {
      "cell_type": "code",
      "source": [
        "train['Loan_Amount_Term'].fillna(train['Loan_Amount_Term'].mode()[0], inplace=True)"
      ],
      "metadata": {
        "id": "dSAtAIrzaajx"
      },
      "execution_count": 42,
      "outputs": []
    },
    {
      "cell_type": "markdown",
      "source": [
        "Use the median to fill the null values as earlier we saw that the loan amount has outliers so the mean will not be the proper approach as it is highly affected by the presence of outliers."
      ],
      "metadata": {
        "id": "eB47exkOKwxt"
      }
    },
    {
      "cell_type": "code",
      "source": [
        "train['LoanAmount'].fillna(train['LoanAmount'].mean(), inplace=True) #changed from median to mean"
      ],
      "metadata": {
        "id": "IV8v43LSbEtM"
      },
      "execution_count": 43,
      "outputs": []
    },
    {
      "cell_type": "code",
      "source": [
        "train.isnull().sum()"
      ],
      "metadata": {
        "colab": {
          "base_uri": "https://localhost:8080/"
        },
        "id": "5xKq1D7hLUut",
        "outputId": "728a4ede-bfb5-4dae-bef4-b39e1a9b471b"
      },
      "execution_count": 44,
      "outputs": [
        {
          "output_type": "execute_result",
          "data": {
            "text/plain": [
              "Loan_ID              0\n",
              "Gender               0\n",
              "Married              0\n",
              "Dependents           0\n",
              "Education            0\n",
              "Self_Employed        0\n",
              "ApplicantIncome      0\n",
              "CoapplicantIncome    0\n",
              "LoanAmount           0\n",
              "Loan_Amount_Term     0\n",
              "Credit_History       0\n",
              "Property_Area        0\n",
              "Loan_Status          0\n",
              "dtype: int64"
            ]
          },
          "metadata": {},
          "execution_count": 44
        }
      ]
    },
    {
      "cell_type": "code",
      "source": [
        "test['Gender'].fillna(train['Gender'].mode()[0], inplace=True)\n",
        "test['Married'].fillna(train['Married'].mode()[0], inplace=True)\n",
        "test['Dependents'].fillna(train['Dependents'].mode()[0], inplace=True)\n",
        "test['Self_Employed'].fillna(train['Self_Employed'].mode()[0], inplace=True)\n",
        "test['Credit_History'].fillna(train['Credit_History'].mode()[0], inplace=True)\n",
        "test['Loan_Amount_Term'].fillna(train['Loan_Amount_Term'].mode()[0], inplace=True)\n",
        "test['LoanAmount'].fillna(train['LoanAmount'].mean(), inplace=True) #changed from median to mean"
      ],
      "metadata": {
        "id": "ZjKoodsobQy3"
      },
      "execution_count": 45,
      "outputs": []
    },
    {
      "cell_type": "markdown",
      "source": [
        "**Outlier Treatment**"
      ],
      "metadata": {
        "id": "txEcPjZLLm9A"
      }
    },
    {
      "cell_type": "code",
      "source": [
        "train['LoanAmount_log']=np.log(train['LoanAmount'])\n",
        "train['LoanAmount_log'].hist(bins=20)\n",
        "test['LoanAmount_log']=np.log(test['LoanAmount'])"
      ],
      "metadata": {
        "colab": {
          "base_uri": "https://localhost:8080/",
          "height": 265
        },
        "id": "ZfWzHSshb4SO",
        "outputId": "4388f550-9b71-4ee6-a58c-ec28d9b23e62"
      },
      "execution_count": 46,
      "outputs": [
        {
          "output_type": "display_data",
          "data": {
            "image/png": "[encoded data removed]",
            "text/plain": [
              "<Figure size 432x288 with 1 Axes>"
            ]
          },
          "metadata": {
            "needs_background": "light"
          }
        }
      ]
    },
    {
      "cell_type": "code",
      "source": [
        "train['Total_Income']=train['ApplicantIncome']+train['CoapplicantIncome']\n",
        "test['Total_Income']=test['ApplicantIncome']+test['CoapplicantIncome']\n",
        "\n",
        "train['EMI']=train['LoanAmount']/train['Loan_Amount_Term']\n",
        "test['EMI']=test['LoanAmount']/test['Loan_Amount_Term']\n",
        "train['Balance Income'] = train['Total_Income']-(train['EMI'])\n",
        "test['Balance Income'] = test['Total_Income']-(test['EMI'])\n",
        "#sns.distplot(train['Balance Income'])\n",
        "\n",
        "train['Total_Income_log'] = np.log(train['Total_Income'])\n",
        "test['Total_Income_log'] = np.log(test['Total_Income'])\n",
        "sns.distplot(train['Total_Income_log'])\n",
        "test['Balance_Income_log'] = np.log(test['Balance Income'])\n",
        "train['Balance_Income_log'] = np.log(train['Balance Income'])\n",
        "test['Emi_log'] = np.log(test['EMI'])\n",
        "train['Emi_log'] = np.log(train['EMI'])\n"
      ],
      "metadata": {
        "colab": {
          "base_uri": "https://localhost:8080/",
          "height": 336
        },
        "id": "uRnkwk29uUqs",
        "outputId": "49573558-883b-491a-ad7b-25da0026d3b6"
      },
      "execution_count": 47,
      "outputs": [
        {
          "output_type": "stream",
          "name": "stderr",
          "text": [
            "/usr/local/lib/python3.7/dist-packages/seaborn/distributions.py:2619: FutureWarning: `distplot` is a deprecated function and will be removed in a future version. Please adapt your code to use either `displot` (a figure-level function with similar flexibility) or `histplot` (an axes-level function for histograms).\n",
            "  warnings.warn(msg, FutureWarning)\n"
          ]
        },
        {
          "output_type": "display_data",
          "data": {
            "image/png": "[encoded data removed]",
            "text/plain": [
              "<Figure size 432x288 with 1 Axes>"
            ]
          },
          "metadata": {
            "needs_background": "light"
          }
        }
      ]
    },
    {
      "cell_type": "code",
      "source": [
        "train.head()"
      ],
      "metadata": {
        "colab": {
          "base_uri": "https://localhost:8080/",
          "height": 304
        },
        "id": "vulP51ZDxJxP",
        "outputId": "51955889-cba7-4918-d52d-037359e97cc5"
      },
      "execution_count": 48,
      "outputs": [
        {
          "output_type": "execute_result",
          "data": {
            "text/html": [
              "\n",
              "  <div id=\"df-42fa3ffb-4c06-4412-93a4-1a836b1db186\">\n",
              "    <div class=\"colab-df-container\">\n",
              "      <div>\n",
              "<style scoped>\n",
              "    .dataframe tbody tr th:only-of-type {\n",
              "        vertical-align: middle;\n",
              "    }\n",
              "\n",
              "    .dataframe tbody tr th {\n",
              "        vertical-align: top;\n",
              "    }\n",
              "\n",
              "    .dataframe thead th {\n",
              "        text-align: right;\n",
              "    }\n",
              "</style>\n",
              "<table border=\"1\" class=\"dataframe\">\n",
              "  <thead>\n",
              "    <tr style=\"text-align: right;\">\n",
              "      <th></th>\n",
              "      <th>Loan_ID</th>\n",
              "      <th>Gender</th>\n",
              "      <th>Married</th>\n",
              "      <th>Dependents</th>\n",
              "      <th>Education</th>\n",
              "      <th>Self_Employed</th>\n",
              "      <th>ApplicantIncome</th>\n",
              "      <th>CoapplicantIncome</th>\n",
              "      <th>LoanAmount</th>\n",
              "      <th>Loan_Amount_Term</th>\n",
              "      <th>Credit_History</th>\n",
              "      <th>Property_Area</th>\n",
              "      <th>Loan_Status</th>\n",
              "      <th>LoanAmount_log</th>\n",
              "      <th>Total_Income</th>\n",
              "      <th>EMI</th>\n",
              "      <th>Balance Income</th>\n",
              "      <th>Total_Income_log</th>\n",
              "      <th>Balance_Income_log</th>\n",
              "      <th>Emi_log</th>\n",
              "    </tr>\n",
              "  </thead>\n",
              "  <tbody>\n",
              "    <tr>\n",
              "      <th>0</th>\n",
              "      <td>LP001002</td>\n",
              "      <td>Male</td>\n",
              "      <td>No</td>\n",
              "      <td>0</td>\n",
              "      <td>Graduate</td>\n",
              "      <td>No</td>\n",
              "      <td>5849</td>\n",
              "      <td>0.0</td>\n",
              "      <td>146.412162</td>\n",
              "      <td>360.0</td>\n",
              "      <td>1.0</td>\n",
              "      <td>Urban</td>\n",
              "      <td>1</td>\n",
              "      <td>4.986426</td>\n",
              "      <td>5849.0</td>\n",
              "      <td>0.406700</td>\n",
              "      <td>5848.593300</td>\n",
              "      <td>8.674026</td>\n",
              "      <td>8.673956</td>\n",
              "      <td>-0.899678</td>\n",
              "    </tr>\n",
              "    <tr>\n",
              "      <th>1</th>\n",
              "      <td>LP001003</td>\n",
              "      <td>Male</td>\n",
              "      <td>Yes</td>\n",
              "      <td>1</td>\n",
              "      <td>Graduate</td>\n",
              "      <td>No</td>\n",
              "      <td>4583</td>\n",
              "      <td>1508.0</td>\n",
              "      <td>128.000000</td>\n",
              "      <td>360.0</td>\n",
              "      <td>1.0</td>\n",
              "      <td>Rural</td>\n",
              "      <td>0</td>\n",
              "      <td>4.852030</td>\n",
              "      <td>6091.0</td>\n",
              "      <td>0.355556</td>\n",
              "      <td>6090.644444</td>\n",
              "      <td>8.714568</td>\n",
              "      <td>8.714509</td>\n",
              "      <td>-1.034074</td>\n",
              "    </tr>\n",
              "    <tr>\n",
              "      <th>2</th>\n",
              "      <td>LP001005</td>\n",
              "      <td>Male</td>\n",
              "      <td>Yes</td>\n",
              "      <td>0</td>\n",
              "      <td>Graduate</td>\n",
              "      <td>Yes</td>\n",
              "      <td>3000</td>\n",
              "      <td>0.0</td>\n",
              "      <td>66.000000</td>\n",
              "      <td>360.0</td>\n",
              "      <td>1.0</td>\n",
              "      <td>Urban</td>\n",
              "      <td>1</td>\n",
              "      <td>4.189655</td>\n",
              "      <td>3000.0</td>\n",
              "      <td>0.183333</td>\n",
              "      <td>2999.816667</td>\n",
              "      <td>8.006368</td>\n",
              "      <td>8.006306</td>\n",
              "      <td>-1.696449</td>\n",
              "    </tr>\n",
              "    <tr>\n",
              "      <th>3</th>\n",
              "      <td>LP001006</td>\n",
              "      <td>Male</td>\n",
              "      <td>Yes</td>\n",
              "      <td>0</td>\n",
              "      <td>Not Graduate</td>\n",
              "      <td>No</td>\n",
              "      <td>2583</td>\n",
              "      <td>2358.0</td>\n",
              "      <td>120.000000</td>\n",
              "      <td>360.0</td>\n",
              "      <td>1.0</td>\n",
              "      <td>Urban</td>\n",
              "      <td>1</td>\n",
              "      <td>4.787492</td>\n",
              "      <td>4941.0</td>\n",
              "      <td>0.333333</td>\n",
              "      <td>4940.666667</td>\n",
              "      <td>8.505323</td>\n",
              "      <td>8.505256</td>\n",
              "      <td>-1.098612</td>\n",
              "    </tr>\n",
              "    <tr>\n",
              "      <th>4</th>\n",
              "      <td>LP001008</td>\n",
              "      <td>Male</td>\n",
              "      <td>No</td>\n",
              "      <td>0</td>\n",
              "      <td>Graduate</td>\n",
              "      <td>No</td>\n",
              "      <td>6000</td>\n",
              "      <td>0.0</td>\n",
              "      <td>141.000000</td>\n",
              "      <td>360.0</td>\n",
              "      <td>1.0</td>\n",
              "      <td>Urban</td>\n",
              "      <td>1</td>\n",
              "      <td>4.948760</td>\n",
              "      <td>6000.0</td>\n",
              "      <td>0.391667</td>\n",
              "      <td>5999.608333</td>\n",
              "      <td>8.699515</td>\n",
              "      <td>8.699449</td>\n",
              "      <td>-0.937344</td>\n",
              "    </tr>\n",
              "  </tbody>\n",
              "</table>\n",
              "</div>\n",
              "      <button class=\"colab-df-convert\" onclick=\"convertToInteractive('df-42fa3ffb-4c06-4412-93a4-1a836b1db186')\"\n",
              "              title=\"Convert this dataframe to an interactive table.\"\n",
              "              style=\"display:none;\">\n",
              "        \n",
              "  <svg xmlns=\"http://www.w3.org/2000/svg\" height=\"24px\"viewBox=\"0 0 24 24\"\n",
              "       width=\"24px\">\n",
              "    <path d=\"M0 0h24v24H0V0z\" fill=\"none\"/>\n",
              "    <path d=\"M18.56 5.44l.94 2.06.94-2.06 2.06-.94-2.06-.94-.94-2.06-.94 2.06-2.06.94zm-11 1L8.5 8.5l.94-2.06 2.06-.94-2.06-.94L8.5 2.5l-.94 2.06-2.06.94zm10 10l.94 2.06.94-2.06 2.06-.94-2.06-.94-.94-2.06-.94 2.06-2.06.94z\"/><path d=\"M17.41 7.96l-1.37-1.37c-.4-.4-.92-.59-1.43-.59-.52 0-1.04.2-1.43.59L10.3 9.45l-7.72 7.72c-.78.78-.78 2.05 0 2.83L4 21.41c.39.39.9.59 1.41.59.51 0 1.02-.2 1.41-.59l7.78-7.78 2.81-2.81c.8-.78.8-2.07 0-2.86zM5.41 20L4 18.59l7.72-7.72 1.47 1.35L5.41 20z\"/>\n",
              "  </svg>\n",
              "      </button>\n",
              "      \n",
              "  <style>\n",
              "    .colab-df-container {\n",
              "      display:flex;\n",
              "      flex-wrap:wrap;\n",
              "      gap: 12px;\n",
              "    }\n",
              "\n",
              "    .colab-df-convert {\n",
              "      background-color: #E8F0FE;\n",
              "      border: none;\n",
              "      border-radius: 50%;\n",
              "      cursor: pointer;\n",
              "      display: none;\n",
              "      fill: #1967D2;\n",
              "      height: 32px;\n",
              "      padding: 0 0 0 0;\n",
              "      width: 32px;\n",
              "    }\n",
              "\n",
              "    .colab-df-convert:hover {\n",
              "      background-color: #E2EBFA;\n",
              "      box-shadow: 0px 1px 2px rgba(60, 64, 67, 0.3), 0px 1px 3px 1px rgba(60, 64, 67, 0.15);\n",
              "      fill: #174EA6;\n",
              "    }\n",
              "\n",
              "    [theme=dark] .colab-df-convert {\n",
              "      background-color: #3B4455;\n",
              "      fill: #D2E3FC;\n",
              "    }\n",
              "\n",
              "    [theme=dark] .colab-df-convert:hover {\n",
              "      background-color: #434B5C;\n",
              "      box-shadow: 0px 1px 3px 1px rgba(0, 0, 0, 0.15);\n",
              "      filter: drop-shadow(0px 1px 2px rgba(0, 0, 0, 0.3));\n",
              "      fill: #FFFFFF;\n",
              "    }\n",
              "  </style>\n",
              "\n",
              "      <script>\n",
              "        const buttonEl =\n",
              "          document.querySelector('#df-42fa3ffb-4c06-4412-93a4-1a836b1db186 button.colab-df-convert');\n",
              "        buttonEl.style.display =\n",
              "          google.colab.kernel.accessAllowed ? 'block' : 'none';\n",
              "\n",
              "        async function convertToInteractive(key) {\n",
              "          const element = document.querySelector('#df-42fa3ffb-4c06-4412-93a4-1a836b1db186');\n",
              "          const dataTable =\n",
              "            await google.colab.kernel.invokeFunction('convertToInteractive',\n",
              "                                                     [key], {});\n",
              "          if (!dataTable) return;\n",
              "\n",
              "          const docLinkHtml = 'Like what you see? Visit the ' +\n",
              "            '<a target=\"_blank\" href=https://colab.research.google.com/notebooks/data_table.ipynb>data table notebook</a>'\n",
              "            + ' to learn more about interactive tables.';\n",
              "          element.innerHTML = '';\n",
              "          dataTable['output_type'] = 'display_data';\n",
              "          await google.colab.output.renderOutput(dataTable, element);\n",
              "          const docLink = document.createElement('div');\n",
              "          docLink.innerHTML = docLinkHtml;\n",
              "          element.appendChild(docLink);\n",
              "        }\n",
              "      </script>\n",
              "    </div>\n",
              "  </div>\n",
              "  "
            ],
            "text/plain": [
              "    Loan_ID Gender Married  ... Total_Income_log Balance_Income_log   Emi_log\n",
              "0  LP001002   Male      No  ...         8.674026           8.673956 -0.899678\n",
              "1  LP001003   Male     Yes  ...         8.714568           8.714509 -1.034074\n",
              "2  LP001005   Male     Yes  ...         8.006368           8.006306 -1.696449\n",
              "3  LP001006   Male     Yes  ...         8.505323           8.505256 -1.098612\n",
              "4  LP001008   Male      No  ...         8.699515           8.699449 -0.937344\n",
              "\n",
              "[5 rows x 20 columns]"
            ]
          },
          "metadata": {},
          "execution_count": 48
        }
      ]
    },
    {
      "cell_type": "markdown",
      "source": [
        "We can drop Loan_ID column as it will not give any specific information during model building. We have derived few features so we can remove other features which were used to create them."
      ],
      "metadata": {
        "id": "FsT1REuXk3V2"
      }
    },
    {
      "cell_type": "code",
      "source": [
        "train=train.drop('Loan_ID',axis=1)\n",
        "test=test.drop('Loan_ID',axis=1)\n",
        "train=train.drop(['ApplicantIncome', 'CoapplicantIncome', 'LoanAmount', 'Loan_Amount_Term','Total_Income','Balance Income','EMI'], axis=1)\n",
        "test=test.drop(['ApplicantIncome', 'CoapplicantIncome', 'LoanAmount', 'Loan_Amount_Term','Total_Income','Balance Income','EMI'], axis=1)"
      ],
      "metadata": {
        "id": "zgVjBak_cSAm"
      },
      "execution_count": 49,
      "outputs": []
    },
    {
      "cell_type": "code",
      "source": [
        "train.head()"
      ],
      "metadata": {
        "colab": {
          "base_uri": "https://localhost:8080/",
          "height": 250
        },
        "id": "jxRkErEoxHrw",
        "outputId": "290570a5-21e5-4b7d-aa52-1c39adac88dc"
      },
      "execution_count": 50,
      "outputs": [
        {
          "output_type": "execute_result",
          "data": {
            "text/html": [
              "\n",
              "  <div id=\"df-c3501a51-34f5-4484-959c-b72aecf48164\">\n",
              "    <div class=\"colab-df-container\">\n",
              "      <div>\n",
              "<style scoped>\n",
              "    .dataframe tbody tr th:only-of-type {\n",
              "        vertical-align: middle;\n",
              "    }\n",
              "\n",
              "    .dataframe tbody tr th {\n",
              "        vertical-align: top;\n",
              "    }\n",
              "\n",
              "    .dataframe thead th {\n",
              "        text-align: right;\n",
              "    }\n",
              "</style>\n",
              "<table border=\"1\" class=\"dataframe\">\n",
              "  <thead>\n",
              "    <tr style=\"text-align: right;\">\n",
              "      <th></th>\n",
              "      <th>Gender</th>\n",
              "      <th>Married</th>\n",
              "      <th>Dependents</th>\n",
              "      <th>Education</th>\n",
              "      <th>Self_Employed</th>\n",
              "      <th>Credit_History</th>\n",
              "      <th>Property_Area</th>\n",
              "      <th>Loan_Status</th>\n",
              "      <th>LoanAmount_log</th>\n",
              "      <th>Total_Income_log</th>\n",
              "      <th>Balance_Income_log</th>\n",
              "      <th>Emi_log</th>\n",
              "    </tr>\n",
              "  </thead>\n",
              "  <tbody>\n",
              "    <tr>\n",
              "      <th>0</th>\n",
              "      <td>Male</td>\n",
              "      <td>No</td>\n",
              "      <td>0</td>\n",
              "      <td>Graduate</td>\n",
              "      <td>No</td>\n",
              "      <td>1.0</td>\n",
              "      <td>Urban</td>\n",
              "      <td>1</td>\n",
              "      <td>4.986426</td>\n",
              "      <td>8.674026</td>\n",
              "      <td>8.673956</td>\n",
              "      <td>-0.899678</td>\n",
              "    </tr>\n",
              "    <tr>\n",
              "      <th>1</th>\n",
              "      <td>Male</td>\n",
              "      <td>Yes</td>\n",
              "      <td>1</td>\n",
              "      <td>Graduate</td>\n",
              "      <td>No</td>\n",
              "      <td>1.0</td>\n",
              "      <td>Rural</td>\n",
              "      <td>0</td>\n",
              "      <td>4.852030</td>\n",
              "      <td>8.714568</td>\n",
              "      <td>8.714509</td>\n",
              "      <td>-1.034074</td>\n",
              "    </tr>\n",
              "    <tr>\n",
              "      <th>2</th>\n",
              "      <td>Male</td>\n",
              "      <td>Yes</td>\n",
              "      <td>0</td>\n",
              "      <td>Graduate</td>\n",
              "      <td>Yes</td>\n",
              "      <td>1.0</td>\n",
              "      <td>Urban</td>\n",
              "      <td>1</td>\n",
              "      <td>4.189655</td>\n",
              "      <td>8.006368</td>\n",
              "      <td>8.006306</td>\n",
              "      <td>-1.696449</td>\n",
              "    </tr>\n",
              "    <tr>\n",
              "      <th>3</th>\n",
              "      <td>Male</td>\n",
              "      <td>Yes</td>\n",
              "      <td>0</td>\n",
              "      <td>Not Graduate</td>\n",
              "      <td>No</td>\n",
              "      <td>1.0</td>\n",
              "      <td>Urban</td>\n",
              "      <td>1</td>\n",
              "      <td>4.787492</td>\n",
              "      <td>8.505323</td>\n",
              "      <td>8.505256</td>\n",
              "      <td>-1.098612</td>\n",
              "    </tr>\n",
              "    <tr>\n",
              "      <th>4</th>\n",
              "      <td>Male</td>\n",
              "      <td>No</td>\n",
              "      <td>0</td>\n",
              "      <td>Graduate</td>\n",
              "      <td>No</td>\n",
              "      <td>1.0</td>\n",
              "      <td>Urban</td>\n",
              "      <td>1</td>\n",
              "      <td>4.948760</td>\n",
              "      <td>8.699515</td>\n",
              "      <td>8.699449</td>\n",
              "      <td>-0.937344</td>\n",
              "    </tr>\n",
              "  </tbody>\n",
              "</table>\n",
              "</div>\n",
              "      <button class=\"colab-df-convert\" onclick=\"convertToInteractive('df-c3501a51-34f5-4484-959c-b72aecf48164')\"\n",
              "              title=\"Convert this dataframe to an interactive table.\"\n",
              "              style=\"display:none;\">\n",
              "        \n",
              "  <svg xmlns=\"http://www.w3.org/2000/svg\" height=\"24px\"viewBox=\"0 0 24 24\"\n",
              "       width=\"24px\">\n",
              "    <path d=\"M0 0h24v24H0V0z\" fill=\"none\"/>\n",
              "    <path d=\"M18.56 5.44l.94 2.06.94-2.06 2.06-.94-2.06-.94-.94-2.06-.94 2.06-2.06.94zm-11 1L8.5 8.5l.94-2.06 2.06-.94-2.06-.94L8.5 2.5l-.94 2.06-2.06.94zm10 10l.94 2.06.94-2.06 2.06-.94-2.06-.94-.94-2.06-.94 2.06-2.06.94z\"/><path d=\"M17.41 7.96l-1.37-1.37c-.4-.4-.92-.59-1.43-.59-.52 0-1.04.2-1.43.59L10.3 9.45l-7.72 7.72c-.78.78-.78 2.05 0 2.83L4 21.41c.39.39.9.59 1.41.59.51 0 1.02-.2 1.41-.59l7.78-7.78 2.81-2.81c.8-.78.8-2.07 0-2.86zM5.41 20L4 18.59l7.72-7.72 1.47 1.35L5.41 20z\"/>\n",
              "  </svg>\n",
              "      </button>\n",
              "      \n",
              "  <style>\n",
              "    .colab-df-container {\n",
              "      display:flex;\n",
              "      flex-wrap:wrap;\n",
              "      gap: 12px;\n",
              "    }\n",
              "\n",
              "    .colab-df-convert {\n",
              "      background-color: #E8F0FE;\n",
              "      border: none;\n",
              "      border-radius: 50%;\n",
              "      cursor: pointer;\n",
              "      display: none;\n",
              "      fill: #1967D2;\n",
              "      height: 32px;\n",
              "      padding: 0 0 0 0;\n",
              "      width: 32px;\n",
              "    }\n",
              "\n",
              "    .colab-df-convert:hover {\n",
              "      background-color: #E2EBFA;\n",
              "      box-shadow: 0px 1px 2px rgba(60, 64, 67, 0.3), 0px 1px 3px 1px rgba(60, 64, 67, 0.15);\n",
              "      fill: #174EA6;\n",
              "    }\n",
              "\n",
              "    [theme=dark] .colab-df-convert {\n",
              "      background-color: #3B4455;\n",
              "      fill: #D2E3FC;\n",
              "    }\n",
              "\n",
              "    [theme=dark] .colab-df-convert:hover {\n",
              "      background-color: #434B5C;\n",
              "      box-shadow: 0px 1px 3px 1px rgba(0, 0, 0, 0.15);\n",
              "      filter: drop-shadow(0px 1px 2px rgba(0, 0, 0, 0.3));\n",
              "      fill: #FFFFFF;\n",
              "    }\n",
              "  </style>\n",
              "\n",
              "      <script>\n",
              "        const buttonEl =\n",
              "          document.querySelector('#df-c3501a51-34f5-4484-959c-b72aecf48164 button.colab-df-convert');\n",
              "        buttonEl.style.display =\n",
              "          google.colab.kernel.accessAllowed ? 'block' : 'none';\n",
              "\n",
              "        async function convertToInteractive(key) {\n",
              "          const element = document.querySelector('#df-c3501a51-34f5-4484-959c-b72aecf48164');\n",
              "          const dataTable =\n",
              "            await google.colab.kernel.invokeFunction('convertToInteractive',\n",
              "                                                     [key], {});\n",
              "          if (!dataTable) return;\n",
              "\n",
              "          const docLinkHtml = 'Like what you see? Visit the ' +\n",
              "            '<a target=\"_blank\" href=https://colab.research.google.com/notebooks/data_table.ipynb>data table notebook</a>'\n",
              "            + ' to learn more about interactive tables.';\n",
              "          element.innerHTML = '';\n",
              "          dataTable['output_type'] = 'display_data';\n",
              "          await google.colab.output.renderOutput(dataTable, element);\n",
              "          const docLink = document.createElement('div');\n",
              "          docLink.innerHTML = docLinkHtml;\n",
              "          element.appendChild(docLink);\n",
              "        }\n",
              "      </script>\n",
              "    </div>\n",
              "  </div>\n",
              "  "
            ],
            "text/plain": [
              "  Gender Married Dependents  ... Total_Income_log Balance_Income_log   Emi_log\n",
              "0   Male      No          0  ...         8.674026           8.673956 -0.899678\n",
              "1   Male     Yes          1  ...         8.714568           8.714509 -1.034074\n",
              "2   Male     Yes          0  ...         8.006368           8.006306 -1.696449\n",
              "3   Male     Yes          0  ...         8.505323           8.505256 -1.098612\n",
              "4   Male      No          0  ...         8.699515           8.699449 -0.937344\n",
              "\n",
              "[5 rows x 12 columns]"
            ]
          },
          "metadata": {},
          "execution_count": 50
        }
      ]
    },
    {
      "cell_type": "code",
      "source": [
        "train.isnull().sum()\n",
        "train.dropna(inplace=True)"
      ],
      "metadata": {
        "id": "4VeHt2nAzPNG"
      },
      "execution_count": 51,
      "outputs": []
    },
    {
      "cell_type": "markdown",
      "source": [
        "Sklearn requires the target variable in a separate dataset. So, we will drop our target variable from the training dataset and save it in another dataset."
      ],
      "metadata": {
        "id": "DhzsOEOY4YHs"
      }
    },
    {
      "cell_type": "code",
      "source": [
        "X = train.drop('Loan_Status',axis=1)\n",
        "y = train.Loan_Status"
      ],
      "metadata": {
        "id": "CUewJPZpcbVu"
      },
      "execution_count": 52,
      "outputs": []
    },
    {
      "cell_type": "markdown",
      "source": [
        "Using dummy variables to convert string-format categorical variables to numeric values."
      ],
      "metadata": {
        "id": "z1wRPqtJNrW1"
      }
    },
    {
      "cell_type": "code",
      "source": [
        "X = pd.get_dummies(X,drop_first=True)\n",
        "train=pd.get_dummies(train,drop_first=True)\n",
        "test=pd.get_dummies(test,drop_first=True)"
      ],
      "metadata": {
        "id": "V2NmIVjFch3S"
      },
      "execution_count": 53,
      "outputs": []
    },
    {
      "cell_type": "code",
      "source": [
        "train.head()"
      ],
      "metadata": {
        "colab": {
          "base_uri": "https://localhost:8080/",
          "height": 288
        },
        "id": "L78PRzClxc08",
        "outputId": "ffbd1fe1-4cb3-4bc7-ce82-39e7a4facd29"
      },
      "execution_count": 54,
      "outputs": [
        {
          "output_type": "execute_result",
          "data": {
            "text/html": [
              "\n",
              "  <div id=\"df-eaf3f741-f89e-4e17-b02f-9e64a7bd44c3\">\n",
              "    <div class=\"colab-df-container\">\n",
              "      <div>\n",
              "<style scoped>\n",
              "    .dataframe tbody tr th:only-of-type {\n",
              "        vertical-align: middle;\n",
              "    }\n",
              "\n",
              "    .dataframe tbody tr th {\n",
              "        vertical-align: top;\n",
              "    }\n",
              "\n",
              "    .dataframe thead th {\n",
              "        text-align: right;\n",
              "    }\n",
              "</style>\n",
              "<table border=\"1\" class=\"dataframe\">\n",
              "  <thead>\n",
              "    <tr style=\"text-align: right;\">\n",
              "      <th></th>\n",
              "      <th>Credit_History</th>\n",
              "      <th>Loan_Status</th>\n",
              "      <th>LoanAmount_log</th>\n",
              "      <th>Total_Income_log</th>\n",
              "      <th>Balance_Income_log</th>\n",
              "      <th>Emi_log</th>\n",
              "      <th>Gender_Male</th>\n",
              "      <th>Married_Yes</th>\n",
              "      <th>Dependents_0</th>\n",
              "      <th>Dependents_1</th>\n",
              "      <th>Dependents_2</th>\n",
              "      <th>Education_Not Graduate</th>\n",
              "      <th>Self_Employed_Yes</th>\n",
              "      <th>Property_Area_Semiurban</th>\n",
              "      <th>Property_Area_Urban</th>\n",
              "    </tr>\n",
              "  </thead>\n",
              "  <tbody>\n",
              "    <tr>\n",
              "      <th>0</th>\n",
              "      <td>1.0</td>\n",
              "      <td>1</td>\n",
              "      <td>4.986426</td>\n",
              "      <td>8.674026</td>\n",
              "      <td>8.673956</td>\n",
              "      <td>-0.899678</td>\n",
              "      <td>1</td>\n",
              "      <td>0</td>\n",
              "      <td>1</td>\n",
              "      <td>0</td>\n",
              "      <td>0</td>\n",
              "      <td>0</td>\n",
              "      <td>0</td>\n",
              "      <td>0</td>\n",
              "      <td>1</td>\n",
              "    </tr>\n",
              "    <tr>\n",
              "      <th>1</th>\n",
              "      <td>1.0</td>\n",
              "      <td>0</td>\n",
              "      <td>4.852030</td>\n",
              "      <td>8.714568</td>\n",
              "      <td>8.714509</td>\n",
              "      <td>-1.034074</td>\n",
              "      <td>1</td>\n",
              "      <td>1</td>\n",
              "      <td>0</td>\n",
              "      <td>1</td>\n",
              "      <td>0</td>\n",
              "      <td>0</td>\n",
              "      <td>0</td>\n",
              "      <td>0</td>\n",
              "      <td>0</td>\n",
              "    </tr>\n",
              "    <tr>\n",
              "      <th>2</th>\n",
              "      <td>1.0</td>\n",
              "      <td>1</td>\n",
              "      <td>4.189655</td>\n",
              "      <td>8.006368</td>\n",
              "      <td>8.006306</td>\n",
              "      <td>-1.696449</td>\n",
              "      <td>1</td>\n",
              "      <td>1</td>\n",
              "      <td>1</td>\n",
              "      <td>0</td>\n",
              "      <td>0</td>\n",
              "      <td>0</td>\n",
              "      <td>1</td>\n",
              "      <td>0</td>\n",
              "      <td>1</td>\n",
              "    </tr>\n",
              "    <tr>\n",
              "      <th>3</th>\n",
              "      <td>1.0</td>\n",
              "      <td>1</td>\n",
              "      <td>4.787492</td>\n",
              "      <td>8.505323</td>\n",
              "      <td>8.505256</td>\n",
              "      <td>-1.098612</td>\n",
              "      <td>1</td>\n",
              "      <td>1</td>\n",
              "      <td>1</td>\n",
              "      <td>0</td>\n",
              "      <td>0</td>\n",
              "      <td>1</td>\n",
              "      <td>0</td>\n",
              "      <td>0</td>\n",
              "      <td>1</td>\n",
              "    </tr>\n",
              "    <tr>\n",
              "      <th>4</th>\n",
              "      <td>1.0</td>\n",
              "      <td>1</td>\n",
              "      <td>4.948760</td>\n",
              "      <td>8.699515</td>\n",
              "      <td>8.699449</td>\n",
              "      <td>-0.937344</td>\n",
              "      <td>1</td>\n",
              "      <td>0</td>\n",
              "      <td>1</td>\n",
              "      <td>0</td>\n",
              "      <td>0</td>\n",
              "      <td>0</td>\n",
              "      <td>0</td>\n",
              "      <td>0</td>\n",
              "      <td>1</td>\n",
              "    </tr>\n",
              "  </tbody>\n",
              "</table>\n",
              "</div>\n",
              "      <button class=\"colab-df-convert\" onclick=\"convertToInteractive('df-eaf3f741-f89e-4e17-b02f-9e64a7bd44c3')\"\n",
              "              title=\"Convert this dataframe to an interactive table.\"\n",
              "              style=\"display:none;\">\n",
              "        \n",
              "  <svg xmlns=\"http://www.w3.org/2000/svg\" height=\"24px\"viewBox=\"0 0 24 24\"\n",
              "       width=\"24px\">\n",
              "    <path d=\"M0 0h24v24H0V0z\" fill=\"none\"/>\n",
              "    <path d=\"M18.56 5.44l.94 2.06.94-2.06 2.06-.94-2.06-.94-.94-2.06-.94 2.06-2.06.94zm-11 1L8.5 8.5l.94-2.06 2.06-.94-2.06-.94L8.5 2.5l-.94 2.06-2.06.94zm10 10l.94 2.06.94-2.06 2.06-.94-2.06-.94-.94-2.06-.94 2.06-2.06.94z\"/><path d=\"M17.41 7.96l-1.37-1.37c-.4-.4-.92-.59-1.43-.59-.52 0-1.04.2-1.43.59L10.3 9.45l-7.72 7.72c-.78.78-.78 2.05 0 2.83L4 21.41c.39.39.9.59 1.41.59.51 0 1.02-.2 1.41-.59l7.78-7.78 2.81-2.81c.8-.78.8-2.07 0-2.86zM5.41 20L4 18.59l7.72-7.72 1.47 1.35L5.41 20z\"/>\n",
              "  </svg>\n",
              "      </button>\n",
              "      \n",
              "  <style>\n",
              "    .colab-df-container {\n",
              "      display:flex;\n",
              "      flex-wrap:wrap;\n",
              "      gap: 12px;\n",
              "    }\n",
              "\n",
              "    .colab-df-convert {\n",
              "      background-color: #E8F0FE;\n",
              "      border: none;\n",
              "      border-radius: 50%;\n",
              "      cursor: pointer;\n",
              "      display: none;\n",
              "      fill: #1967D2;\n",
              "      height: 32px;\n",
              "      padding: 0 0 0 0;\n",
              "      width: 32px;\n",
              "    }\n",
              "\n",
              "    .colab-df-convert:hover {\n",
              "      background-color: #E2EBFA;\n",
              "      box-shadow: 0px 1px 2px rgba(60, 64, 67, 0.3), 0px 1px 3px 1px rgba(60, 64, 67, 0.15);\n",
              "      fill: #174EA6;\n",
              "    }\n",
              "\n",
              "    [theme=dark] .colab-df-convert {\n",
              "      background-color: #3B4455;\n",
              "      fill: #D2E3FC;\n",
              "    }\n",
              "\n",
              "    [theme=dark] .colab-df-convert:hover {\n",
              "      background-color: #434B5C;\n",
              "      box-shadow: 0px 1px 3px 1px rgba(0, 0, 0, 0.15);\n",
              "      filter: drop-shadow(0px 1px 2px rgba(0, 0, 0, 0.3));\n",
              "      fill: #FFFFFF;\n",
              "    }\n",
              "  </style>\n",
              "\n",
              "      <script>\n",
              "        const buttonEl =\n",
              "          document.querySelector('#df-eaf3f741-f89e-4e17-b02f-9e64a7bd44c3 button.colab-df-convert');\n",
              "        buttonEl.style.display =\n",
              "          google.colab.kernel.accessAllowed ? 'block' : 'none';\n",
              "\n",
              "        async function convertToInteractive(key) {\n",
              "          const element = document.querySelector('#df-eaf3f741-f89e-4e17-b02f-9e64a7bd44c3');\n",
              "          const dataTable =\n",
              "            await google.colab.kernel.invokeFunction('convertToInteractive',\n",
              "                                                     [key], {});\n",
              "          if (!dataTable) return;\n",
              "\n",
              "          const docLinkHtml = 'Like what you see? Visit the ' +\n",
              "            '<a target=\"_blank\" href=https://colab.research.google.com/notebooks/data_table.ipynb>data table notebook</a>'\n",
              "            + ' to learn more about interactive tables.';\n",
              "          element.innerHTML = '';\n",
              "          dataTable['output_type'] = 'display_data';\n",
              "          await google.colab.output.renderOutput(dataTable, element);\n",
              "          const docLink = document.createElement('div');\n",
              "          docLink.innerHTML = docLinkHtml;\n",
              "          element.appendChild(docLink);\n",
              "        }\n",
              "      </script>\n",
              "    </div>\n",
              "  </div>\n",
              "  "
            ],
            "text/plain": [
              "   Credit_History  Loan_Status  ...  Property_Area_Semiurban  Property_Area_Urban\n",
              "0             1.0            1  ...                        0                    1\n",
              "1             1.0            0  ...                        0                    0\n",
              "2             1.0            1  ...                        0                    1\n",
              "3             1.0            1  ...                        0                    1\n",
              "4             1.0            1  ...                        0                    1\n",
              "\n",
              "[5 rows x 15 columns]"
            ]
          },
          "metadata": {},
          "execution_count": 54
        }
      ]
    },
    {
      "cell_type": "code",
      "source": [
        "train['Emi_log'].value_counts()"
      ],
      "metadata": {
        "colab": {
          "base_uri": "https://localhost:8080/"
        },
        "id": "wmLGV2l41N-U",
        "outputId": "82dbd9de-b75f-4ba1-9b20-04326479cb9f"
      },
      "execution_count": 55,
      "outputs": [
        {
          "output_type": "execute_result",
          "data": {
            "text/plain": [
              "-1.098612    19\n",
              "-0.899678    19\n",
              "-1.185624    17\n",
              "-1.280934    13\n",
              "-0.810930    11\n",
              "             ..\n",
              "-0.028171     1\n",
              " 0.716678     1\n",
              " 1.459906     1\n",
              "-0.136711     1\n",
              " 0.303186     1\n",
              "Name: Emi_log, Length: 240, dtype: int64"
            ]
          },
          "metadata": {},
          "execution_count": 55
        }
      ]
    },
    {
      "cell_type": "code",
      "source": [
        "train.drop('Loan_Status',axis=1,inplace=True)"
      ],
      "metadata": {
        "id": "MF4GfTuy77MP"
      },
      "execution_count": 56,
      "outputs": []
    },
    {
      "cell_type": "code",
      "source": [
        "from sklearn.model_selection import train_test_split\n",
        "x_train, x_test, y_train, y_test = train_test_split(train,y, test_size=0.3)"
      ],
      "metadata": {
        "id": "qDjhJq1acxeM"
      },
      "execution_count": 61,
      "outputs": []
    },
    {
      "cell_type": "markdown",
      "source": [
        "**1. Logistic Regression Model**"
      ],
      "metadata": {
        "id": "HIwUc-onNBt8"
      }
    },
    {
      "cell_type": "markdown",
      "source": [
        "Import LogisticRegression and accuracy_score from sklearn and fit the logistic regression model."
      ],
      "metadata": {
        "id": "ZF_PLn5NODLF"
      }
    },
    {
      "cell_type": "code",
      "source": [
        "from sklearn.linear_model import LogisticRegression\n",
        "from sklearn.metrics import accuracy_score\n",
        "model = LogisticRegression()\n",
        "model.fit(x_train, y_train)\n",
        "LogisticRegression()"
      ],
      "metadata": {
        "colab": {
          "base_uri": "https://localhost:8080/"
        },
        "id": "8iAa40i4dOC0",
        "outputId": "5c11e868-f604-48b8-b6ee-618cd8e0227d"
      },
      "execution_count": 63,
      "outputs": [
        {
          "output_type": "stream",
          "name": "stderr",
          "text": [
            "/usr/local/lib/python3.7/dist-packages/sklearn/linear_model/_logistic.py:818: ConvergenceWarning: lbfgs failed to converge (status=1):\n",
            "STOP: TOTAL NO. of ITERATIONS REACHED LIMIT.\n",
            "\n",
            "Increase the number of iterations (max_iter) or scale the data as shown in:\n",
            "    https://scikit-learn.org/stable/modules/preprocessing.html\n",
            "Please also refer to the documentation for alternative solver options:\n",
            "    https://scikit-learn.org/stable/modules/linear_model.html#logistic-regression\n",
            "  extra_warning_msg=_LOGISTIC_SOLVER_CONVERGENCE_MSG,\n"
          ]
        },
        {
          "output_type": "execute_result",
          "data": {
            "text/plain": [
              "LogisticRegression()"
            ]
          },
          "metadata": {},
          "execution_count": 63
        }
      ]
    },
    {
      "cell_type": "markdown",
      "source": [
        "Predict the Loan_Status for validation set and calculate its accuracy."
      ],
      "metadata": {
        "id": "MFkgERaCOLa8"
      }
    },
    {
      "cell_type": "code",
      "source": [
        "pred_test = model.predict(x_test)\n",
        "accuracy_score(y_test,pred_test)"
      ],
      "metadata": {
        "colab": {
          "base_uri": "https://localhost:8080/"
        },
        "id": "RC5DxarZdVHW",
        "outputId": "391cdf70-5bef-4ac1-eac5-af8811d2253e"
      },
      "execution_count": 64,
      "outputs": [
        {
          "output_type": "execute_result",
          "data": {
            "text/plain": [
              "0.8432432432432433"
            ]
          },
          "metadata": {},
          "execution_count": 64
        }
      ]
    },
    {
      "cell_type": "code",
      "source": [
        "train.shape"
      ],
      "metadata": {
        "colab": {
          "base_uri": "https://localhost:8080/"
        },
        "id": "y_h3o8A0Oiwc",
        "outputId": "60c58432-f5e6-416b-8d8f-759e602ec1fb"
      },
      "execution_count": 65,
      "outputs": [
        {
          "output_type": "execute_result",
          "data": {
            "text/plain": [
              "(614, 14)"
            ]
          },
          "metadata": {},
          "execution_count": 65
        }
      ]
    },
    {
      "cell_type": "markdown",
      "source": [
        "**Predicting for the test dataset**"
      ],
      "metadata": {
        "id": "pGx9HX593D0x"
      }
    },
    {
      "cell_type": "code",
      "source": [
        "pred_test1 = model.predict(test)"
      ],
      "metadata": {
        "id": "SLv95_gd3APh"
      },
      "execution_count": 67,
      "outputs": []
    },
    {
      "cell_type": "markdown",
      "source": [
        "**Importing the submission file**"
      ],
      "metadata": {
        "id": "mcFYpLZD3IYy"
      }
    },
    {
      "cell_type": "code",
      "source": [
        "submission = pd.read_csv('/content/sample_submission_49d68Cx.csv')\n",
        "submission.head()"
      ],
      "metadata": {
        "colab": {
          "base_uri": "https://localhost:8080/",
          "height": 206
        },
        "id": "C6J7olMg1eGZ",
        "outputId": "206d4ef3-3696-4133-db46-8064a504d75e"
      },
      "execution_count": 68,
      "outputs": [
        {
          "output_type": "execute_result",
          "data": {
            "text/html": [
              "\n",
              "  <div id=\"df-a189fccf-01a5-42ee-82a2-a856108930ba\">\n",
              "    <div class=\"colab-df-container\">\n",
              "      <div>\n",
              "<style scoped>\n",
              "    .dataframe tbody tr th:only-of-type {\n",
              "        vertical-align: middle;\n",
              "    }\n",
              "\n",
              "    .dataframe tbody tr th {\n",
              "        vertical-align: top;\n",
              "    }\n",
              "\n",
              "    .dataframe thead th {\n",
              "        text-align: right;\n",
              "    }\n",
              "</style>\n",
              "<table border=\"1\" class=\"dataframe\">\n",
              "  <thead>\n",
              "    <tr style=\"text-align: right;\">\n",
              "      <th></th>\n",
              "      <th>Loan_ID</th>\n",
              "      <th>Loan_Status</th>\n",
              "    </tr>\n",
              "  </thead>\n",
              "  <tbody>\n",
              "    <tr>\n",
              "      <th>0</th>\n",
              "      <td>LP001015</td>\n",
              "      <td>N</td>\n",
              "    </tr>\n",
              "    <tr>\n",
              "      <th>1</th>\n",
              "      <td>LP001022</td>\n",
              "      <td>N</td>\n",
              "    </tr>\n",
              "    <tr>\n",
              "      <th>2</th>\n",
              "      <td>LP001031</td>\n",
              "      <td>N</td>\n",
              "    </tr>\n",
              "    <tr>\n",
              "      <th>3</th>\n",
              "      <td>LP001035</td>\n",
              "      <td>N</td>\n",
              "    </tr>\n",
              "    <tr>\n",
              "      <th>4</th>\n",
              "      <td>LP001051</td>\n",
              "      <td>N</td>\n",
              "    </tr>\n",
              "  </tbody>\n",
              "</table>\n",
              "</div>\n",
              "      <button class=\"colab-df-convert\" onclick=\"convertToInteractive('df-a189fccf-01a5-42ee-82a2-a856108930ba')\"\n",
              "              title=\"Convert this dataframe to an interactive table.\"\n",
              "              style=\"display:none;\">\n",
              "        \n",
              "  <svg xmlns=\"http://www.w3.org/2000/svg\" height=\"24px\"viewBox=\"0 0 24 24\"\n",
              "       width=\"24px\">\n",
              "    <path d=\"M0 0h24v24H0V0z\" fill=\"none\"/>\n",
              "    <path d=\"M18.56 5.44l.94 2.06.94-2.06 2.06-.94-2.06-.94-.94-2.06-.94 2.06-2.06.94zm-11 1L8.5 8.5l.94-2.06 2.06-.94-2.06-.94L8.5 2.5l-.94 2.06-2.06.94zm10 10l.94 2.06.94-2.06 2.06-.94-2.06-.94-.94-2.06-.94 2.06-2.06.94z\"/><path d=\"M17.41 7.96l-1.37-1.37c-.4-.4-.92-.59-1.43-.59-.52 0-1.04.2-1.43.59L10.3 9.45l-7.72 7.72c-.78.78-.78 2.05 0 2.83L4 21.41c.39.39.9.59 1.41.59.51 0 1.02-.2 1.41-.59l7.78-7.78 2.81-2.81c.8-.78.8-2.07 0-2.86zM5.41 20L4 18.59l7.72-7.72 1.47 1.35L5.41 20z\"/>\n",
              "  </svg>\n",
              "      </button>\n",
              "      \n",
              "  <style>\n",
              "    .colab-df-container {\n",
              "      display:flex;\n",
              "      flex-wrap:wrap;\n",
              "      gap: 12px;\n",
              "    }\n",
              "\n",
              "    .colab-df-convert {\n",
              "      background-color: #E8F0FE;\n",
              "      border: none;\n",
              "      border-radius: 50%;\n",
              "      cursor: pointer;\n",
              "      display: none;\n",
              "      fill: #1967D2;\n",
              "      height: 32px;\n",
              "      padding: 0 0 0 0;\n",
              "      width: 32px;\n",
              "    }\n",
              "\n",
              "    .colab-df-convert:hover {\n",
              "      background-color: #E2EBFA;\n",
              "      box-shadow: 0px 1px 2px rgba(60, 64, 67, 0.3), 0px 1px 3px 1px rgba(60, 64, 67, 0.15);\n",
              "      fill: #174EA6;\n",
              "    }\n",
              "\n",
              "    [theme=dark] .colab-df-convert {\n",
              "      background-color: #3B4455;\n",
              "      fill: #D2E3FC;\n",
              "    }\n",
              "\n",
              "    [theme=dark] .colab-df-convert:hover {\n",
              "      background-color: #434B5C;\n",
              "      box-shadow: 0px 1px 3px 1px rgba(0, 0, 0, 0.15);\n",
              "      filter: drop-shadow(0px 1px 2px rgba(0, 0, 0, 0.3));\n",
              "      fill: #FFFFFF;\n",
              "    }\n",
              "  </style>\n",
              "\n",
              "      <script>\n",
              "        const buttonEl =\n",
              "          document.querySelector('#df-a189fccf-01a5-42ee-82a2-a856108930ba button.colab-df-convert');\n",
              "        buttonEl.style.display =\n",
              "          google.colab.kernel.accessAllowed ? 'block' : 'none';\n",
              "\n",
              "        async function convertToInteractive(key) {\n",
              "          const element = document.querySelector('#df-a189fccf-01a5-42ee-82a2-a856108930ba');\n",
              "          const dataTable =\n",
              "            await google.colab.kernel.invokeFunction('convertToInteractive',\n",
              "                                                     [key], {});\n",
              "          if (!dataTable) return;\n",
              "\n",
              "          const docLinkHtml = 'Like what you see? Visit the ' +\n",
              "            '<a target=\"_blank\" href=https://colab.research.google.com/notebooks/data_table.ipynb>data table notebook</a>'\n",
              "            + ' to learn more about interactive tables.';\n",
              "          element.innerHTML = '';\n",
              "          dataTable['output_type'] = 'display_data';\n",
              "          await google.colab.output.renderOutput(dataTable, element);\n",
              "          const docLink = document.createElement('div');\n",
              "          docLink.innerHTML = docLinkHtml;\n",
              "          element.appendChild(docLink);\n",
              "        }\n",
              "      </script>\n",
              "    </div>\n",
              "  </div>\n",
              "  "
            ],
            "text/plain": [
              "    Loan_ID Loan_Status\n",
              "0  LP001015           N\n",
              "1  LP001022           N\n",
              "2  LP001031           N\n",
              "3  LP001035           N\n",
              "4  LP001051           N"
            ]
          },
          "metadata": {},
          "execution_count": 68
        }
      ]
    },
    {
      "cell_type": "code",
      "source": [
        "submission['Loan_Status']=pred_test1\n",
        "submission['Loan_ID']=test_original['Loan_ID']"
      ],
      "metadata": {
        "id": "qv6BKP_E3P8M"
      },
      "execution_count": 69,
      "outputs": []
    },
    {
      "cell_type": "markdown",
      "source": [
        "**We need predictions in Y and N. So let’s convert 1 and 0 to Y and N.**"
      ],
      "metadata": {
        "id": "D4TI5vCq3WAq"
      }
    },
    {
      "cell_type": "code",
      "source": [
        "submission['Loan_Status'].replace(0, 'N', inplace=True)\n",
        "submission['Loan_Status'].replace(1, 'Y', inplace=True)"
      ],
      "metadata": {
        "id": "Az4OVelr3Sgp"
      },
      "execution_count": 70,
      "outputs": []
    },
    {
      "cell_type": "markdown",
      "source": [
        "**Convert the submission to .csv format**"
      ],
      "metadata": {
        "id": "9RKW_gaW3enJ"
      }
    },
    {
      "cell_type": "code",
      "source": [
        "pd.DataFrame(submission, columns=['Loan_ID','Loan_Status']).to_csv('logistic_loan_prediction.csv')"
      ],
      "metadata": {
        "id": "PqBFh7yQ3dhC"
      },
      "execution_count": 71,
      "outputs": []
    },
    {
      "cell_type": "markdown",
      "source": [
        "**2. Neural network**"
      ],
      "metadata": {
        "id": "WdOtWUwrmnFo"
      }
    },
    {
      "cell_type": "code",
      "source": [
        "import tensorflow as tf\n",
        "tf.random.set_seed(2021)\n",
        "from tensorflow.keras.models import Sequential\n",
        "from tensorflow.keras.layers import Dense\n",
        "\n",
        "model = tf.keras.models.Sequential([\n",
        "    tf.keras.layers.Dense(6, activation='relu',input_shape=(x_train.shape[1], )), \n",
        "    tf.keras.layers.Dense(4, activation='relu'), \n",
        "    tf.keras.layers.Dense(1, activation='sigmoid')  \n",
        "])\n",
        "\n",
        "model.compile(optimizer='sgd', loss='binary_crossentropy',metrics=['accuracy'])\n",
        "\n",
        "print(model.summary())\n",
        "\n",
        "history = model.fit( x_train,y_train,validation_data=(x_test,y_test),\n",
        "                    verbose=2,epochs=500)\n"
      ],
      "metadata": {
        "colab": {
          "base_uri": "https://localhost:8080/"
        },
        "id": "91e5y_ovmq8T",
        "outputId": "5c831e94-3fd3-4c4e-9a6a-78c5616d3238"
      },
      "execution_count": 78,
      "outputs": [
        {
          "output_type": "stream",
          "name": "stdout",
          "text": [
            "Model: \"sequential_2\"\n",
            "_________________________________________________________________\n",
            " Layer (type)                Output Shape              Param #   \n",
            "=================================================================\n",
            " dense_6 (Dense)             (None, 6)                 90        \n",
            "                                                                 \n",
            " dense_7 (Dense)             (None, 4)                 28        \n",
            "                                                                 \n",
            " dense_8 (Dense)             (None, 1)                 5         \n",
            "                                                                 \n",
            "=================================================================\n",
            "Total params: 123\n",
            "Trainable params: 123\n",
            "Non-trainable params: 0\n",
            "_________________________________________________________________\n",
            "None\n",
            "Epoch 1/500\n",
            "14/14 - 1s - loss: 0.8655 - accuracy: 0.6830 - val_loss: 0.6169 - val_accuracy: 0.6973 - 591ms/epoch - 42ms/step\n",
            "Epoch 2/500\n",
            "14/14 - 0s - loss: 0.6108 - accuracy: 0.6830 - val_loss: 0.6130 - val_accuracy: 0.6973 - 38ms/epoch - 3ms/step\n",
            "Epoch 3/500\n",
            "14/14 - 0s - loss: 0.6100 - accuracy: 0.6830 - val_loss: 0.6144 - val_accuracy: 0.6973 - 52ms/epoch - 4ms/step\n",
            "Epoch 4/500\n",
            "14/14 - 0s - loss: 0.6101 - accuracy: 0.6830 - val_loss: 0.6214 - val_accuracy: 0.6973 - 54ms/epoch - 4ms/step\n",
            "Epoch 5/500\n",
            "14/14 - 0s - loss: 0.6076 - accuracy: 0.6900 - val_loss: 0.6126 - val_accuracy: 0.6973 - 41ms/epoch - 3ms/step\n",
            "Epoch 6/500\n",
            "14/14 - 0s - loss: 0.6101 - accuracy: 0.6900 - val_loss: 0.6110 - val_accuracy: 0.6973 - 53ms/epoch - 4ms/step\n",
            "Epoch 7/500\n",
            "14/14 - 0s - loss: 0.6090 - accuracy: 0.6853 - val_loss: 0.6098 - val_accuracy: 0.6973 - 51ms/epoch - 4ms/step\n",
            "Epoch 8/500\n",
            "14/14 - 0s - loss: 0.6098 - accuracy: 0.6760 - val_loss: 0.6143 - val_accuracy: 0.6973 - 54ms/epoch - 4ms/step\n",
            "Epoch 9/500\n",
            "14/14 - 0s - loss: 0.6068 - accuracy: 0.6900 - val_loss: 0.6150 - val_accuracy: 0.6973 - 39ms/epoch - 3ms/step\n",
            "Epoch 10/500\n",
            "14/14 - 0s - loss: 0.6056 - accuracy: 0.6923 - val_loss: 0.6075 - val_accuracy: 0.6973 - 39ms/epoch - 3ms/step\n",
            "Epoch 11/500\n",
            "14/14 - 0s - loss: 0.6031 - accuracy: 0.6876 - val_loss: 0.6287 - val_accuracy: 0.7027 - 55ms/epoch - 4ms/step\n",
            "Epoch 12/500\n",
            "14/14 - 0s - loss: 0.6033 - accuracy: 0.6807 - val_loss: 0.6075 - val_accuracy: 0.6973 - 55ms/epoch - 4ms/step\n",
            "Epoch 13/500\n",
            "14/14 - 0s - loss: 0.6048 - accuracy: 0.6876 - val_loss: 0.6104 - val_accuracy: 0.6973 - 44ms/epoch - 3ms/step\n",
            "Epoch 14/500\n",
            "14/14 - 0s - loss: 0.6046 - accuracy: 0.6923 - val_loss: 0.6078 - val_accuracy: 0.7027 - 41ms/epoch - 3ms/step\n",
            "Epoch 15/500\n",
            "14/14 - 0s - loss: 0.6055 - accuracy: 0.6923 - val_loss: 0.6221 - val_accuracy: 0.7081 - 37ms/epoch - 3ms/step\n",
            "Epoch 16/500\n",
            "14/14 - 0s - loss: 0.6060 - accuracy: 0.6900 - val_loss: 0.6046 - val_accuracy: 0.7027 - 55ms/epoch - 4ms/step\n",
            "Epoch 17/500\n",
            "14/14 - 0s - loss: 0.6016 - accuracy: 0.6923 - val_loss: 0.6384 - val_accuracy: 0.6486 - 40ms/epoch - 3ms/step\n",
            "Epoch 18/500\n",
            "14/14 - 0s - loss: 0.6097 - accuracy: 0.7016 - val_loss: 0.6087 - val_accuracy: 0.7027 - 59ms/epoch - 4ms/step\n",
            "Epoch 19/500\n",
            "14/14 - 0s - loss: 0.6038 - accuracy: 0.6900 - val_loss: 0.6108 - val_accuracy: 0.7081 - 52ms/epoch - 4ms/step\n",
            "Epoch 20/500\n",
            "14/14 - 0s - loss: 0.6023 - accuracy: 0.6923 - val_loss: 0.6023 - val_accuracy: 0.7027 - 44ms/epoch - 3ms/step\n",
            "Epoch 21/500\n",
            "14/14 - 0s - loss: 0.5983 - accuracy: 0.6970 - val_loss: 0.6071 - val_accuracy: 0.7027 - 57ms/epoch - 4ms/step\n",
            "Epoch 22/500\n",
            "14/14 - 0s - loss: 0.6021 - accuracy: 0.6900 - val_loss: 0.6047 - val_accuracy: 0.7027 - 41ms/epoch - 3ms/step\n",
            "Epoch 23/500\n",
            "14/14 - 0s - loss: 0.6005 - accuracy: 0.6993 - val_loss: 0.6005 - val_accuracy: 0.7027 - 43ms/epoch - 3ms/step\n",
            "Epoch 24/500\n",
            "14/14 - 0s - loss: 0.5982 - accuracy: 0.6900 - val_loss: 0.6029 - val_accuracy: 0.7027 - 49ms/epoch - 3ms/step\n",
            "Epoch 25/500\n",
            "14/14 - 0s - loss: 0.6015 - accuracy: 0.6970 - val_loss: 0.6038 - val_accuracy: 0.6973 - 59ms/epoch - 4ms/step\n",
            "Epoch 26/500\n",
            "14/14 - 0s - loss: 0.5983 - accuracy: 0.6900 - val_loss: 0.6028 - val_accuracy: 0.6973 - 61ms/epoch - 4ms/step\n",
            "Epoch 27/500\n",
            "14/14 - 0s - loss: 0.6008 - accuracy: 0.6876 - val_loss: 0.6082 - val_accuracy: 0.7135 - 45ms/epoch - 3ms/step\n",
            "Epoch 28/500\n",
            "14/14 - 0s - loss: 0.5980 - accuracy: 0.6946 - val_loss: 0.5990 - val_accuracy: 0.7027 - 61ms/epoch - 4ms/step\n",
            "Epoch 29/500\n",
            "14/14 - 0s - loss: 0.6028 - accuracy: 0.7016 - val_loss: 0.5969 - val_accuracy: 0.7027 - 56ms/epoch - 4ms/step\n",
            "Epoch 30/500\n",
            "14/14 - 0s - loss: 0.5980 - accuracy: 0.6923 - val_loss: 0.5979 - val_accuracy: 0.6973 - 56ms/epoch - 4ms/step\n",
            "Epoch 31/500\n",
            "14/14 - 0s - loss: 0.5967 - accuracy: 0.6923 - val_loss: 0.6011 - val_accuracy: 0.6973 - 40ms/epoch - 3ms/step\n",
            "Epoch 32/500\n",
            "14/14 - 0s - loss: 0.5958 - accuracy: 0.6946 - val_loss: 0.6014 - val_accuracy: 0.6973 - 45ms/epoch - 3ms/step\n",
            "Epoch 33/500\n",
            "14/14 - 0s - loss: 0.5984 - accuracy: 0.6946 - val_loss: 0.6026 - val_accuracy: 0.7135 - 53ms/epoch - 4ms/step\n",
            "Epoch 34/500\n",
            "14/14 - 0s - loss: 0.5965 - accuracy: 0.6970 - val_loss: 0.5997 - val_accuracy: 0.7135 - 52ms/epoch - 4ms/step\n",
            "Epoch 35/500\n",
            "14/14 - 0s - loss: 0.5920 - accuracy: 0.6970 - val_loss: 0.5931 - val_accuracy: 0.7027 - 43ms/epoch - 3ms/step\n",
            "Epoch 36/500\n",
            "14/14 - 0s - loss: 0.5940 - accuracy: 0.6993 - val_loss: 0.5965 - val_accuracy: 0.6973 - 43ms/epoch - 3ms/step\n",
            "Epoch 37/500\n",
            "14/14 - 0s - loss: 0.5943 - accuracy: 0.6900 - val_loss: 0.5951 - val_accuracy: 0.7081 - 55ms/epoch - 4ms/step\n",
            "Epoch 38/500\n",
            "14/14 - 0s - loss: 0.5943 - accuracy: 0.6923 - val_loss: 0.6005 - val_accuracy: 0.6973 - 59ms/epoch - 4ms/step\n",
            "Epoch 39/500\n",
            "14/14 - 0s - loss: 0.5964 - accuracy: 0.6900 - val_loss: 0.6145 - val_accuracy: 0.7135 - 58ms/epoch - 4ms/step\n",
            "Epoch 40/500\n",
            "14/14 - 0s - loss: 0.5952 - accuracy: 0.7016 - val_loss: 0.5926 - val_accuracy: 0.6973 - 44ms/epoch - 3ms/step\n",
            "Epoch 41/500\n",
            "14/14 - 0s - loss: 0.5913 - accuracy: 0.6946 - val_loss: 0.5904 - val_accuracy: 0.7081 - 38ms/epoch - 3ms/step\n",
            "Epoch 42/500\n",
            "14/14 - 0s - loss: 0.5875 - accuracy: 0.6970 - val_loss: 0.5892 - val_accuracy: 0.7081 - 38ms/epoch - 3ms/step\n",
            "Epoch 43/500\n",
            "14/14 - 0s - loss: 0.5939 - accuracy: 0.7016 - val_loss: 0.5890 - val_accuracy: 0.7081 - 54ms/epoch - 4ms/step\n",
            "Epoch 44/500\n",
            "14/14 - 0s - loss: 0.5883 - accuracy: 0.7016 - val_loss: 0.5867 - val_accuracy: 0.7027 - 54ms/epoch - 4ms/step\n",
            "Epoch 45/500\n",
            "14/14 - 0s - loss: 0.5890 - accuracy: 0.6946 - val_loss: 0.5874 - val_accuracy: 0.7027 - 44ms/epoch - 3ms/step\n",
            "Epoch 46/500\n",
            "14/14 - 0s - loss: 0.5862 - accuracy: 0.6993 - val_loss: 0.5859 - val_accuracy: 0.7027 - 53ms/epoch - 4ms/step\n",
            "Epoch 47/500\n",
            "14/14 - 0s - loss: 0.5892 - accuracy: 0.7063 - val_loss: 0.5857 - val_accuracy: 0.7135 - 58ms/epoch - 4ms/step\n",
            "Epoch 48/500\n",
            "14/14 - 0s - loss: 0.5886 - accuracy: 0.7040 - val_loss: 0.5863 - val_accuracy: 0.7135 - 59ms/epoch - 4ms/step\n",
            "Epoch 49/500\n",
            "14/14 - 0s - loss: 0.5856 - accuracy: 0.7156 - val_loss: 0.5861 - val_accuracy: 0.6973 - 54ms/epoch - 4ms/step\n",
            "Epoch 50/500\n",
            "14/14 - 0s - loss: 0.5863 - accuracy: 0.6970 - val_loss: 0.5829 - val_accuracy: 0.7135 - 56ms/epoch - 4ms/step\n",
            "Epoch 51/500\n",
            "14/14 - 0s - loss: 0.5880 - accuracy: 0.7016 - val_loss: 0.5930 - val_accuracy: 0.6973 - 56ms/epoch - 4ms/step\n",
            "Epoch 52/500\n",
            "14/14 - 0s - loss: 0.5856 - accuracy: 0.7063 - val_loss: 0.5970 - val_accuracy: 0.6973 - 55ms/epoch - 4ms/step\n",
            "Epoch 53/500\n",
            "14/14 - 0s - loss: 0.5904 - accuracy: 0.7086 - val_loss: 0.6046 - val_accuracy: 0.6973 - 57ms/epoch - 4ms/step\n",
            "Epoch 54/500\n",
            "14/14 - 0s - loss: 0.5926 - accuracy: 0.7040 - val_loss: 0.5788 - val_accuracy: 0.7027 - 40ms/epoch - 3ms/step\n",
            "Epoch 55/500\n",
            "14/14 - 0s - loss: 0.5839 - accuracy: 0.7016 - val_loss: 0.5799 - val_accuracy: 0.7027 - 46ms/epoch - 3ms/step\n",
            "Epoch 56/500\n",
            "14/14 - 0s - loss: 0.5788 - accuracy: 0.7086 - val_loss: 0.5825 - val_accuracy: 0.7027 - 47ms/epoch - 3ms/step\n",
            "Epoch 57/500\n",
            "14/14 - 0s - loss: 0.5853 - accuracy: 0.7016 - val_loss: 0.5794 - val_accuracy: 0.7027 - 52ms/epoch - 4ms/step\n",
            "Epoch 58/500\n",
            "14/14 - 0s - loss: 0.5829 - accuracy: 0.7063 - val_loss: 0.6000 - val_accuracy: 0.7351 - 64ms/epoch - 5ms/step\n",
            "Epoch 59/500\n",
            "14/14 - 0s - loss: 0.5868 - accuracy: 0.7133 - val_loss: 0.5750 - val_accuracy: 0.7135 - 61ms/epoch - 4ms/step\n",
            "Epoch 60/500\n",
            "14/14 - 0s - loss: 0.5752 - accuracy: 0.7156 - val_loss: 0.5986 - val_accuracy: 0.6973 - 42ms/epoch - 3ms/step\n",
            "Epoch 61/500\n",
            "14/14 - 0s - loss: 0.5812 - accuracy: 0.7203 - val_loss: 0.5732 - val_accuracy: 0.7081 - 56ms/epoch - 4ms/step\n",
            "Epoch 62/500\n",
            "14/14 - 0s - loss: 0.5796 - accuracy: 0.7179 - val_loss: 0.5838 - val_accuracy: 0.7027 - 46ms/epoch - 3ms/step\n",
            "Epoch 63/500\n",
            "14/14 - 0s - loss: 0.5771 - accuracy: 0.7156 - val_loss: 0.6059 - val_accuracy: 0.6973 - 48ms/epoch - 3ms/step\n",
            "Epoch 64/500\n",
            "14/14 - 0s - loss: 0.5956 - accuracy: 0.7063 - val_loss: 0.5709 - val_accuracy: 0.7135 - 51ms/epoch - 4ms/step\n",
            "Epoch 65/500\n",
            "14/14 - 0s - loss: 0.5827 - accuracy: 0.7226 - val_loss: 0.5709 - val_accuracy: 0.7189 - 52ms/epoch - 4ms/step\n",
            "Epoch 66/500\n",
            "14/14 - 0s - loss: 0.5772 - accuracy: 0.7226 - val_loss: 0.5692 - val_accuracy: 0.7135 - 53ms/epoch - 4ms/step\n",
            "Epoch 67/500\n",
            "14/14 - 0s - loss: 0.5754 - accuracy: 0.7203 - val_loss: 0.5924 - val_accuracy: 0.6973 - 57ms/epoch - 4ms/step\n",
            "Epoch 68/500\n",
            "14/14 - 0s - loss: 0.5872 - accuracy: 0.7063 - val_loss: 0.5694 - val_accuracy: 0.7027 - 43ms/epoch - 3ms/step\n",
            "Epoch 69/500\n",
            "14/14 - 0s - loss: 0.5741 - accuracy: 0.7156 - val_loss: 0.5670 - val_accuracy: 0.7081 - 51ms/epoch - 4ms/step\n",
            "Epoch 70/500\n",
            "14/14 - 0s - loss: 0.5760 - accuracy: 0.7179 - val_loss: 0.5657 - val_accuracy: 0.7135 - 43ms/epoch - 3ms/step\n",
            "Epoch 71/500\n",
            "14/14 - 0s - loss: 0.5732 - accuracy: 0.7179 - val_loss: 0.5896 - val_accuracy: 0.7459 - 54ms/epoch - 4ms/step\n",
            "Epoch 72/500\n",
            "14/14 - 0s - loss: 0.5746 - accuracy: 0.7273 - val_loss: 0.5931 - val_accuracy: 0.6973 - 46ms/epoch - 3ms/step\n",
            "Epoch 73/500\n",
            "14/14 - 0s - loss: 0.5767 - accuracy: 0.7086 - val_loss: 0.5631 - val_accuracy: 0.7135 - 51ms/epoch - 4ms/step\n",
            "Epoch 74/500\n",
            "14/14 - 0s - loss: 0.5730 - accuracy: 0.7179 - val_loss: 0.5621 - val_accuracy: 0.7189 - 52ms/epoch - 4ms/step\n",
            "Epoch 75/500\n",
            "14/14 - 0s - loss: 0.5774 - accuracy: 0.7249 - val_loss: 0.5722 - val_accuracy: 0.7027 - 51ms/epoch - 4ms/step\n",
            "Epoch 76/500\n",
            "14/14 - 0s - loss: 0.5756 - accuracy: 0.7133 - val_loss: 0.5623 - val_accuracy: 0.7459 - 41ms/epoch - 3ms/step\n",
            "Epoch 77/500\n",
            "14/14 - 0s - loss: 0.5779 - accuracy: 0.7203 - val_loss: 0.5669 - val_accuracy: 0.7568 - 41ms/epoch - 3ms/step\n",
            "Epoch 78/500\n",
            "14/14 - 0s - loss: 0.5676 - accuracy: 0.7273 - val_loss: 0.5591 - val_accuracy: 0.7135 - 52ms/epoch - 4ms/step\n",
            "Epoch 79/500\n",
            "14/14 - 0s - loss: 0.5708 - accuracy: 0.7179 - val_loss: 0.5657 - val_accuracy: 0.7622 - 51ms/epoch - 4ms/step\n",
            "Epoch 80/500\n",
            "14/14 - 0s - loss: 0.5714 - accuracy: 0.7156 - val_loss: 0.5585 - val_accuracy: 0.7514 - 51ms/epoch - 4ms/step\n",
            "Epoch 81/500\n",
            "14/14 - 0s - loss: 0.5722 - accuracy: 0.7273 - val_loss: 0.5578 - val_accuracy: 0.7135 - 51ms/epoch - 4ms/step\n",
            "Epoch 82/500\n",
            "14/14 - 0s - loss: 0.5671 - accuracy: 0.7273 - val_loss: 0.5589 - val_accuracy: 0.7081 - 39ms/epoch - 3ms/step\n",
            "Epoch 83/500\n",
            "14/14 - 0s - loss: 0.5667 - accuracy: 0.7319 - val_loss: 0.5623 - val_accuracy: 0.7568 - 53ms/epoch - 4ms/step\n",
            "Epoch 84/500\n",
            "14/14 - 0s - loss: 0.5665 - accuracy: 0.7296 - val_loss: 0.5578 - val_accuracy: 0.7081 - 36ms/epoch - 3ms/step\n",
            "Epoch 85/500\n",
            "14/14 - 0s - loss: 0.5636 - accuracy: 0.7296 - val_loss: 0.5610 - val_accuracy: 0.7730 - 44ms/epoch - 3ms/step\n",
            "Epoch 86/500\n",
            "14/14 - 0s - loss: 0.5674 - accuracy: 0.7389 - val_loss: 0.5522 - val_accuracy: 0.7405 - 57ms/epoch - 4ms/step\n",
            "Epoch 87/500\n",
            "14/14 - 0s - loss: 0.5646 - accuracy: 0.7319 - val_loss: 0.5521 - val_accuracy: 0.7243 - 37ms/epoch - 3ms/step\n",
            "Epoch 88/500\n",
            "14/14 - 0s - loss: 0.5623 - accuracy: 0.7203 - val_loss: 0.5505 - val_accuracy: 0.7405 - 56ms/epoch - 4ms/step\n",
            "Epoch 89/500\n",
            "14/14 - 0s - loss: 0.5628 - accuracy: 0.7296 - val_loss: 0.5499 - val_accuracy: 0.7243 - 43ms/epoch - 3ms/step\n",
            "Epoch 90/500\n",
            "14/14 - 0s - loss: 0.5721 - accuracy: 0.7319 - val_loss: 0.5806 - val_accuracy: 0.7946 - 40ms/epoch - 3ms/step\n",
            "Epoch 91/500\n",
            "14/14 - 0s - loss: 0.5652 - accuracy: 0.7343 - val_loss: 0.5559 - val_accuracy: 0.7081 - 44ms/epoch - 3ms/step\n",
            "Epoch 92/500\n",
            "14/14 - 0s - loss: 0.5697 - accuracy: 0.7203 - val_loss: 0.5566 - val_accuracy: 0.7081 - 55ms/epoch - 4ms/step\n",
            "Epoch 93/500\n",
            "14/14 - 0s - loss: 0.5633 - accuracy: 0.7366 - val_loss: 0.5469 - val_accuracy: 0.7568 - 58ms/epoch - 4ms/step\n",
            "Epoch 94/500\n",
            "14/14 - 0s - loss: 0.5638 - accuracy: 0.7296 - val_loss: 0.5461 - val_accuracy: 0.7514 - 44ms/epoch - 3ms/step\n",
            "Epoch 95/500\n",
            "14/14 - 0s - loss: 0.5598 - accuracy: 0.7436 - val_loss: 0.5445 - val_accuracy: 0.7243 - 54ms/epoch - 4ms/step\n",
            "Epoch 96/500\n",
            "14/14 - 0s - loss: 0.5675 - accuracy: 0.7343 - val_loss: 0.5554 - val_accuracy: 0.7081 - 55ms/epoch - 4ms/step\n",
            "Epoch 97/500\n",
            "14/14 - 0s - loss: 0.5584 - accuracy: 0.7296 - val_loss: 0.5472 - val_accuracy: 0.7784 - 58ms/epoch - 4ms/step\n",
            "Epoch 98/500\n",
            "14/14 - 0s - loss: 0.5588 - accuracy: 0.7436 - val_loss: 0.5551 - val_accuracy: 0.7081 - 41ms/epoch - 3ms/step\n",
            "Epoch 99/500\n",
            "14/14 - 0s - loss: 0.5612 - accuracy: 0.7296 - val_loss: 0.5496 - val_accuracy: 0.7838 - 51ms/epoch - 4ms/step\n",
            "Epoch 100/500\n",
            "14/14 - 0s - loss: 0.5568 - accuracy: 0.7506 - val_loss: 0.5404 - val_accuracy: 0.7459 - 50ms/epoch - 4ms/step\n",
            "Epoch 101/500\n",
            "14/14 - 0s - loss: 0.5558 - accuracy: 0.7436 - val_loss: 0.5573 - val_accuracy: 0.8054 - 43ms/epoch - 3ms/step\n",
            "Epoch 102/500\n",
            "14/14 - 0s - loss: 0.5655 - accuracy: 0.7459 - val_loss: 0.5644 - val_accuracy: 0.8162 - 54ms/epoch - 4ms/step\n",
            "Epoch 103/500\n",
            "14/14 - 0s - loss: 0.5628 - accuracy: 0.7483 - val_loss: 0.5419 - val_accuracy: 0.7243 - 44ms/epoch - 3ms/step\n",
            "Epoch 104/500\n",
            "14/14 - 0s - loss: 0.5512 - accuracy: 0.7506 - val_loss: 0.5582 - val_accuracy: 0.7027 - 55ms/epoch - 4ms/step\n",
            "Epoch 105/500\n",
            "14/14 - 0s - loss: 0.5541 - accuracy: 0.7436 - val_loss: 0.5885 - val_accuracy: 0.7027 - 51ms/epoch - 4ms/step\n",
            "Epoch 106/500\n",
            "14/14 - 0s - loss: 0.5609 - accuracy: 0.7366 - val_loss: 0.5370 - val_accuracy: 0.7514 - 53ms/epoch - 4ms/step\n",
            "Epoch 107/500\n",
            "14/14 - 0s - loss: 0.5608 - accuracy: 0.7459 - val_loss: 0.5394 - val_accuracy: 0.7838 - 41ms/epoch - 3ms/step\n",
            "Epoch 108/500\n",
            "14/14 - 0s - loss: 0.5557 - accuracy: 0.7506 - val_loss: 0.6869 - val_accuracy: 0.4865 - 50ms/epoch - 4ms/step\n",
            "Epoch 109/500\n",
            "14/14 - 0s - loss: 0.5764 - accuracy: 0.7226 - val_loss: 0.5394 - val_accuracy: 0.7892 - 53ms/epoch - 4ms/step\n",
            "Epoch 110/500\n",
            "14/14 - 0s - loss: 0.5566 - accuracy: 0.7599 - val_loss: 0.5477 - val_accuracy: 0.7081 - 47ms/epoch - 3ms/step\n",
            "Epoch 111/500\n",
            "14/14 - 0s - loss: 0.5540 - accuracy: 0.7529 - val_loss: 0.5318 - val_accuracy: 0.7514 - 42ms/epoch - 3ms/step\n",
            "Epoch 112/500\n",
            "14/14 - 0s - loss: 0.5546 - accuracy: 0.7506 - val_loss: 0.5431 - val_accuracy: 0.7135 - 52ms/epoch - 4ms/step\n",
            "Epoch 113/500\n",
            "14/14 - 0s - loss: 0.5601 - accuracy: 0.7552 - val_loss: 0.5295 - val_accuracy: 0.7676 - 51ms/epoch - 4ms/step\n",
            "Epoch 114/500\n",
            "14/14 - 0s - loss: 0.5489 - accuracy: 0.7389 - val_loss: 0.5287 - val_accuracy: 0.7676 - 53ms/epoch - 4ms/step\n",
            "Epoch 115/500\n",
            "14/14 - 0s - loss: 0.5551 - accuracy: 0.7366 - val_loss: 0.5296 - val_accuracy: 0.7514 - 45ms/epoch - 3ms/step\n",
            "Epoch 116/500\n",
            "14/14 - 0s - loss: 0.5532 - accuracy: 0.7506 - val_loss: 0.5799 - val_accuracy: 0.7730 - 37ms/epoch - 3ms/step\n",
            "Epoch 117/500\n",
            "14/14 - 0s - loss: 0.5516 - accuracy: 0.7483 - val_loss: 0.5276 - val_accuracy: 0.7514 - 55ms/epoch - 4ms/step\n",
            "Epoch 118/500\n",
            "14/14 - 0s - loss: 0.5615 - accuracy: 0.7389 - val_loss: 0.5256 - val_accuracy: 0.7730 - 55ms/epoch - 4ms/step\n",
            "Epoch 119/500\n",
            "14/14 - 0s - loss: 0.5615 - accuracy: 0.7483 - val_loss: 0.5531 - val_accuracy: 0.8162 - 37ms/epoch - 3ms/step\n",
            "Epoch 120/500\n",
            "14/14 - 0s - loss: 0.5549 - accuracy: 0.7599 - val_loss: 0.5307 - val_accuracy: 0.8000 - 55ms/epoch - 4ms/step\n",
            "Epoch 121/500\n",
            "14/14 - 0s - loss: 0.5458 - accuracy: 0.7506 - val_loss: 0.5353 - val_accuracy: 0.8324 - 54ms/epoch - 4ms/step\n",
            "Epoch 122/500\n",
            "14/14 - 0s - loss: 0.5505 - accuracy: 0.7506 - val_loss: 0.5449 - val_accuracy: 0.8216 - 53ms/epoch - 4ms/step\n",
            "Epoch 123/500\n",
            "14/14 - 0s - loss: 0.5518 - accuracy: 0.7576 - val_loss: 0.5220 - val_accuracy: 0.7730 - 57ms/epoch - 4ms/step\n",
            "Epoch 124/500\n",
            "14/14 - 0s - loss: 0.5548 - accuracy: 0.7576 - val_loss: 0.5230 - val_accuracy: 0.7676 - 42ms/epoch - 3ms/step\n",
            "Epoch 125/500\n",
            "14/14 - 0s - loss: 0.5465 - accuracy: 0.7483 - val_loss: 0.5225 - val_accuracy: 0.7892 - 55ms/epoch - 4ms/step\n",
            "Epoch 126/500\n",
            "14/14 - 0s - loss: 0.5488 - accuracy: 0.7576 - val_loss: 0.5233 - val_accuracy: 0.7622 - 49ms/epoch - 4ms/step\n",
            "Epoch 127/500\n",
            "14/14 - 0s - loss: 0.5538 - accuracy: 0.7483 - val_loss: 0.5191 - val_accuracy: 0.7676 - 59ms/epoch - 4ms/step\n",
            "Epoch 128/500\n",
            "14/14 - 0s - loss: 0.5506 - accuracy: 0.7366 - val_loss: 0.5308 - val_accuracy: 0.7459 - 44ms/epoch - 3ms/step\n",
            "Epoch 129/500\n",
            "14/14 - 0s - loss: 0.5512 - accuracy: 0.7692 - val_loss: 0.5845 - val_accuracy: 0.7568 - 47ms/epoch - 3ms/step\n",
            "Epoch 130/500\n",
            "14/14 - 0s - loss: 0.5554 - accuracy: 0.7506 - val_loss: 0.5617 - val_accuracy: 0.7027 - 42ms/epoch - 3ms/step\n",
            "Epoch 131/500\n",
            "14/14 - 0s - loss: 0.5509 - accuracy: 0.7669 - val_loss: 0.5156 - val_accuracy: 0.7838 - 53ms/epoch - 4ms/step\n",
            "Epoch 132/500\n",
            "14/14 - 0s - loss: 0.5475 - accuracy: 0.7552 - val_loss: 0.5184 - val_accuracy: 0.8216 - 48ms/epoch - 3ms/step\n",
            "Epoch 133/500\n",
            "14/14 - 0s - loss: 0.5554 - accuracy: 0.7483 - val_loss: 0.5335 - val_accuracy: 0.7351 - 55ms/epoch - 4ms/step\n",
            "Epoch 134/500\n",
            "14/14 - 0s - loss: 0.5496 - accuracy: 0.7692 - val_loss: 0.5170 - val_accuracy: 0.8216 - 42ms/epoch - 3ms/step\n",
            "Epoch 135/500\n",
            "14/14 - 0s - loss: 0.5421 - accuracy: 0.7669 - val_loss: 0.5153 - val_accuracy: 0.8054 - 53ms/epoch - 4ms/step\n",
            "Epoch 136/500\n",
            "14/14 - 0s - loss: 0.5414 - accuracy: 0.7669 - val_loss: 0.5806 - val_accuracy: 0.7568 - 53ms/epoch - 4ms/step\n",
            "Epoch 137/500\n",
            "14/14 - 0s - loss: 0.5504 - accuracy: 0.7669 - val_loss: 0.5143 - val_accuracy: 0.7676 - 44ms/epoch - 3ms/step\n",
            "Epoch 138/500\n",
            "14/14 - 0s - loss: 0.5435 - accuracy: 0.7646 - val_loss: 0.5554 - val_accuracy: 0.7027 - 51ms/epoch - 4ms/step\n",
            "Epoch 139/500\n",
            "14/14 - 0s - loss: 0.5564 - accuracy: 0.7622 - val_loss: 0.5117 - val_accuracy: 0.7784 - 58ms/epoch - 4ms/step\n",
            "Epoch 140/500\n",
            "14/14 - 0s - loss: 0.5325 - accuracy: 0.7599 - val_loss: 0.5344 - val_accuracy: 0.8216 - 42ms/epoch - 3ms/step\n",
            "Epoch 141/500\n",
            "14/14 - 0s - loss: 0.5513 - accuracy: 0.7716 - val_loss: 0.5472 - val_accuracy: 0.7135 - 40ms/epoch - 3ms/step\n",
            "Epoch 142/500\n",
            "14/14 - 0s - loss: 0.5418 - accuracy: 0.7599 - val_loss: 0.5185 - val_accuracy: 0.7622 - 39ms/epoch - 3ms/step\n",
            "Epoch 143/500\n",
            "14/14 - 0s - loss: 0.5467 - accuracy: 0.7669 - val_loss: 0.5080 - val_accuracy: 0.7946 - 41ms/epoch - 3ms/step\n",
            "Epoch 144/500\n",
            "14/14 - 0s - loss: 0.5471 - accuracy: 0.7669 - val_loss: 0.5261 - val_accuracy: 0.8324 - 58ms/epoch - 4ms/step\n",
            "Epoch 145/500\n",
            "14/14 - 0s - loss: 0.5504 - accuracy: 0.7692 - val_loss: 0.5888 - val_accuracy: 0.7297 - 43ms/epoch - 3ms/step\n",
            "Epoch 146/500\n",
            "14/14 - 0s - loss: 0.5482 - accuracy: 0.7716 - val_loss: 0.5183 - val_accuracy: 0.7622 - 39ms/epoch - 3ms/step\n",
            "Epoch 147/500\n",
            "14/14 - 0s - loss: 0.5373 - accuracy: 0.7716 - val_loss: 0.5059 - val_accuracy: 0.7946 - 60ms/epoch - 4ms/step\n",
            "Epoch 148/500\n",
            "14/14 - 0s - loss: 0.5412 - accuracy: 0.7646 - val_loss: 0.5064 - val_accuracy: 0.8270 - 54ms/epoch - 4ms/step\n",
            "Epoch 149/500\n",
            "14/14 - 0s - loss: 0.5363 - accuracy: 0.7739 - val_loss: 0.5103 - val_accuracy: 0.8486 - 40ms/epoch - 3ms/step\n",
            "Epoch 150/500\n",
            "14/14 - 0s - loss: 0.5607 - accuracy: 0.7599 - val_loss: 0.5073 - val_accuracy: 0.8486 - 41ms/epoch - 3ms/step\n",
            "Epoch 151/500\n",
            "14/14 - 0s - loss: 0.5472 - accuracy: 0.7669 - val_loss: 0.5702 - val_accuracy: 0.7784 - 52ms/epoch - 4ms/step\n",
            "Epoch 152/500\n",
            "14/14 - 0s - loss: 0.5367 - accuracy: 0.7646 - val_loss: 0.5077 - val_accuracy: 0.8486 - 36ms/epoch - 3ms/step\n",
            "Epoch 153/500\n",
            "14/14 - 0s - loss: 0.5407 - accuracy: 0.7646 - val_loss: 0.5025 - val_accuracy: 0.8000 - 55ms/epoch - 4ms/step\n",
            "Epoch 154/500\n",
            "14/14 - 0s - loss: 0.5412 - accuracy: 0.7646 - val_loss: 0.5018 - val_accuracy: 0.8162 - 54ms/epoch - 4ms/step\n",
            "Epoch 155/500\n",
            "14/14 - 0s - loss: 0.5387 - accuracy: 0.7646 - val_loss: 0.5720 - val_accuracy: 0.7676 - 54ms/epoch - 4ms/step\n",
            "Epoch 156/500\n",
            "14/14 - 0s - loss: 0.5461 - accuracy: 0.7622 - val_loss: 0.5327 - val_accuracy: 0.7405 - 41ms/epoch - 3ms/step\n",
            "Epoch 157/500\n",
            "14/14 - 0s - loss: 0.5343 - accuracy: 0.7786 - val_loss: 0.5545 - val_accuracy: 0.7892 - 53ms/epoch - 4ms/step\n",
            "Epoch 158/500\n",
            "14/14 - 0s - loss: 0.5460 - accuracy: 0.7739 - val_loss: 0.5345 - val_accuracy: 0.8108 - 40ms/epoch - 3ms/step\n",
            "Epoch 159/500\n",
            "14/14 - 0s - loss: 0.5384 - accuracy: 0.7716 - val_loss: 0.5005 - val_accuracy: 0.7946 - 45ms/epoch - 3ms/step\n",
            "Epoch 160/500\n",
            "14/14 - 0s - loss: 0.5313 - accuracy: 0.7646 - val_loss: 0.5153 - val_accuracy: 0.8378 - 54ms/epoch - 4ms/step\n",
            "Epoch 161/500\n",
            "14/14 - 0s - loss: 0.5319 - accuracy: 0.7669 - val_loss: 0.4975 - val_accuracy: 0.8162 - 52ms/epoch - 4ms/step\n",
            "Epoch 162/500\n",
            "14/14 - 0s - loss: 0.5325 - accuracy: 0.7786 - val_loss: 0.5314 - val_accuracy: 0.8162 - 45ms/epoch - 3ms/step\n",
            "Epoch 163/500\n",
            "14/14 - 0s - loss: 0.5301 - accuracy: 0.7832 - val_loss: 0.4964 - val_accuracy: 0.8216 - 57ms/epoch - 4ms/step\n",
            "Epoch 164/500\n",
            "14/14 - 0s - loss: 0.5357 - accuracy: 0.7762 - val_loss: 0.5244 - val_accuracy: 0.7568 - 41ms/epoch - 3ms/step\n",
            "Epoch 165/500\n",
            "14/14 - 0s - loss: 0.5310 - accuracy: 0.7762 - val_loss: 0.4952 - val_accuracy: 0.8432 - 51ms/epoch - 4ms/step\n",
            "Epoch 166/500\n",
            "14/14 - 0s - loss: 0.5353 - accuracy: 0.7692 - val_loss: 0.4954 - val_accuracy: 0.8486 - 39ms/epoch - 3ms/step\n",
            "Epoch 167/500\n",
            "14/14 - 0s - loss: 0.5338 - accuracy: 0.7786 - val_loss: 0.5028 - val_accuracy: 0.7784 - 57ms/epoch - 4ms/step\n",
            "Epoch 168/500\n",
            "14/14 - 0s - loss: 0.5396 - accuracy: 0.7739 - val_loss: 0.4930 - val_accuracy: 0.8270 - 43ms/epoch - 3ms/step\n",
            "Epoch 169/500\n",
            "14/14 - 0s - loss: 0.5249 - accuracy: 0.7855 - val_loss: 0.5855 - val_accuracy: 0.7351 - 51ms/epoch - 4ms/step\n",
            "Epoch 170/500\n",
            "14/14 - 0s - loss: 0.5352 - accuracy: 0.7762 - val_loss: 0.5028 - val_accuracy: 0.7784 - 60ms/epoch - 4ms/step\n",
            "Epoch 171/500\n",
            "14/14 - 0s - loss: 0.5298 - accuracy: 0.7716 - val_loss: 0.4938 - val_accuracy: 0.8054 - 43ms/epoch - 3ms/step\n",
            "Epoch 172/500\n",
            "14/14 - 0s - loss: 0.5389 - accuracy: 0.7786 - val_loss: 0.6125 - val_accuracy: 0.7027 - 55ms/epoch - 4ms/step\n",
            "Epoch 173/500\n",
            "14/14 - 0s - loss: 0.5451 - accuracy: 0.7576 - val_loss: 0.6117 - val_accuracy: 0.7027 - 39ms/epoch - 3ms/step\n",
            "Epoch 174/500\n",
            "14/14 - 0s - loss: 0.5344 - accuracy: 0.7832 - val_loss: 0.4907 - val_accuracy: 0.8486 - 53ms/epoch - 4ms/step\n",
            "Epoch 175/500\n",
            "14/14 - 0s - loss: 0.5315 - accuracy: 0.7786 - val_loss: 0.5020 - val_accuracy: 0.8432 - 50ms/epoch - 4ms/step\n",
            "Epoch 176/500\n",
            "14/14 - 0s - loss: 0.5353 - accuracy: 0.7739 - val_loss: 0.4983 - val_accuracy: 0.8432 - 44ms/epoch - 3ms/step\n",
            "Epoch 177/500\n",
            "14/14 - 0s - loss: 0.5332 - accuracy: 0.7762 - val_loss: 0.5120 - val_accuracy: 0.8378 - 53ms/epoch - 4ms/step\n",
            "Epoch 178/500\n",
            "14/14 - 0s - loss: 0.5336 - accuracy: 0.7832 - val_loss: 0.4969 - val_accuracy: 0.8432 - 53ms/epoch - 4ms/step\n",
            "Epoch 179/500\n",
            "14/14 - 0s - loss: 0.5324 - accuracy: 0.7809 - val_loss: 0.5926 - val_accuracy: 0.7297 - 45ms/epoch - 3ms/step\n",
            "Epoch 180/500\n",
            "14/14 - 0s - loss: 0.5375 - accuracy: 0.7669 - val_loss: 0.5198 - val_accuracy: 0.8216 - 42ms/epoch - 3ms/step\n",
            "Epoch 181/500\n",
            "14/14 - 0s - loss: 0.5293 - accuracy: 0.7809 - val_loss: 0.4997 - val_accuracy: 0.7892 - 53ms/epoch - 4ms/step\n",
            "Epoch 182/500\n",
            "14/14 - 0s - loss: 0.5328 - accuracy: 0.7762 - val_loss: 0.6254 - val_accuracy: 0.6811 - 36ms/epoch - 3ms/step\n",
            "Epoch 183/500\n",
            "14/14 - 0s - loss: 0.5479 - accuracy: 0.7762 - val_loss: 0.5074 - val_accuracy: 0.7784 - 43ms/epoch - 3ms/step\n",
            "Epoch 184/500\n",
            "14/14 - 0s - loss: 0.5408 - accuracy: 0.7669 - val_loss: 0.5153 - val_accuracy: 0.8216 - 66ms/epoch - 5ms/step\n",
            "Epoch 185/500\n",
            "14/14 - 0s - loss: 0.5364 - accuracy: 0.7832 - val_loss: 0.4871 - val_accuracy: 0.8324 - 54ms/epoch - 4ms/step\n",
            "Epoch 186/500\n",
            "14/14 - 0s - loss: 0.5317 - accuracy: 0.7716 - val_loss: 0.4903 - val_accuracy: 0.8432 - 62ms/epoch - 4ms/step\n",
            "Epoch 187/500\n",
            "14/14 - 0s - loss: 0.5246 - accuracy: 0.7855 - val_loss: 0.4908 - val_accuracy: 0.8000 - 61ms/epoch - 4ms/step\n",
            "Epoch 188/500\n",
            "14/14 - 0s - loss: 0.5451 - accuracy: 0.7669 - val_loss: 0.4935 - val_accuracy: 0.7946 - 58ms/epoch - 4ms/step\n",
            "Epoch 189/500\n",
            "14/14 - 0s - loss: 0.5307 - accuracy: 0.7832 - val_loss: 0.5285 - val_accuracy: 0.8054 - 46ms/epoch - 3ms/step\n",
            "Epoch 190/500\n",
            "14/14 - 0s - loss: 0.5429 - accuracy: 0.7855 - val_loss: 0.5091 - val_accuracy: 0.8324 - 48ms/epoch - 3ms/step\n",
            "Epoch 191/500\n",
            "14/14 - 0s - loss: 0.5294 - accuracy: 0.7786 - val_loss: 0.4840 - val_accuracy: 0.8432 - 51ms/epoch - 4ms/step\n",
            "Epoch 192/500\n",
            "14/14 - 0s - loss: 0.5266 - accuracy: 0.7832 - val_loss: 0.5202 - val_accuracy: 0.7568 - 38ms/epoch - 3ms/step\n",
            "Epoch 193/500\n",
            "14/14 - 0s - loss: 0.5284 - accuracy: 0.7739 - val_loss: 0.5105 - val_accuracy: 0.7676 - 41ms/epoch - 3ms/step\n",
            "Epoch 194/500\n",
            "14/14 - 0s - loss: 0.5307 - accuracy: 0.7925 - val_loss: 0.6451 - val_accuracy: 0.5946 - 42ms/epoch - 3ms/step\n",
            "Epoch 195/500\n",
            "14/14 - 0s - loss: 0.5396 - accuracy: 0.7809 - val_loss: 0.5125 - val_accuracy: 0.8270 - 57ms/epoch - 4ms/step\n",
            "Epoch 196/500\n",
            "14/14 - 0s - loss: 0.5323 - accuracy: 0.7786 - val_loss: 0.4982 - val_accuracy: 0.7892 - 60ms/epoch - 4ms/step\n",
            "Epoch 197/500\n",
            "14/14 - 0s - loss: 0.5259 - accuracy: 0.7855 - val_loss: 0.5381 - val_accuracy: 0.7838 - 62ms/epoch - 4ms/step\n",
            "Epoch 198/500\n",
            "14/14 - 0s - loss: 0.5228 - accuracy: 0.7925 - val_loss: 0.4854 - val_accuracy: 0.8162 - 46ms/epoch - 3ms/step\n",
            "Epoch 199/500\n",
            "14/14 - 0s - loss: 0.5342 - accuracy: 0.7762 - val_loss: 0.4817 - val_accuracy: 0.8432 - 40ms/epoch - 3ms/step\n",
            "Epoch 200/500\n",
            "14/14 - 0s - loss: 0.5333 - accuracy: 0.7832 - val_loss: 0.4802 - val_accuracy: 0.8432 - 42ms/epoch - 3ms/step\n",
            "Epoch 201/500\n",
            "14/14 - 0s - loss: 0.5271 - accuracy: 0.7809 - val_loss: 0.4828 - val_accuracy: 0.8378 - 54ms/epoch - 4ms/step\n",
            "Epoch 202/500\n",
            "14/14 - 0s - loss: 0.5328 - accuracy: 0.7879 - val_loss: 0.5030 - val_accuracy: 0.7838 - 54ms/epoch - 4ms/step\n",
            "Epoch 203/500\n",
            "14/14 - 0s - loss: 0.5316 - accuracy: 0.7855 - val_loss: 0.5036 - val_accuracy: 0.8378 - 46ms/epoch - 3ms/step\n",
            "Epoch 204/500\n",
            "14/14 - 0s - loss: 0.5361 - accuracy: 0.7786 - val_loss: 0.4820 - val_accuracy: 0.8432 - 45ms/epoch - 3ms/step\n",
            "Epoch 205/500\n",
            "14/14 - 0s - loss: 0.5260 - accuracy: 0.7739 - val_loss: 0.5931 - val_accuracy: 0.7243 - 51ms/epoch - 4ms/step\n",
            "Epoch 206/500\n",
            "14/14 - 0s - loss: 0.5454 - accuracy: 0.7576 - val_loss: 0.4884 - val_accuracy: 0.8432 - 58ms/epoch - 4ms/step\n",
            "Epoch 207/500\n",
            "14/14 - 0s - loss: 0.5208 - accuracy: 0.7832 - val_loss: 0.5364 - val_accuracy: 0.7784 - 47ms/epoch - 3ms/step\n",
            "Epoch 208/500\n",
            "14/14 - 0s - loss: 0.5211 - accuracy: 0.7762 - val_loss: 0.4880 - val_accuracy: 0.8108 - 42ms/epoch - 3ms/step\n",
            "Epoch 209/500\n",
            "14/14 - 0s - loss: 0.5214 - accuracy: 0.7855 - val_loss: 0.4769 - val_accuracy: 0.8486 - 50ms/epoch - 4ms/step\n",
            "Epoch 210/500\n",
            "14/14 - 0s - loss: 0.5332 - accuracy: 0.7879 - val_loss: 0.4922 - val_accuracy: 0.7946 - 55ms/epoch - 4ms/step\n",
            "Epoch 211/500\n",
            "14/14 - 0s - loss: 0.5269 - accuracy: 0.7832 - val_loss: 0.4935 - val_accuracy: 0.8378 - 46ms/epoch - 3ms/step\n",
            "Epoch 212/500\n",
            "14/14 - 0s - loss: 0.5214 - accuracy: 0.7879 - val_loss: 0.4814 - val_accuracy: 0.8432 - 41ms/epoch - 3ms/step\n",
            "Epoch 213/500\n",
            "14/14 - 0s - loss: 0.5238 - accuracy: 0.7786 - val_loss: 0.5087 - val_accuracy: 0.8270 - 55ms/epoch - 4ms/step\n",
            "Epoch 214/500\n",
            "14/14 - 0s - loss: 0.5178 - accuracy: 0.7879 - val_loss: 0.5657 - val_accuracy: 0.7243 - 51ms/epoch - 4ms/step\n",
            "Epoch 215/500\n",
            "14/14 - 0s - loss: 0.5348 - accuracy: 0.7879 - val_loss: 0.4799 - val_accuracy: 0.8378 - 50ms/epoch - 4ms/step\n",
            "Epoch 216/500\n",
            "14/14 - 0s - loss: 0.5328 - accuracy: 0.7949 - val_loss: 0.4738 - val_accuracy: 0.8432 - 58ms/epoch - 4ms/step\n",
            "Epoch 217/500\n",
            "14/14 - 0s - loss: 0.5208 - accuracy: 0.7809 - val_loss: 0.4734 - val_accuracy: 0.8432 - 42ms/epoch - 3ms/step\n",
            "Epoch 218/500\n",
            "14/14 - 0s - loss: 0.5218 - accuracy: 0.7809 - val_loss: 0.5233 - val_accuracy: 0.8000 - 56ms/epoch - 4ms/step\n",
            "Epoch 219/500\n",
            "14/14 - 0s - loss: 0.5189 - accuracy: 0.7809 - val_loss: 0.4884 - val_accuracy: 0.8378 - 59ms/epoch - 4ms/step\n",
            "Epoch 220/500\n",
            "14/14 - 0s - loss: 0.5244 - accuracy: 0.7879 - val_loss: 0.4866 - val_accuracy: 0.8432 - 43ms/epoch - 3ms/step\n",
            "Epoch 221/500\n",
            "14/14 - 0s - loss: 0.5188 - accuracy: 0.7902 - val_loss: 0.4830 - val_accuracy: 0.8162 - 40ms/epoch - 3ms/step\n",
            "Epoch 222/500\n",
            "14/14 - 0s - loss: 0.5163 - accuracy: 0.7832 - val_loss: 0.4848 - val_accuracy: 0.8432 - 54ms/epoch - 4ms/step\n",
            "Epoch 223/500\n",
            "14/14 - 0s - loss: 0.5214 - accuracy: 0.7832 - val_loss: 0.5625 - val_accuracy: 0.7568 - 36ms/epoch - 3ms/step\n",
            "Epoch 224/500\n",
            "14/14 - 0s - loss: 0.5374 - accuracy: 0.7786 - val_loss: 0.4781 - val_accuracy: 0.8432 - 42ms/epoch - 3ms/step\n",
            "Epoch 225/500\n",
            "14/14 - 0s - loss: 0.5175 - accuracy: 0.7949 - val_loss: 0.5041 - val_accuracy: 0.8324 - 60ms/epoch - 4ms/step\n",
            "Epoch 226/500\n",
            "14/14 - 0s - loss: 0.5430 - accuracy: 0.7809 - val_loss: 0.5349 - val_accuracy: 0.7838 - 39ms/epoch - 3ms/step\n",
            "Epoch 227/500\n",
            "14/14 - 0s - loss: 0.5262 - accuracy: 0.7762 - val_loss: 0.5481 - val_accuracy: 0.7514 - 60ms/epoch - 4ms/step\n",
            "Epoch 228/500\n",
            "14/14 - 0s - loss: 0.5278 - accuracy: 0.7879 - val_loss: 0.4713 - val_accuracy: 0.8432 - 59ms/epoch - 4ms/step\n",
            "Epoch 229/500\n",
            "14/14 - 0s - loss: 0.5241 - accuracy: 0.7855 - val_loss: 0.4754 - val_accuracy: 0.8486 - 43ms/epoch - 3ms/step\n",
            "Epoch 230/500\n",
            "14/14 - 0s - loss: 0.5310 - accuracy: 0.7762 - val_loss: 0.4936 - val_accuracy: 0.7946 - 40ms/epoch - 3ms/step\n",
            "Epoch 231/500\n",
            "14/14 - 0s - loss: 0.5222 - accuracy: 0.7855 - val_loss: 0.5410 - val_accuracy: 0.7784 - 41ms/epoch - 3ms/step\n",
            "Epoch 232/500\n",
            "14/14 - 0s - loss: 0.5271 - accuracy: 0.7762 - val_loss: 0.4694 - val_accuracy: 0.8432 - 61ms/epoch - 4ms/step\n",
            "Epoch 233/500\n",
            "14/14 - 0s - loss: 0.5184 - accuracy: 0.7879 - val_loss: 0.5300 - val_accuracy: 0.7622 - 40ms/epoch - 3ms/step\n",
            "Epoch 234/500\n",
            "14/14 - 0s - loss: 0.5252 - accuracy: 0.7786 - val_loss: 0.4690 - val_accuracy: 0.8432 - 63ms/epoch - 4ms/step\n",
            "Epoch 235/500\n",
            "14/14 - 0s - loss: 0.5220 - accuracy: 0.7786 - val_loss: 0.4688 - val_accuracy: 0.8432 - 70ms/epoch - 5ms/step\n",
            "Epoch 236/500\n",
            "14/14 - 0s - loss: 0.5165 - accuracy: 0.7855 - val_loss: 0.4738 - val_accuracy: 0.8432 - 40ms/epoch - 3ms/step\n",
            "Epoch 237/500\n",
            "14/14 - 0s - loss: 0.5148 - accuracy: 0.7995 - val_loss: 0.4699 - val_accuracy: 0.8486 - 60ms/epoch - 4ms/step\n",
            "Epoch 238/500\n",
            "14/14 - 0s - loss: 0.5125 - accuracy: 0.7949 - val_loss: 0.4690 - val_accuracy: 0.8486 - 54ms/epoch - 4ms/step\n",
            "Epoch 239/500\n",
            "14/14 - 0s - loss: 0.5227 - accuracy: 0.7925 - val_loss: 0.4716 - val_accuracy: 0.8486 - 57ms/epoch - 4ms/step\n",
            "Epoch 240/500\n",
            "14/14 - 0s - loss: 0.5371 - accuracy: 0.7716 - val_loss: 0.4761 - val_accuracy: 0.8486 - 56ms/epoch - 4ms/step\n",
            "Epoch 241/500\n",
            "14/14 - 0s - loss: 0.5179 - accuracy: 0.7879 - val_loss: 0.4848 - val_accuracy: 0.8378 - 64ms/epoch - 5ms/step\n",
            "Epoch 242/500\n",
            "14/14 - 0s - loss: 0.5130 - accuracy: 0.7925 - val_loss: 0.5716 - val_accuracy: 0.7405 - 61ms/epoch - 4ms/step\n",
            "Epoch 243/500\n",
            "14/14 - 0s - loss: 0.5150 - accuracy: 0.8019 - val_loss: 0.4714 - val_accuracy: 0.8432 - 57ms/epoch - 4ms/step\n",
            "Epoch 244/500\n",
            "14/14 - 0s - loss: 0.5156 - accuracy: 0.7995 - val_loss: 0.4664 - val_accuracy: 0.8432 - 55ms/epoch - 4ms/step\n",
            "Epoch 245/500\n",
            "14/14 - 0s - loss: 0.5141 - accuracy: 0.7879 - val_loss: 0.5187 - val_accuracy: 0.7946 - 56ms/epoch - 4ms/step\n",
            "Epoch 246/500\n",
            "14/14 - 0s - loss: 0.5002 - accuracy: 0.7809 - val_loss: 0.5403 - val_accuracy: 0.7568 - 43ms/epoch - 3ms/step\n",
            "Epoch 247/500\n",
            "14/14 - 0s - loss: 0.5176 - accuracy: 0.7949 - val_loss: 0.4695 - val_accuracy: 0.8432 - 43ms/epoch - 3ms/step\n",
            "Epoch 248/500\n",
            "14/14 - 0s - loss: 0.5250 - accuracy: 0.7902 - val_loss: 0.4715 - val_accuracy: 0.8486 - 49ms/epoch - 3ms/step\n",
            "Epoch 249/500\n",
            "14/14 - 0s - loss: 0.5090 - accuracy: 0.7925 - val_loss: 0.4741 - val_accuracy: 0.8432 - 54ms/epoch - 4ms/step\n",
            "Epoch 250/500\n",
            "14/14 - 0s - loss: 0.5202 - accuracy: 0.7902 - val_loss: 0.7095 - val_accuracy: 0.5027 - 37ms/epoch - 3ms/step\n",
            "Epoch 251/500\n",
            "14/14 - 0s - loss: 0.5552 - accuracy: 0.7552 - val_loss: 0.4629 - val_accuracy: 0.8432 - 63ms/epoch - 5ms/step\n",
            "Epoch 252/500\n",
            "14/14 - 0s - loss: 0.5186 - accuracy: 0.7902 - val_loss: 0.5355 - val_accuracy: 0.7730 - 56ms/epoch - 4ms/step\n",
            "Epoch 253/500\n",
            "14/14 - 0s - loss: 0.5418 - accuracy: 0.7879 - val_loss: 0.4630 - val_accuracy: 0.8432 - 42ms/epoch - 3ms/step\n",
            "Epoch 254/500\n",
            "14/14 - 0s - loss: 0.5372 - accuracy: 0.7716 - val_loss: 0.4674 - val_accuracy: 0.8486 - 40ms/epoch - 3ms/step\n",
            "Epoch 255/500\n",
            "14/14 - 0s - loss: 0.5172 - accuracy: 0.7925 - val_loss: 0.5217 - val_accuracy: 0.7892 - 51ms/epoch - 4ms/step\n",
            "Epoch 256/500\n",
            "14/14 - 0s - loss: 0.5268 - accuracy: 0.7925 - val_loss: 0.6246 - val_accuracy: 0.6541 - 51ms/epoch - 4ms/step\n",
            "Epoch 257/500\n",
            "14/14 - 0s - loss: 0.5206 - accuracy: 0.7902 - val_loss: 0.5150 - val_accuracy: 0.8108 - 54ms/epoch - 4ms/step\n",
            "Epoch 258/500\n",
            "14/14 - 0s - loss: 0.5176 - accuracy: 0.7855 - val_loss: 0.4695 - val_accuracy: 0.8432 - 49ms/epoch - 3ms/step\n",
            "Epoch 259/500\n",
            "14/14 - 0s - loss: 0.5104 - accuracy: 0.7925 - val_loss: 0.4612 - val_accuracy: 0.8432 - 45ms/epoch - 3ms/step\n",
            "Epoch 260/500\n",
            "14/14 - 0s - loss: 0.5101 - accuracy: 0.7879 - val_loss: 0.4731 - val_accuracy: 0.8432 - 36ms/epoch - 3ms/step\n",
            "Epoch 261/500\n",
            "14/14 - 0s - loss: 0.5076 - accuracy: 0.7949 - val_loss: 0.5658 - val_accuracy: 0.7514 - 58ms/epoch - 4ms/step\n",
            "Epoch 262/500\n",
            "14/14 - 0s - loss: 0.5182 - accuracy: 0.7832 - val_loss: 0.4674 - val_accuracy: 0.8486 - 54ms/epoch - 4ms/step\n",
            "Epoch 263/500\n",
            "14/14 - 0s - loss: 0.5196 - accuracy: 0.7855 - val_loss: 0.4672 - val_accuracy: 0.8486 - 39ms/epoch - 3ms/step\n",
            "Epoch 264/500\n",
            "14/14 - 0s - loss: 0.5147 - accuracy: 0.7925 - val_loss: 0.4613 - val_accuracy: 0.8432 - 55ms/epoch - 4ms/step\n",
            "Epoch 265/500\n",
            "14/14 - 0s - loss: 0.5212 - accuracy: 0.7972 - val_loss: 0.4644 - val_accuracy: 0.8432 - 47ms/epoch - 3ms/step\n",
            "Epoch 266/500\n",
            "14/14 - 0s - loss: 0.5374 - accuracy: 0.7786 - val_loss: 0.4658 - val_accuracy: 0.8486 - 52ms/epoch - 4ms/step\n",
            "Epoch 267/500\n",
            "14/14 - 0s - loss: 0.5181 - accuracy: 0.7855 - val_loss: 0.4611 - val_accuracy: 0.8432 - 44ms/epoch - 3ms/step\n",
            "Epoch 268/500\n",
            "14/14 - 0s - loss: 0.5222 - accuracy: 0.7972 - val_loss: 0.4674 - val_accuracy: 0.8432 - 38ms/epoch - 3ms/step\n",
            "Epoch 269/500\n",
            "14/14 - 0s - loss: 0.5066 - accuracy: 0.7925 - val_loss: 0.4874 - val_accuracy: 0.8378 - 57ms/epoch - 4ms/step\n",
            "Epoch 270/500\n",
            "14/14 - 0s - loss: 0.5225 - accuracy: 0.7855 - val_loss: 0.4923 - val_accuracy: 0.8378 - 41ms/epoch - 3ms/step\n",
            "Epoch 271/500\n",
            "14/14 - 0s - loss: 0.5214 - accuracy: 0.7995 - val_loss: 0.4871 - val_accuracy: 0.8162 - 57ms/epoch - 4ms/step\n",
            "Epoch 272/500\n",
            "14/14 - 0s - loss: 0.5176 - accuracy: 0.7925 - val_loss: 0.4834 - val_accuracy: 0.8378 - 55ms/epoch - 4ms/step\n",
            "Epoch 273/500\n",
            "14/14 - 0s - loss: 0.5057 - accuracy: 0.7832 - val_loss: 0.4580 - val_accuracy: 0.8432 - 41ms/epoch - 3ms/step\n",
            "Epoch 274/500\n",
            "14/14 - 0s - loss: 0.5118 - accuracy: 0.7995 - val_loss: 0.4608 - val_accuracy: 0.8432 - 43ms/epoch - 3ms/step\n",
            "Epoch 275/500\n",
            "14/14 - 0s - loss: 0.5124 - accuracy: 0.7879 - val_loss: 0.5448 - val_accuracy: 0.7568 - 38ms/epoch - 3ms/step\n",
            "Epoch 276/500\n",
            "14/14 - 0s - loss: 0.5145 - accuracy: 0.7925 - val_loss: 0.4778 - val_accuracy: 0.8378 - 42ms/epoch - 3ms/step\n",
            "Epoch 277/500\n",
            "14/14 - 0s - loss: 0.5242 - accuracy: 0.7832 - val_loss: 0.4727 - val_accuracy: 0.8378 - 57ms/epoch - 4ms/step\n",
            "Epoch 278/500\n",
            "14/14 - 0s - loss: 0.5153 - accuracy: 0.7855 - val_loss: 0.4715 - val_accuracy: 0.8378 - 55ms/epoch - 4ms/step\n",
            "Epoch 279/500\n",
            "14/14 - 0s - loss: 0.5118 - accuracy: 0.7879 - val_loss: 0.4885 - val_accuracy: 0.8162 - 52ms/epoch - 4ms/step\n",
            "Epoch 280/500\n",
            "14/14 - 0s - loss: 0.5160 - accuracy: 0.7809 - val_loss: 0.4788 - val_accuracy: 0.8378 - 63ms/epoch - 4ms/step\n",
            "Epoch 281/500\n",
            "14/14 - 0s - loss: 0.5164 - accuracy: 0.7855 - val_loss: 0.4569 - val_accuracy: 0.8432 - 42ms/epoch - 3ms/step\n",
            "Epoch 282/500\n",
            "14/14 - 0s - loss: 0.5100 - accuracy: 0.7879 - val_loss: 0.4761 - val_accuracy: 0.8432 - 56ms/epoch - 4ms/step\n",
            "Epoch 283/500\n",
            "14/14 - 0s - loss: 0.5158 - accuracy: 0.7855 - val_loss: 0.5661 - val_accuracy: 0.7514 - 53ms/epoch - 4ms/step\n",
            "Epoch 284/500\n",
            "14/14 - 0s - loss: 0.5140 - accuracy: 0.7832 - val_loss: 0.4999 - val_accuracy: 0.8162 - 62ms/epoch - 4ms/step\n",
            "Epoch 285/500\n",
            "14/14 - 0s - loss: 0.5278 - accuracy: 0.7855 - val_loss: 0.4564 - val_accuracy: 0.8432 - 41ms/epoch - 3ms/step\n",
            "Epoch 286/500\n",
            "14/14 - 0s - loss: 0.5104 - accuracy: 0.7855 - val_loss: 0.5135 - val_accuracy: 0.8000 - 41ms/epoch - 3ms/step\n",
            "Epoch 287/500\n",
            "14/14 - 0s - loss: 0.5181 - accuracy: 0.7902 - val_loss: 0.5407 - val_accuracy: 0.7730 - 58ms/epoch - 4ms/step\n",
            "Epoch 288/500\n",
            "14/14 - 0s - loss: 0.5099 - accuracy: 0.7855 - val_loss: 0.4996 - val_accuracy: 0.8054 - 53ms/epoch - 4ms/step\n",
            "Epoch 289/500\n",
            "14/14 - 0s - loss: 0.5255 - accuracy: 0.7902 - val_loss: 0.4564 - val_accuracy: 0.8432 - 41ms/epoch - 3ms/step\n",
            "Epoch 290/500\n",
            "14/14 - 0s - loss: 0.5001 - accuracy: 0.7925 - val_loss: 0.5446 - val_accuracy: 0.7676 - 52ms/epoch - 4ms/step\n",
            "Epoch 291/500\n",
            "14/14 - 0s - loss: 0.5168 - accuracy: 0.7949 - val_loss: 0.4538 - val_accuracy: 0.8432 - 72ms/epoch - 5ms/step\n",
            "Epoch 292/500\n",
            "14/14 - 0s - loss: 0.5098 - accuracy: 0.7925 - val_loss: 0.4597 - val_accuracy: 0.8432 - 41ms/epoch - 3ms/step\n",
            "Epoch 293/500\n",
            "14/14 - 0s - loss: 0.5098 - accuracy: 0.7902 - val_loss: 0.4937 - val_accuracy: 0.8324 - 44ms/epoch - 3ms/step\n",
            "Epoch 294/500\n",
            "14/14 - 0s - loss: 0.5157 - accuracy: 0.7879 - val_loss: 0.4579 - val_accuracy: 0.8432 - 43ms/epoch - 3ms/step\n",
            "Epoch 295/500\n",
            "14/14 - 0s - loss: 0.5029 - accuracy: 0.7972 - val_loss: 0.4797 - val_accuracy: 0.8324 - 51ms/epoch - 4ms/step\n",
            "Epoch 296/500\n",
            "14/14 - 0s - loss: 0.5086 - accuracy: 0.7762 - val_loss: 0.5281 - val_accuracy: 0.7730 - 46ms/epoch - 3ms/step\n",
            "Epoch 297/500\n",
            "14/14 - 0s - loss: 0.5234 - accuracy: 0.7786 - val_loss: 0.4898 - val_accuracy: 0.8162 - 49ms/epoch - 4ms/step\n",
            "Epoch 298/500\n",
            "14/14 - 0s - loss: 0.5080 - accuracy: 0.7925 - val_loss: 0.4654 - val_accuracy: 0.8486 - 59ms/epoch - 4ms/step\n",
            "Epoch 299/500\n",
            "14/14 - 0s - loss: 0.5002 - accuracy: 0.7949 - val_loss: 0.4856 - val_accuracy: 0.8270 - 54ms/epoch - 4ms/step\n",
            "Epoch 300/500\n",
            "14/14 - 0s - loss: 0.5153 - accuracy: 0.7925 - val_loss: 0.4534 - val_accuracy: 0.8432 - 45ms/epoch - 3ms/step\n",
            "Epoch 301/500\n",
            "14/14 - 0s - loss: 0.5115 - accuracy: 0.7879 - val_loss: 0.5935 - val_accuracy: 0.6865 - 45ms/epoch - 3ms/step\n",
            "Epoch 302/500\n",
            "14/14 - 0s - loss: 0.5312 - accuracy: 0.7716 - val_loss: 0.4586 - val_accuracy: 0.8432 - 53ms/epoch - 4ms/step\n",
            "Epoch 303/500\n",
            "14/14 - 0s - loss: 0.5064 - accuracy: 0.7925 - val_loss: 0.4584 - val_accuracy: 0.8432 - 38ms/epoch - 3ms/step\n",
            "Epoch 304/500\n",
            "14/14 - 0s - loss: 0.5069 - accuracy: 0.7972 - val_loss: 0.4610 - val_accuracy: 0.8486 - 56ms/epoch - 4ms/step\n",
            "Epoch 305/500\n",
            "14/14 - 0s - loss: 0.5012 - accuracy: 0.7949 - val_loss: 0.4829 - val_accuracy: 0.8378 - 40ms/epoch - 3ms/step\n",
            "Epoch 306/500\n",
            "14/14 - 0s - loss: 0.5046 - accuracy: 0.7972 - val_loss: 0.5045 - val_accuracy: 0.8054 - 53ms/epoch - 4ms/step\n",
            "Epoch 307/500\n",
            "14/14 - 0s - loss: 0.5171 - accuracy: 0.7949 - val_loss: 0.4670 - val_accuracy: 0.8378 - 51ms/epoch - 4ms/step\n",
            "Epoch 308/500\n",
            "14/14 - 0s - loss: 0.5212 - accuracy: 0.7809 - val_loss: 0.4508 - val_accuracy: 0.8432 - 55ms/epoch - 4ms/step\n",
            "Epoch 309/500\n",
            "14/14 - 0s - loss: 0.5072 - accuracy: 0.7925 - val_loss: 0.5637 - val_accuracy: 0.7405 - 56ms/epoch - 4ms/step\n",
            "Epoch 310/500\n",
            "14/14 - 0s - loss: 0.5191 - accuracy: 0.7739 - val_loss: 0.4626 - val_accuracy: 0.8432 - 61ms/epoch - 4ms/step\n",
            "Epoch 311/500\n",
            "14/14 - 0s - loss: 0.5044 - accuracy: 0.7949 - val_loss: 0.4520 - val_accuracy: 0.8432 - 40ms/epoch - 3ms/step\n",
            "Epoch 312/500\n",
            "14/14 - 0s - loss: 0.5080 - accuracy: 0.7925 - val_loss: 0.4502 - val_accuracy: 0.8432 - 41ms/epoch - 3ms/step\n",
            "Epoch 313/500\n",
            "14/14 - 0s - loss: 0.5117 - accuracy: 0.7855 - val_loss: 0.4824 - val_accuracy: 0.8324 - 35ms/epoch - 3ms/step\n",
            "Epoch 314/500\n",
            "14/14 - 0s - loss: 0.5015 - accuracy: 0.7786 - val_loss: 0.4888 - val_accuracy: 0.8324 - 58ms/epoch - 4ms/step\n",
            "Epoch 315/500\n",
            "14/14 - 0s - loss: 0.4996 - accuracy: 0.7855 - val_loss: 0.4565 - val_accuracy: 0.8432 - 44ms/epoch - 3ms/step\n",
            "Epoch 316/500\n",
            "14/14 - 0s - loss: 0.5080 - accuracy: 0.7902 - val_loss: 0.4729 - val_accuracy: 0.8378 - 61ms/epoch - 4ms/step\n",
            "Epoch 317/500\n",
            "14/14 - 0s - loss: 0.5096 - accuracy: 0.7925 - val_loss: 0.5056 - val_accuracy: 0.8054 - 57ms/epoch - 4ms/step\n",
            "Epoch 318/500\n",
            "14/14 - 0s - loss: 0.5012 - accuracy: 0.7949 - val_loss: 0.4642 - val_accuracy: 0.8378 - 42ms/epoch - 3ms/step\n",
            "Epoch 319/500\n",
            "14/14 - 0s - loss: 0.5178 - accuracy: 0.7949 - val_loss: 0.4702 - val_accuracy: 0.8378 - 42ms/epoch - 3ms/step\n",
            "Epoch 320/500\n",
            "14/14 - 0s - loss: 0.5185 - accuracy: 0.7832 - val_loss: 0.5377 - val_accuracy: 0.7784 - 35ms/epoch - 3ms/step\n",
            "Epoch 321/500\n",
            "14/14 - 0s - loss: 0.5113 - accuracy: 0.7925 - val_loss: 0.4479 - val_accuracy: 0.8432 - 54ms/epoch - 4ms/step\n",
            "Epoch 322/500\n",
            "14/14 - 0s - loss: 0.5120 - accuracy: 0.7925 - val_loss: 0.4486 - val_accuracy: 0.8432 - 44ms/epoch - 3ms/step\n",
            "Epoch 323/500\n",
            "14/14 - 0s - loss: 0.5216 - accuracy: 0.7855 - val_loss: 0.4695 - val_accuracy: 0.8378 - 47ms/epoch - 3ms/step\n",
            "Epoch 324/500\n",
            "14/14 - 0s - loss: 0.5069 - accuracy: 0.7925 - val_loss: 0.4546 - val_accuracy: 0.8432 - 57ms/epoch - 4ms/step\n",
            "Epoch 325/500\n",
            "14/14 - 0s - loss: 0.5026 - accuracy: 0.7972 - val_loss: 0.4479 - val_accuracy: 0.8432 - 54ms/epoch - 4ms/step\n",
            "Epoch 326/500\n",
            "14/14 - 0s - loss: 0.5155 - accuracy: 0.7855 - val_loss: 0.4498 - val_accuracy: 0.8432 - 42ms/epoch - 3ms/step\n",
            "Epoch 327/500\n",
            "14/14 - 0s - loss: 0.5105 - accuracy: 0.7879 - val_loss: 0.4638 - val_accuracy: 0.8378 - 44ms/epoch - 3ms/step\n",
            "Epoch 328/500\n",
            "14/14 - 0s - loss: 0.5142 - accuracy: 0.7879 - val_loss: 0.4475 - val_accuracy: 0.8432 - 38ms/epoch - 3ms/step\n",
            "Epoch 329/500\n",
            "14/14 - 0s - loss: 0.5028 - accuracy: 0.7949 - val_loss: 0.5340 - val_accuracy: 0.7784 - 57ms/epoch - 4ms/step\n",
            "Epoch 330/500\n",
            "14/14 - 0s - loss: 0.5178 - accuracy: 0.7786 - val_loss: 0.5195 - val_accuracy: 0.7730 - 40ms/epoch - 3ms/step\n",
            "Epoch 331/500\n",
            "14/14 - 0s - loss: 0.5089 - accuracy: 0.7879 - val_loss: 0.4592 - val_accuracy: 0.8432 - 63ms/epoch - 4ms/step\n",
            "Epoch 332/500\n",
            "14/14 - 0s - loss: 0.5156 - accuracy: 0.7925 - val_loss: 0.6022 - val_accuracy: 0.6649 - 46ms/epoch - 3ms/step\n",
            "Epoch 333/500\n",
            "14/14 - 0s - loss: 0.5113 - accuracy: 0.7925 - val_loss: 0.4601 - val_accuracy: 0.8486 - 46ms/epoch - 3ms/step\n",
            "Epoch 334/500\n",
            "14/14 - 0s - loss: 0.5143 - accuracy: 0.7972 - val_loss: 0.4521 - val_accuracy: 0.8432 - 44ms/epoch - 3ms/step\n",
            "Epoch 335/500\n",
            "14/14 - 0s - loss: 0.5055 - accuracy: 0.7949 - val_loss: 0.4569 - val_accuracy: 0.8432 - 51ms/epoch - 4ms/step\n",
            "Epoch 336/500\n",
            "14/14 - 0s - loss: 0.5199 - accuracy: 0.7949 - val_loss: 0.4668 - val_accuracy: 0.8378 - 41ms/epoch - 3ms/step\n",
            "Epoch 337/500\n",
            "14/14 - 0s - loss: 0.5026 - accuracy: 0.7925 - val_loss: 0.4579 - val_accuracy: 0.8432 - 55ms/epoch - 4ms/step\n",
            "Epoch 338/500\n",
            "14/14 - 0s - loss: 0.5150 - accuracy: 0.7902 - val_loss: 0.5102 - val_accuracy: 0.8054 - 52ms/epoch - 4ms/step\n",
            "Epoch 339/500\n",
            "14/14 - 0s - loss: 0.5149 - accuracy: 0.7972 - val_loss: 0.4909 - val_accuracy: 0.8270 - 41ms/epoch - 3ms/step\n",
            "Epoch 340/500\n",
            "14/14 - 0s - loss: 0.5155 - accuracy: 0.7925 - val_loss: 0.4496 - val_accuracy: 0.8432 - 56ms/epoch - 4ms/step\n",
            "Epoch 341/500\n",
            "14/14 - 0s - loss: 0.5004 - accuracy: 0.7925 - val_loss: 0.4459 - val_accuracy: 0.8432 - 38ms/epoch - 3ms/step\n",
            "Epoch 342/500\n",
            "14/14 - 0s - loss: 0.5114 - accuracy: 0.7972 - val_loss: 0.5210 - val_accuracy: 0.7946 - 43ms/epoch - 3ms/step\n",
            "Epoch 343/500\n",
            "14/14 - 0s - loss: 0.5151 - accuracy: 0.7832 - val_loss: 0.4711 - val_accuracy: 0.8486 - 58ms/epoch - 4ms/step\n",
            "Epoch 344/500\n",
            "14/14 - 0s - loss: 0.5211 - accuracy: 0.7832 - val_loss: 0.4494 - val_accuracy: 0.8432 - 46ms/epoch - 3ms/step\n",
            "Epoch 345/500\n",
            "14/14 - 0s - loss: 0.5093 - accuracy: 0.7902 - val_loss: 0.4533 - val_accuracy: 0.8432 - 40ms/epoch - 3ms/step\n",
            "Epoch 346/500\n",
            "14/14 - 0s - loss: 0.5234 - accuracy: 0.7902 - val_loss: 0.4466 - val_accuracy: 0.8432 - 63ms/epoch - 4ms/step\n",
            "Epoch 347/500\n",
            "14/14 - 0s - loss: 0.5256 - accuracy: 0.7879 - val_loss: 0.4498 - val_accuracy: 0.8432 - 42ms/epoch - 3ms/step\n",
            "Epoch 348/500\n",
            "14/14 - 0s - loss: 0.5040 - accuracy: 0.7925 - val_loss: 0.4943 - val_accuracy: 0.8270 - 53ms/epoch - 4ms/step\n",
            "Epoch 349/500\n",
            "14/14 - 0s - loss: 0.5129 - accuracy: 0.7949 - val_loss: 0.4882 - val_accuracy: 0.8324 - 61ms/epoch - 4ms/step\n",
            "Epoch 350/500\n",
            "14/14 - 0s - loss: 0.5064 - accuracy: 0.7949 - val_loss: 0.4512 - val_accuracy: 0.8432 - 56ms/epoch - 4ms/step\n",
            "Epoch 351/500\n",
            "14/14 - 0s - loss: 0.5160 - accuracy: 0.7925 - val_loss: 0.5608 - val_accuracy: 0.7243 - 60ms/epoch - 4ms/step\n",
            "Epoch 352/500\n",
            "14/14 - 0s - loss: 0.5070 - accuracy: 0.7902 - val_loss: 0.4571 - val_accuracy: 0.8432 - 46ms/epoch - 3ms/step\n",
            "Epoch 353/500\n",
            "14/14 - 0s - loss: 0.5048 - accuracy: 0.7972 - val_loss: 0.4438 - val_accuracy: 0.8432 - 43ms/epoch - 3ms/step\n",
            "Epoch 354/500\n",
            "14/14 - 0s - loss: 0.5140 - accuracy: 0.7855 - val_loss: 0.4874 - val_accuracy: 0.8378 - 51ms/epoch - 4ms/step\n",
            "Epoch 355/500\n",
            "14/14 - 0s - loss: 0.5080 - accuracy: 0.7902 - val_loss: 0.4899 - val_accuracy: 0.8324 - 55ms/epoch - 4ms/step\n",
            "Epoch 356/500\n",
            "14/14 - 0s - loss: 0.5199 - accuracy: 0.7925 - val_loss: 0.4434 - val_accuracy: 0.8432 - 59ms/epoch - 4ms/step\n",
            "Epoch 357/500\n",
            "14/14 - 0s - loss: 0.5071 - accuracy: 0.7949 - val_loss: 0.4577 - val_accuracy: 0.8378 - 58ms/epoch - 4ms/step\n",
            "Epoch 358/500\n",
            "14/14 - 0s - loss: 0.5056 - accuracy: 0.7902 - val_loss: 0.4431 - val_accuracy: 0.8432 - 58ms/epoch - 4ms/step\n",
            "Epoch 359/500\n",
            "14/14 - 0s - loss: 0.5010 - accuracy: 0.7972 - val_loss: 0.4633 - val_accuracy: 0.8378 - 43ms/epoch - 3ms/step\n",
            "Epoch 360/500\n",
            "14/14 - 0s - loss: 0.5029 - accuracy: 0.7949 - val_loss: 0.4434 - val_accuracy: 0.8432 - 55ms/epoch - 4ms/step\n",
            "Epoch 361/500\n",
            "14/14 - 0s - loss: 0.5138 - accuracy: 0.7902 - val_loss: 0.5513 - val_accuracy: 0.7459 - 46ms/epoch - 3ms/step\n",
            "Epoch 362/500\n",
            "14/14 - 0s - loss: 0.5076 - accuracy: 0.7972 - val_loss: 0.4656 - val_accuracy: 0.8378 - 52ms/epoch - 4ms/step\n",
            "Epoch 363/500\n",
            "14/14 - 0s - loss: 0.5076 - accuracy: 0.7972 - val_loss: 0.4535 - val_accuracy: 0.8432 - 52ms/epoch - 4ms/step\n",
            "Epoch 364/500\n",
            "14/14 - 0s - loss: 0.4983 - accuracy: 0.7972 - val_loss: 0.4496 - val_accuracy: 0.8432 - 66ms/epoch - 5ms/step\n",
            "Epoch 365/500\n",
            "14/14 - 0s - loss: 0.5169 - accuracy: 0.7902 - val_loss: 0.5215 - val_accuracy: 0.7838 - 58ms/epoch - 4ms/step\n",
            "Epoch 366/500\n",
            "14/14 - 0s - loss: 0.5072 - accuracy: 0.7879 - val_loss: 0.4665 - val_accuracy: 0.8378 - 44ms/epoch - 3ms/step\n",
            "Epoch 367/500\n",
            "14/14 - 0s - loss: 0.5057 - accuracy: 0.7879 - val_loss: 0.5930 - val_accuracy: 0.6811 - 58ms/epoch - 4ms/step\n",
            "Epoch 368/500\n",
            "14/14 - 0s - loss: 0.5237 - accuracy: 0.7809 - val_loss: 0.4471 - val_accuracy: 0.8432 - 42ms/epoch - 3ms/step\n",
            "Epoch 369/500\n",
            "14/14 - 0s - loss: 0.5129 - accuracy: 0.7972 - val_loss: 0.4474 - val_accuracy: 0.8432 - 52ms/epoch - 4ms/step\n",
            "Epoch 370/500\n",
            "14/14 - 0s - loss: 0.5040 - accuracy: 0.7925 - val_loss: 0.4643 - val_accuracy: 0.8378 - 44ms/epoch - 3ms/step\n",
            "Epoch 371/500\n",
            "14/14 - 0s - loss: 0.5108 - accuracy: 0.7925 - val_loss: 0.4623 - val_accuracy: 0.8486 - 37ms/epoch - 3ms/step\n",
            "Epoch 372/500\n",
            "14/14 - 0s - loss: 0.5146 - accuracy: 0.7949 - val_loss: 0.4480 - val_accuracy: 0.8432 - 60ms/epoch - 4ms/step\n",
            "Epoch 373/500\n",
            "14/14 - 0s - loss: 0.5003 - accuracy: 0.7949 - val_loss: 0.5353 - val_accuracy: 0.7784 - 39ms/epoch - 3ms/step\n",
            "Epoch 374/500\n",
            "14/14 - 0s - loss: 0.5166 - accuracy: 0.7786 - val_loss: 0.5322 - val_accuracy: 0.7892 - 52ms/epoch - 4ms/step\n",
            "Epoch 375/500\n",
            "14/14 - 0s - loss: 0.5152 - accuracy: 0.7879 - val_loss: 0.4709 - val_accuracy: 0.8486 - 43ms/epoch - 3ms/step\n",
            "Epoch 376/500\n",
            "14/14 - 0s - loss: 0.5054 - accuracy: 0.7925 - val_loss: 0.4629 - val_accuracy: 0.8378 - 52ms/epoch - 4ms/step\n",
            "Epoch 377/500\n",
            "14/14 - 0s - loss: 0.5010 - accuracy: 0.7972 - val_loss: 0.4444 - val_accuracy: 0.8432 - 43ms/epoch - 3ms/step\n",
            "Epoch 378/500\n",
            "14/14 - 0s - loss: 0.5091 - accuracy: 0.7972 - val_loss: 0.4677 - val_accuracy: 0.8486 - 52ms/epoch - 4ms/step\n",
            "Epoch 379/500\n",
            "14/14 - 0s - loss: 0.5228 - accuracy: 0.7879 - val_loss: 0.5724 - val_accuracy: 0.6973 - 51ms/epoch - 4ms/step\n",
            "Epoch 380/500\n",
            "14/14 - 0s - loss: 0.5183 - accuracy: 0.7809 - val_loss: 0.5057 - val_accuracy: 0.7892 - 48ms/epoch - 3ms/step\n",
            "Epoch 381/500\n",
            "14/14 - 0s - loss: 0.5150 - accuracy: 0.7879 - val_loss: 0.4458 - val_accuracy: 0.8432 - 40ms/epoch - 3ms/step\n",
            "Epoch 382/500\n",
            "14/14 - 0s - loss: 0.4996 - accuracy: 0.7879 - val_loss: 0.4552 - val_accuracy: 0.8432 - 52ms/epoch - 4ms/step\n",
            "Epoch 383/500\n",
            "14/14 - 0s - loss: 0.5188 - accuracy: 0.7902 - val_loss: 0.4563 - val_accuracy: 0.8378 - 52ms/epoch - 4ms/step\n",
            "Epoch 384/500\n",
            "14/14 - 0s - loss: 0.4972 - accuracy: 0.7972 - val_loss: 0.4402 - val_accuracy: 0.8432 - 53ms/epoch - 4ms/step\n",
            "Epoch 385/500\n",
            "14/14 - 0s - loss: 0.4981 - accuracy: 0.7972 - val_loss: 0.4435 - val_accuracy: 0.8432 - 42ms/epoch - 3ms/step\n",
            "Epoch 386/500\n",
            "14/14 - 0s - loss: 0.5013 - accuracy: 0.7972 - val_loss: 0.4401 - val_accuracy: 0.8432 - 50ms/epoch - 4ms/step\n",
            "Epoch 387/500\n",
            "14/14 - 0s - loss: 0.5068 - accuracy: 0.7879 - val_loss: 0.4811 - val_accuracy: 0.8324 - 50ms/epoch - 4ms/step\n",
            "Epoch 388/500\n",
            "14/14 - 0s - loss: 0.5023 - accuracy: 0.7995 - val_loss: 0.4954 - val_accuracy: 0.8054 - 50ms/epoch - 4ms/step\n",
            "Epoch 389/500\n",
            "14/14 - 0s - loss: 0.5047 - accuracy: 0.7902 - val_loss: 0.4403 - val_accuracy: 0.8432 - 55ms/epoch - 4ms/step\n",
            "Epoch 390/500\n",
            "14/14 - 0s - loss: 0.5034 - accuracy: 0.7972 - val_loss: 0.4443 - val_accuracy: 0.8432 - 41ms/epoch - 3ms/step\n",
            "Epoch 391/500\n",
            "14/14 - 0s - loss: 0.5173 - accuracy: 0.7832 - val_loss: 0.4404 - val_accuracy: 0.8432 - 37ms/epoch - 3ms/step\n",
            "Epoch 392/500\n",
            "14/14 - 0s - loss: 0.4953 - accuracy: 0.7972 - val_loss: 0.4634 - val_accuracy: 0.8486 - 41ms/epoch - 3ms/step\n",
            "Epoch 393/500\n",
            "14/14 - 0s - loss: 0.5100 - accuracy: 0.7925 - val_loss: 0.4414 - val_accuracy: 0.8432 - 40ms/epoch - 3ms/step\n",
            "Epoch 394/500\n",
            "14/14 - 0s - loss: 0.5115 - accuracy: 0.7855 - val_loss: 0.4445 - val_accuracy: 0.8432 - 55ms/epoch - 4ms/step\n",
            "Epoch 395/500\n",
            "14/14 - 0s - loss: 0.5113 - accuracy: 0.7855 - val_loss: 0.4420 - val_accuracy: 0.8432 - 55ms/epoch - 4ms/step\n",
            "Epoch 396/500\n",
            "14/14 - 0s - loss: 0.5119 - accuracy: 0.7972 - val_loss: 0.4586 - val_accuracy: 0.8486 - 53ms/epoch - 4ms/step\n",
            "Epoch 397/500\n",
            "14/14 - 0s - loss: 0.5066 - accuracy: 0.7925 - val_loss: 0.4388 - val_accuracy: 0.8432 - 56ms/epoch - 4ms/step\n",
            "Epoch 398/500\n",
            "14/14 - 0s - loss: 0.5029 - accuracy: 0.7925 - val_loss: 0.4386 - val_accuracy: 0.8432 - 58ms/epoch - 4ms/step\n",
            "Epoch 399/500\n",
            "14/14 - 0s - loss: 0.4984 - accuracy: 0.7949 - val_loss: 0.4382 - val_accuracy: 0.8432 - 40ms/epoch - 3ms/step\n",
            "Epoch 400/500\n",
            "14/14 - 0s - loss: 0.5174 - accuracy: 0.7972 - val_loss: 0.4571 - val_accuracy: 0.8486 - 41ms/epoch - 3ms/step\n",
            "Epoch 401/500\n",
            "14/14 - 0s - loss: 0.4996 - accuracy: 0.7972 - val_loss: 0.4399 - val_accuracy: 0.8432 - 52ms/epoch - 4ms/step\n",
            "Epoch 402/500\n",
            "14/14 - 0s - loss: 0.4950 - accuracy: 0.7972 - val_loss: 0.4875 - val_accuracy: 0.8378 - 37ms/epoch - 3ms/step\n",
            "Epoch 403/500\n",
            "14/14 - 0s - loss: 0.4964 - accuracy: 0.7949 - val_loss: 0.4555 - val_accuracy: 0.8378 - 56ms/epoch - 4ms/step\n",
            "Epoch 404/500\n",
            "14/14 - 0s - loss: 0.4994 - accuracy: 0.7925 - val_loss: 0.4409 - val_accuracy: 0.8432 - 37ms/epoch - 3ms/step\n",
            "Epoch 405/500\n",
            "14/14 - 0s - loss: 0.5062 - accuracy: 0.7855 - val_loss: 0.4835 - val_accuracy: 0.8270 - 50ms/epoch - 4ms/step\n",
            "Epoch 406/500\n",
            "14/14 - 0s - loss: 0.4982 - accuracy: 0.7925 - val_loss: 0.4412 - val_accuracy: 0.8432 - 54ms/epoch - 4ms/step\n",
            "Epoch 407/500\n",
            "14/14 - 0s - loss: 0.5029 - accuracy: 0.7832 - val_loss: 0.4396 - val_accuracy: 0.8432 - 54ms/epoch - 4ms/step\n",
            "Epoch 408/500\n",
            "14/14 - 0s - loss: 0.5130 - accuracy: 0.7949 - val_loss: 0.4420 - val_accuracy: 0.8432 - 42ms/epoch - 3ms/step\n",
            "Epoch 409/500\n",
            "14/14 - 0s - loss: 0.5009 - accuracy: 0.7879 - val_loss: 0.4423 - val_accuracy: 0.8432 - 52ms/epoch - 4ms/step\n",
            "Epoch 410/500\n",
            "14/14 - 0s - loss: 0.5029 - accuracy: 0.7949 - val_loss: 0.4394 - val_accuracy: 0.8432 - 50ms/epoch - 4ms/step\n",
            "Epoch 411/500\n",
            "14/14 - 0s - loss: 0.4974 - accuracy: 0.7995 - val_loss: 0.4423 - val_accuracy: 0.8432 - 55ms/epoch - 4ms/step\n",
            "Epoch 412/500\n",
            "14/14 - 0s - loss: 0.5007 - accuracy: 0.7855 - val_loss: 0.4401 - val_accuracy: 0.8432 - 56ms/epoch - 4ms/step\n",
            "Epoch 413/500\n",
            "14/14 - 0s - loss: 0.4988 - accuracy: 0.7949 - val_loss: 0.5019 - val_accuracy: 0.8000 - 44ms/epoch - 3ms/step\n",
            "Epoch 414/500\n",
            "14/14 - 0s - loss: 0.4997 - accuracy: 0.7832 - val_loss: 0.4558 - val_accuracy: 0.8378 - 50ms/epoch - 4ms/step\n",
            "Epoch 415/500\n",
            "14/14 - 0s - loss: 0.5048 - accuracy: 0.7902 - val_loss: 0.4764 - val_accuracy: 0.8378 - 52ms/epoch - 4ms/step\n",
            "Epoch 416/500\n",
            "14/14 - 0s - loss: 0.5062 - accuracy: 0.7949 - val_loss: 0.4610 - val_accuracy: 0.8486 - 54ms/epoch - 4ms/step\n",
            "Epoch 417/500\n",
            "14/14 - 0s - loss: 0.5039 - accuracy: 0.7925 - val_loss: 0.4526 - val_accuracy: 0.8378 - 58ms/epoch - 4ms/step\n",
            "Epoch 418/500\n",
            "14/14 - 0s - loss: 0.4992 - accuracy: 0.7902 - val_loss: 0.4387 - val_accuracy: 0.8432 - 50ms/epoch - 4ms/step\n",
            "Epoch 419/500\n",
            "14/14 - 0s - loss: 0.5073 - accuracy: 0.8019 - val_loss: 0.4975 - val_accuracy: 0.8108 - 42ms/epoch - 3ms/step\n",
            "Epoch 420/500\n",
            "14/14 - 0s - loss: 0.4974 - accuracy: 0.7972 - val_loss: 0.4359 - val_accuracy: 0.8432 - 44ms/epoch - 3ms/step\n",
            "Epoch 421/500\n",
            "14/14 - 0s - loss: 0.4940 - accuracy: 0.7949 - val_loss: 0.4439 - val_accuracy: 0.8432 - 48ms/epoch - 3ms/step\n",
            "Epoch 422/500\n",
            "14/14 - 0s - loss: 0.4911 - accuracy: 0.7972 - val_loss: 0.4846 - val_accuracy: 0.8432 - 52ms/epoch - 4ms/step\n",
            "Epoch 423/500\n",
            "14/14 - 0s - loss: 0.5019 - accuracy: 0.7949 - val_loss: 0.4367 - val_accuracy: 0.8432 - 52ms/epoch - 4ms/step\n",
            "Epoch 424/500\n",
            "14/14 - 0s - loss: 0.5101 - accuracy: 0.7902 - val_loss: 0.4429 - val_accuracy: 0.8432 - 48ms/epoch - 3ms/step\n",
            "Epoch 425/500\n",
            "14/14 - 0s - loss: 0.5138 - accuracy: 0.7879 - val_loss: 0.4376 - val_accuracy: 0.8432 - 50ms/epoch - 4ms/step\n",
            "Epoch 426/500\n",
            "14/14 - 0s - loss: 0.4977 - accuracy: 0.7949 - val_loss: 0.5628 - val_accuracy: 0.6973 - 42ms/epoch - 3ms/step\n",
            "Epoch 427/500\n",
            "14/14 - 0s - loss: 0.5135 - accuracy: 0.7879 - val_loss: 0.4531 - val_accuracy: 0.8378 - 54ms/epoch - 4ms/step\n",
            "Epoch 428/500\n",
            "14/14 - 0s - loss: 0.5003 - accuracy: 0.7879 - val_loss: 0.4693 - val_accuracy: 0.8378 - 45ms/epoch - 3ms/step\n",
            "Epoch 429/500\n",
            "14/14 - 0s - loss: 0.5091 - accuracy: 0.7972 - val_loss: 0.4501 - val_accuracy: 0.8378 - 37ms/epoch - 3ms/step\n",
            "Epoch 430/500\n",
            "14/14 - 0s - loss: 0.4945 - accuracy: 0.7925 - val_loss: 0.5110 - val_accuracy: 0.7784 - 55ms/epoch - 4ms/step\n",
            "Epoch 431/500\n",
            "14/14 - 0s - loss: 0.4972 - accuracy: 0.7949 - val_loss: 0.4746 - val_accuracy: 0.8486 - 52ms/epoch - 4ms/step\n",
            "Epoch 432/500\n",
            "14/14 - 0s - loss: 0.5006 - accuracy: 0.7879 - val_loss: 0.4403 - val_accuracy: 0.8432 - 44ms/epoch - 3ms/step\n",
            "Epoch 433/500\n",
            "14/14 - 0s - loss: 0.5109 - accuracy: 0.7879 - val_loss: 0.4404 - val_accuracy: 0.8432 - 42ms/epoch - 3ms/step\n",
            "Epoch 434/500\n",
            "14/14 - 0s - loss: 0.4999 - accuracy: 0.7925 - val_loss: 0.4640 - val_accuracy: 0.8486 - 53ms/epoch - 4ms/step\n",
            "Epoch 435/500\n",
            "14/14 - 0s - loss: 0.5091 - accuracy: 0.7949 - val_loss: 0.4596 - val_accuracy: 0.8378 - 38ms/epoch - 3ms/step\n",
            "Epoch 436/500\n",
            "14/14 - 0s - loss: 0.5082 - accuracy: 0.7786 - val_loss: 0.4351 - val_accuracy: 0.8432 - 41ms/epoch - 3ms/step\n",
            "Epoch 437/500\n",
            "14/14 - 0s - loss: 0.4977 - accuracy: 0.7995 - val_loss: 0.4551 - val_accuracy: 0.8378 - 54ms/epoch - 4ms/step\n",
            "Epoch 438/500\n",
            "14/14 - 0s - loss: 0.4972 - accuracy: 0.7949 - val_loss: 0.4493 - val_accuracy: 0.8378 - 39ms/epoch - 3ms/step\n",
            "Epoch 439/500\n",
            "14/14 - 0s - loss: 0.5022 - accuracy: 0.7949 - val_loss: 0.4594 - val_accuracy: 0.8378 - 58ms/epoch - 4ms/step\n",
            "Epoch 440/500\n",
            "14/14 - 0s - loss: 0.5043 - accuracy: 0.7949 - val_loss: 0.4552 - val_accuracy: 0.8378 - 47ms/epoch - 3ms/step\n",
            "Epoch 441/500\n",
            "14/14 - 0s - loss: 0.4997 - accuracy: 0.7995 - val_loss: 0.4348 - val_accuracy: 0.8432 - 53ms/epoch - 4ms/step\n",
            "Epoch 442/500\n",
            "14/14 - 0s - loss: 0.4936 - accuracy: 0.7995 - val_loss: 0.4667 - val_accuracy: 0.8378 - 54ms/epoch - 4ms/step\n",
            "Epoch 443/500\n",
            "14/14 - 0s - loss: 0.4978 - accuracy: 0.7902 - val_loss: 0.4454 - val_accuracy: 0.8432 - 47ms/epoch - 3ms/step\n",
            "Epoch 444/500\n",
            "14/14 - 0s - loss: 0.5002 - accuracy: 0.7925 - val_loss: 0.4454 - val_accuracy: 0.8432 - 61ms/epoch - 4ms/step\n",
            "Epoch 445/500\n",
            "14/14 - 0s - loss: 0.4961 - accuracy: 0.7949 - val_loss: 0.4823 - val_accuracy: 0.8216 - 41ms/epoch - 3ms/step\n",
            "Epoch 446/500\n",
            "14/14 - 0s - loss: 0.4976 - accuracy: 0.8019 - val_loss: 0.5151 - val_accuracy: 0.7784 - 45ms/epoch - 3ms/step\n",
            "Epoch 447/500\n",
            "14/14 - 0s - loss: 0.5039 - accuracy: 0.7809 - val_loss: 0.4827 - val_accuracy: 0.8486 - 53ms/epoch - 4ms/step\n",
            "Epoch 448/500\n",
            "14/14 - 0s - loss: 0.5139 - accuracy: 0.7925 - val_loss: 0.4368 - val_accuracy: 0.8432 - 40ms/epoch - 3ms/step\n",
            "Epoch 449/500\n",
            "14/14 - 0s - loss: 0.5212 - accuracy: 0.7809 - val_loss: 0.4591 - val_accuracy: 0.8486 - 47ms/epoch - 3ms/step\n",
            "Epoch 450/500\n",
            "14/14 - 0s - loss: 0.5051 - accuracy: 0.7949 - val_loss: 0.4491 - val_accuracy: 0.8378 - 45ms/epoch - 3ms/step\n",
            "Epoch 451/500\n",
            "14/14 - 0s - loss: 0.4951 - accuracy: 0.7972 - val_loss: 0.4646 - val_accuracy: 0.8378 - 51ms/epoch - 4ms/step\n",
            "Epoch 452/500\n",
            "14/14 - 0s - loss: 0.4996 - accuracy: 0.7995 - val_loss: 0.5091 - val_accuracy: 0.7784 - 39ms/epoch - 3ms/step\n",
            "Epoch 453/500\n",
            "14/14 - 0s - loss: 0.5001 - accuracy: 0.7832 - val_loss: 0.4479 - val_accuracy: 0.8378 - 66ms/epoch - 5ms/step\n",
            "Epoch 454/500\n",
            "14/14 - 0s - loss: 0.5148 - accuracy: 0.7902 - val_loss: 0.4434 - val_accuracy: 0.8432 - 52ms/epoch - 4ms/step\n",
            "Epoch 455/500\n",
            "14/14 - 0s - loss: 0.4973 - accuracy: 0.7949 - val_loss: 0.4330 - val_accuracy: 0.8432 - 41ms/epoch - 3ms/step\n",
            "Epoch 456/500\n",
            "14/14 - 0s - loss: 0.5145 - accuracy: 0.7902 - val_loss: 0.4331 - val_accuracy: 0.8432 - 40ms/epoch - 3ms/step\n",
            "Epoch 457/500\n",
            "14/14 - 0s - loss: 0.5065 - accuracy: 0.7855 - val_loss: 0.4339 - val_accuracy: 0.8432 - 38ms/epoch - 3ms/step\n",
            "Epoch 458/500\n",
            "14/14 - 0s - loss: 0.5003 - accuracy: 0.7925 - val_loss: 0.4349 - val_accuracy: 0.8432 - 61ms/epoch - 4ms/step\n",
            "Epoch 459/500\n",
            "14/14 - 0s - loss: 0.4975 - accuracy: 0.7972 - val_loss: 0.4536 - val_accuracy: 0.8378 - 53ms/epoch - 4ms/step\n",
            "Epoch 460/500\n",
            "14/14 - 0s - loss: 0.5063 - accuracy: 0.7949 - val_loss: 0.4387 - val_accuracy: 0.8432 - 51ms/epoch - 4ms/step\n",
            "Epoch 461/500\n",
            "14/14 - 0s - loss: 0.4929 - accuracy: 0.7925 - val_loss: 0.4420 - val_accuracy: 0.8432 - 55ms/epoch - 4ms/step\n",
            "Epoch 462/500\n",
            "14/14 - 0s - loss: 0.4902 - accuracy: 0.7972 - val_loss: 0.4549 - val_accuracy: 0.8432 - 47ms/epoch - 3ms/step\n",
            "Epoch 463/500\n",
            "14/14 - 0s - loss: 0.5259 - accuracy: 0.7879 - val_loss: 0.6744 - val_accuracy: 0.5297 - 48ms/epoch - 3ms/step\n",
            "Epoch 464/500\n",
            "14/14 - 0s - loss: 0.5141 - accuracy: 0.7809 - val_loss: 0.5223 - val_accuracy: 0.7622 - 55ms/epoch - 4ms/step\n",
            "Epoch 465/500\n",
            "14/14 - 0s - loss: 0.5110 - accuracy: 0.7832 - val_loss: 0.4442 - val_accuracy: 0.8432 - 47ms/epoch - 3ms/step\n",
            "Epoch 466/500\n",
            "14/14 - 0s - loss: 0.5112 - accuracy: 0.7855 - val_loss: 0.4638 - val_accuracy: 0.8486 - 47ms/epoch - 3ms/step\n",
            "Epoch 467/500\n",
            "14/14 - 0s - loss: 0.5030 - accuracy: 0.7902 - val_loss: 0.4350 - val_accuracy: 0.8432 - 50ms/epoch - 4ms/step\n",
            "Epoch 468/500\n",
            "14/14 - 0s - loss: 0.4945 - accuracy: 0.7949 - val_loss: 0.4467 - val_accuracy: 0.8378 - 52ms/epoch - 4ms/step\n",
            "Epoch 469/500\n",
            "14/14 - 0s - loss: 0.4990 - accuracy: 0.7972 - val_loss: 0.4397 - val_accuracy: 0.8432 - 51ms/epoch - 4ms/step\n",
            "Epoch 470/500\n",
            "14/14 - 0s - loss: 0.4946 - accuracy: 0.7762 - val_loss: 0.4396 - val_accuracy: 0.8432 - 44ms/epoch - 3ms/step\n",
            "Epoch 471/500\n",
            "14/14 - 0s - loss: 0.4947 - accuracy: 0.7832 - val_loss: 0.4321 - val_accuracy: 0.8432 - 54ms/epoch - 4ms/step\n",
            "Epoch 472/500\n",
            "14/14 - 0s - loss: 0.4998 - accuracy: 0.7949 - val_loss: 0.4318 - val_accuracy: 0.8432 - 45ms/epoch - 3ms/step\n",
            "Epoch 473/500\n",
            "14/14 - 0s - loss: 0.4955 - accuracy: 0.7972 - val_loss: 0.4522 - val_accuracy: 0.8378 - 39ms/epoch - 3ms/step\n",
            "Epoch 474/500\n",
            "14/14 - 0s - loss: 0.5080 - accuracy: 0.7949 - val_loss: 0.4452 - val_accuracy: 0.8432 - 56ms/epoch - 4ms/step\n",
            "Epoch 475/500\n",
            "14/14 - 0s - loss: 0.4944 - accuracy: 0.7995 - val_loss: 0.4334 - val_accuracy: 0.8432 - 39ms/epoch - 3ms/step\n",
            "Epoch 476/500\n",
            "14/14 - 0s - loss: 0.4965 - accuracy: 0.7972 - val_loss: 0.4350 - val_accuracy: 0.8432 - 44ms/epoch - 3ms/step\n",
            "Epoch 477/500\n",
            "14/14 - 0s - loss: 0.4902 - accuracy: 0.7925 - val_loss: 0.4468 - val_accuracy: 0.8378 - 44ms/epoch - 3ms/step\n",
            "Epoch 478/500\n",
            "14/14 - 0s - loss: 0.5060 - accuracy: 0.7925 - val_loss: 0.4876 - val_accuracy: 0.8108 - 57ms/epoch - 4ms/step\n",
            "Epoch 479/500\n",
            "14/14 - 0s - loss: 0.5171 - accuracy: 0.7925 - val_loss: 0.4805 - val_accuracy: 0.8486 - 59ms/epoch - 4ms/step\n",
            "Epoch 480/500\n",
            "14/14 - 0s - loss: 0.5257 - accuracy: 0.7832 - val_loss: 0.4691 - val_accuracy: 0.8486 - 56ms/epoch - 4ms/step\n",
            "Epoch 481/500\n",
            "14/14 - 0s - loss: 0.5039 - accuracy: 0.7972 - val_loss: 0.4520 - val_accuracy: 0.8432 - 65ms/epoch - 5ms/step\n",
            "Epoch 482/500\n",
            "14/14 - 0s - loss: 0.4984 - accuracy: 0.7972 - val_loss: 0.4484 - val_accuracy: 0.8378 - 68ms/epoch - 5ms/step\n",
            "Epoch 483/500\n",
            "14/14 - 0s - loss: 0.4917 - accuracy: 0.7902 - val_loss: 0.4591 - val_accuracy: 0.8486 - 58ms/epoch - 4ms/step\n",
            "Epoch 484/500\n",
            "14/14 - 0s - loss: 0.4959 - accuracy: 0.7925 - val_loss: 0.5297 - val_accuracy: 0.7622 - 56ms/epoch - 4ms/step\n",
            "Epoch 485/500\n",
            "14/14 - 0s - loss: 0.5042 - accuracy: 0.7995 - val_loss: 0.4332 - val_accuracy: 0.8432 - 58ms/epoch - 4ms/step\n",
            "Epoch 486/500\n",
            "14/14 - 0s - loss: 0.4965 - accuracy: 0.7949 - val_loss: 0.4396 - val_accuracy: 0.8432 - 59ms/epoch - 4ms/step\n",
            "Epoch 487/500\n",
            "14/14 - 0s - loss: 0.4999 - accuracy: 0.7925 - val_loss: 0.4965 - val_accuracy: 0.8378 - 58ms/epoch - 4ms/step\n",
            "Epoch 488/500\n",
            "14/14 - 0s - loss: 0.5058 - accuracy: 0.7902 - val_loss: 0.4314 - val_accuracy: 0.8432 - 55ms/epoch - 4ms/step\n",
            "Epoch 489/500\n",
            "14/14 - 0s - loss: 0.5019 - accuracy: 0.7902 - val_loss: 0.4570 - val_accuracy: 0.8378 - 52ms/epoch - 4ms/step\n",
            "Epoch 490/500\n",
            "14/14 - 0s - loss: 0.4989 - accuracy: 0.7879 - val_loss: 0.4623 - val_accuracy: 0.8378 - 54ms/epoch - 4ms/step\n",
            "Epoch 491/500\n",
            "14/14 - 0s - loss: 0.4948 - accuracy: 0.7949 - val_loss: 0.4336 - val_accuracy: 0.8432 - 62ms/epoch - 4ms/step\n",
            "Epoch 492/500\n",
            "14/14 - 0s - loss: 0.5161 - accuracy: 0.7972 - val_loss: 0.5078 - val_accuracy: 0.7838 - 62ms/epoch - 4ms/step\n",
            "Epoch 493/500\n",
            "14/14 - 0s - loss: 0.5013 - accuracy: 0.7949 - val_loss: 0.4343 - val_accuracy: 0.8432 - 60ms/epoch - 4ms/step\n",
            "Epoch 494/500\n",
            "14/14 - 0s - loss: 0.4989 - accuracy: 0.7855 - val_loss: 0.4316 - val_accuracy: 0.8432 - 55ms/epoch - 4ms/step\n",
            "Epoch 495/500\n",
            "14/14 - 0s - loss: 0.4993 - accuracy: 0.7855 - val_loss: 0.4309 - val_accuracy: 0.8432 - 47ms/epoch - 3ms/step\n",
            "Epoch 496/500\n",
            "14/14 - 0s - loss: 0.4971 - accuracy: 0.7925 - val_loss: 0.4455 - val_accuracy: 0.8432 - 42ms/epoch - 3ms/step\n",
            "Epoch 497/500\n",
            "14/14 - 0s - loss: 0.4969 - accuracy: 0.7949 - val_loss: 0.4350 - val_accuracy: 0.8432 - 53ms/epoch - 4ms/step\n",
            "Epoch 498/500\n",
            "14/14 - 0s - loss: 0.5050 - accuracy: 0.7995 - val_loss: 0.4307 - val_accuracy: 0.8432 - 53ms/epoch - 4ms/step\n",
            "Epoch 499/500\n",
            "14/14 - 0s - loss: 0.5093 - accuracy: 0.7949 - val_loss: 0.4363 - val_accuracy: 0.8432 - 49ms/epoch - 4ms/step\n",
            "Epoch 500/500\n",
            "14/14 - 0s - loss: 0.4982 - accuracy: 0.7949 - val_loss: 0.4535 - val_accuracy: 0.8378 - 55ms/epoch - 4ms/step\n"
          ]
        }
      ]
    },
    {
      "cell_type": "markdown",
      "source": [
        "Checking the accuracy of neural network model"
      ],
      "metadata": {
        "id": "h44A0_IopQXy"
      }
    },
    {
      "cell_type": "code",
      "source": [
        "from sklearn.metrics import accuracy_score\n",
        "#predict_classes = model.predict_classes(X_test)\n",
        "predict_classes=model.predict(x_test) \n",
        "acc = accuracy_score(y_test,predict_classes.round())\n",
        "print(f\"Accuracy: {acc}\")"
      ],
      "metadata": {
        "colab": {
          "base_uri": "https://localhost:8080/"
        },
        "id": "Ryz5d5E5noJF",
        "outputId": "d4ce8a05-a7ed-44a6-e635-7c91c39c9486"
      },
      "execution_count": 72,
      "outputs": [
        {
          "output_type": "stream",
          "name": "stdout",
          "text": [
            "Accuracy: 0.8378378378378378\n"
          ]
        }
      ]
    },
    {
      "cell_type": "markdown",
      "source": [
        "**3. XGBoost classifier**\n",
        "\n",
        "In this algorithm, decision trees are created in sequential form. Weights play an important role in XGBoost. Weights are assigned to all the independent variables which are then fed into the decision tree which predicts results. Weight of variables predicted wrong by the tree is increased and these the variables are then fed to the second decision tree. These individual classifiers/predictors then ensemble to give a strong and more precise model. It can work on regression, classification, ranking, and user-defined prediction problems."
      ],
      "metadata": {
        "id": "x4j-YgcupcWy"
      }
    },
    {
      "cell_type": "code",
      "source": [
        "x_train.shape, y_train.shape"
      ],
      "metadata": {
        "colab": {
          "base_uri": "https://localhost:8080/"
        },
        "id": "6LMkWcIDqFww",
        "outputId": "7810b995-6725-40c6-a388-720e379af2ce"
      },
      "execution_count": 73,
      "outputs": [
        {
          "output_type": "execute_result",
          "data": {
            "text/plain": [
              "((429, 14), (429,))"
            ]
          },
          "metadata": {},
          "execution_count": 73
        }
      ]
    },
    {
      "cell_type": "code",
      "source": [
        "from xgboost import XGBClassifier\n",
        "lr_range = [0.001,0.01,0.2,0.5,0.6,1]\n",
        "n_est_range = [30,70,100,120,150]\n",
        "depth_range = [3,4,5,6,7,8,9]\n",
        "\n",
        "parameters = dict(learning_rate=lr_range,\n",
        "                  n_estimators=n_est_range,\n",
        "                  max_depth=depth_range)\n",
        "\n",
        "from sklearn.model_selection import StratifiedKFold\n",
        "from sklearn.model_selection import RandomizedSearchCV\n",
        "kfold = StratifiedKFold(n_splits=5, random_state=42,shuffle=True)\n",
        "\n",
        "clf = XGBClassifier(random_state=2020)\n",
        "rcv = RandomizedSearchCV(clf, param_distributions=parameters,\n",
        "                  cv=kfold,scoring='roc_auc',n_iter=15,random_state=2020)\n",
        "\n",
        "rcv.fit(x_train, y_train)\n",
        "df_rcv = pd.DataFrame(rcv.cv_results_)\n",
        "print(rcv.best_params_)\n",
        "\n",
        "print(rcv.best_score_)"
      ],
      "metadata": {
        "colab": {
          "base_uri": "https://localhost:8080/"
        },
        "id": "VpJPpBzFo4s3",
        "outputId": "2ad27f32-63a8-4d0d-9951-457ce6ff1933"
      },
      "execution_count": 74,
      "outputs": [
        {
          "output_type": "stream",
          "name": "stdout",
          "text": [
            "{'n_estimators': 150, 'max_depth': 3, 'learning_rate': 0.01}\n",
            "0.74069184300774\n"
          ]
        }
      ]
    },
    {
      "cell_type": "markdown",
      "source": [
        "**4. Using Stacking method (Ensemble learning methods)**\n",
        "\n",
        "Stacking is a way of ensembling classification or regression models it consists of two-layer estimators. The first layer consists of all the baseline models that are used to predict the outputs on the test datasets. The second layer consists of Meta-Classifier or Regressor which takes all the predictions of baseline models as an input and generate new predictions."
      ],
      "metadata": {
        "id": "04MbwHzas4ha"
      }
    },
    {
      "cell_type": "code",
      "source": [
        "logreg = LogisticRegression( max_iter=100)\n",
        "\n",
        "from sklearn.svm import SVC\n",
        "svc = SVC(probability = True,kernel='rbf',random_state=2020)\n",
        "\n",
        "from sklearn.naive_bayes import GaussianNB\n",
        "gaussian = GaussianNB()\n",
        "\n",
        "from sklearn.tree import DecisionTreeClassifier\n",
        "dtc = DecisionTreeClassifier(random_state=42,max_depth = 4)\n",
        "\n",
        "from sklearn.ensemble import StackingClassifier\n",
        "models_considered = [('Logistic Regression', logreg),\n",
        "                     ('SVM', svc),('Naive Bayes',gaussian),\n",
        "                     ('Decision Tree',dtc)]\n",
        "\n",
        "stack = StackingClassifier(estimators = models_considered,\n",
        "                           final_estimator=clf,\n",
        "                           stack_method=\"predict_proba\",\n",
        "                           passthrough=True)\n",
        "\n",
        "stack.fit(x_train, y_train)\n",
        "\n",
        "y_pred_prob = stack.predict_proba(x_test)[:,1]\n",
        "\n",
        "from sklearn.metrics import roc_auc_score\n",
        "print(roc_auc_score(y_test, y_pred_prob))\n",
        "\n",
        "print('Accuracy score', accuracy_score(y_pred_prob.round(),y_test))"
      ],
      "metadata": {
        "colab": {
          "base_uri": "https://localhost:8080/"
        },
        "id": "2_1DPyFAp2An",
        "outputId": "fb2b2e52-a6fe-4601-f002-3f176fce6e46"
      },
      "execution_count": 75,
      "outputs": [
        {
          "output_type": "stream",
          "name": "stderr",
          "text": [
            "/usr/local/lib/python3.7/dist-packages/sklearn/linear_model/_logistic.py:818: ConvergenceWarning: lbfgs failed to converge (status=1):\n",
            "STOP: TOTAL NO. of ITERATIONS REACHED LIMIT.\n",
            "\n",
            "Increase the number of iterations (max_iter) or scale the data as shown in:\n",
            "    https://scikit-learn.org/stable/modules/preprocessing.html\n",
            "Please also refer to the documentation for alternative solver options:\n",
            "    https://scikit-learn.org/stable/modules/linear_model.html#logistic-regression\n",
            "  extra_warning_msg=_LOGISTIC_SOLVER_CONVERGENCE_MSG,\n",
            "/usr/local/lib/python3.7/dist-packages/sklearn/linear_model/_logistic.py:818: ConvergenceWarning: lbfgs failed to converge (status=1):\n",
            "STOP: TOTAL NO. of ITERATIONS REACHED LIMIT.\n",
            "\n",
            "Increase the number of iterations (max_iter) or scale the data as shown in:\n",
            "    https://scikit-learn.org/stable/modules/preprocessing.html\n",
            "Please also refer to the documentation for alternative solver options:\n",
            "    https://scikit-learn.org/stable/modules/linear_model.html#logistic-regression\n",
            "  extra_warning_msg=_LOGISTIC_SOLVER_CONVERGENCE_MSG,\n",
            "/usr/local/lib/python3.7/dist-packages/sklearn/linear_model/_logistic.py:818: ConvergenceWarning: lbfgs failed to converge (status=1):\n",
            "STOP: TOTAL NO. of ITERATIONS REACHED LIMIT.\n",
            "\n",
            "Increase the number of iterations (max_iter) or scale the data as shown in:\n",
            "    https://scikit-learn.org/stable/modules/preprocessing.html\n",
            "Please also refer to the documentation for alternative solver options:\n",
            "    https://scikit-learn.org/stable/modules/linear_model.html#logistic-regression\n",
            "  extra_warning_msg=_LOGISTIC_SOLVER_CONVERGENCE_MSG,\n",
            "/usr/local/lib/python3.7/dist-packages/sklearn/linear_model/_logistic.py:818: ConvergenceWarning: lbfgs failed to converge (status=1):\n",
            "STOP: TOTAL NO. of ITERATIONS REACHED LIMIT.\n",
            "\n",
            "Increase the number of iterations (max_iter) or scale the data as shown in:\n",
            "    https://scikit-learn.org/stable/modules/preprocessing.html\n",
            "Please also refer to the documentation for alternative solver options:\n",
            "    https://scikit-learn.org/stable/modules/linear_model.html#logistic-regression\n",
            "  extra_warning_msg=_LOGISTIC_SOLVER_CONVERGENCE_MSG,\n"
          ]
        },
        {
          "output_type": "stream",
          "name": "stdout",
          "text": [
            "0.8165143964562569\n",
            "Accuracy score 0.8054054054054054\n"
          ]
        }
      ]
    },
    {
      "cell_type": "markdown",
      "source": [
        "**5. Stochastic Gradient descent classifier**"
      ],
      "metadata": {
        "id": "iQHtCunDukr-"
      }
    },
    {
      "cell_type": "code",
      "source": [
        "#importing libraries\n",
        "from sklearn import linear_model\n",
        "\n",
        "SGDClf = linear_model.SGDClassifier(max_iter = 1000, tol=1e-3,penalty = \"elasticnet\")\n",
        "SGDClf.fit(x_train,y_train)\n",
        "y_pred = SGDClf.predict(x_test)\n",
        "print('SGDClassifier Model Accuracy : ', accuracy_score(y_pred,y_test))"
      ],
      "metadata": {
        "colab": {
          "base_uri": "https://localhost:8080/"
        },
        "id": "W-l_paW_tLvP",
        "outputId": "59e6fdfb-a2b9-4b3e-9b67-5baf80b87f60"
      },
      "execution_count": 76,
      "outputs": [
        {
          "output_type": "stream",
          "name": "stdout",
          "text": [
            "SGDClassifier Model Accuracy :  0.827027027027027\n"
          ]
        }
      ]
    },
    {
      "cell_type": "markdown",
      "source": [
        "**6. Bagging method(Ensembled machine learning)**\n",
        "\n",
        "A Bagging classifier is an ensemble meta-estimator that fits base classifiers each on random subsets of the original dataset and then aggregate their individual predictions (either by voting or by averaging) to form a final prediction. Such a meta-estimator can typically be used as a way to reduce the variance of a black-box estimator (e.g., a decision tree), by introducing randomization into its construction procedure and then making an ensemble out of it.\n",
        "Each base classifier is trained in parallel with a training set which is generated by randomly drawing, with replacement, N examples(or data) from the original training dataset – where N is the size of the original training set. Training set for each of the base classifiers is independent of each other. Many of the original data may be repeated in the resulting training set while others may be left out.\n",
        "\n",
        "Bagging reduces overfitting (variance) by averaging or voting, however, this leads to an increase in bias, which is compensated by the reduction in variance though."
      ],
      "metadata": {
        "id": "rC_kTvCFu4_V"
      }
    },
    {
      "cell_type": "code",
      "source": [
        "from sklearn.ensemble import BaggingClassifier\n",
        "\n",
        "model_bg = BaggingClassifier(random_state=2021,oob_score=True,\n",
        "                             max_features=x_train.shape[1],\n",
        "                             n_estimators=15,\n",
        "                             max_samples=x_train.shape[0])\n",
        "\n",
        "model_bg.fit(x_train,y_train)\n",
        "\n",
        "print(\"Out of Bag Score = \" + \"{:.4f}\".format(model_bg.oob_score_))\n",
        "\n",
        "y_pred = model_bg.predict(x_test)\n",
        "\n",
        "print(confusion_matrix(y_test, y_pred))\n",
        "print(classification_report(y_test, y_pred))\n",
        "print(accuracy_score(y_test, y_pred))"
      ],
      "metadata": {
        "colab": {
          "base_uri": "https://localhost:8080/"
        },
        "id": "fwPACsIuutTA",
        "outputId": "1acc1522-368d-42e3-ef0e-37a9a8d505c3"
      },
      "execution_count": 77,
      "outputs": [
        {
          "output_type": "stream",
          "name": "stdout",
          "text": [
            "Out of Bag Score = 0.7110\n",
            "[[ 33  23]\n",
            " [ 13 116]]\n",
            "              precision    recall  f1-score   support\n",
            "\n",
            "           0       0.72      0.59      0.65        56\n",
            "           1       0.83      0.90      0.87       129\n",
            "\n",
            "    accuracy                           0.81       185\n",
            "   macro avg       0.78      0.74      0.76       185\n",
            "weighted avg       0.80      0.81      0.80       185\n",
            "\n",
            "0.8054054054054054\n"
          ]
        },
        {
          "output_type": "stream",
          "name": "stderr",
          "text": [
            "/usr/local/lib/python3.7/dist-packages/sklearn/ensemble/_bagging.py:707: UserWarning: Some inputs do not have OOB scores. This probably means too few estimators were used to compute any reliable oob estimates.\n",
            "  \"Some inputs do not have OOB scores. \"\n",
            "/usr/local/lib/python3.7/dist-packages/sklearn/ensemble/_bagging.py:712: RuntimeWarning: invalid value encountered in true_divide\n",
            "  oob_decision_function = predictions / predictions.sum(axis=1)[:, np.newaxis]\n"
          ]
        }
      ]
    },
    {
      "cell_type": "markdown",
      "source": [
        "We created and tested several models, and the '**Logistic regression**' model outperformed the others."
      ],
      "metadata": {
        "id": "8fih8dklxov8"
      }
    }
  ]
}